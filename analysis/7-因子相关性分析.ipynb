{
 "cells": [
  {
   "cell_type": "markdown",
   "id": "048eee47-a017-463c-843f-a3ff1afec1f0",
   "metadata": {},
   "source": [
    "# 因子相关性分析"
   ]
  },
  {
   "cell_type": "markdown",
   "id": "cebf97fe-db31-490f-b585-f77bced38527",
   "metadata": {},
   "source": [
    "## 导入模块"
   ]
  },
  {
   "cell_type": "code",
   "execution_count": 1,
   "id": "93517df8-a584-45cd-8e88-eecaf1d00816",
   "metadata": {},
   "outputs": [],
   "source": [
    "import numpy as np\n",
    "import pandas as pd\n",
    "import feather\n",
    "from matplotlib import pyplot as plt\n",
    "from scipy import stats\n",
    "import statsmodels.api as sm\n",
    "import sunlandsdatasdk as sd"
   ]
  },
  {
   "cell_type": "markdown",
   "id": "e4d515aa-72e5-4dda-8938-4304a4dade7e",
   "metadata": {},
   "source": [
    "## 设置回测区间"
   ]
  },
  {
   "cell_type": "code",
   "execution_count": 2,
   "id": "ff7b191e-5e71-48b8-809e-8fd09ce01e85",
   "metadata": {},
   "outputs": [],
   "source": [
    "start_date = '2019-08-01'\n",
    "end_date = '2024-12-31'"
   ]
  },
  {
   "cell_type": "markdown",
   "id": "d9a00cb7-4e56-4145-850e-a6b13d2c3704",
   "metadata": {},
   "source": [
    "## 读入数据"
   ]
  },
  {
   "cell_type": "markdown",
   "id": "b6a87fbf-4d71-4d8d-8602-729075e5d441",
   "metadata": {},
   "source": [
    "### 读入风险因子"
   ]
  },
  {
   "cell_type": "code",
   "execution_count": 3,
   "id": "b4bf9953-e5ac-4a1b-95ef-e9268134ffc7",
   "metadata": {},
   "outputs": [],
   "source": [
    "fields = [\n",
    "    'beta', 'book_to_price', 'earnings_yield', 'growth',\n",
    "    'leverage', 'liquidity', 'momentum', 'size'\n",
    "]"
   ]
  },
  {
   "cell_type": "code",
   "execution_count": 4,
   "id": "b7f9efb7-3010-4bf4-94f3-7ffef7f4f2b5",
   "metadata": {},
   "outputs": [],
   "source": [
    "# sd.auth('*', '*')\n",
    "# issues = sd.get_index_stocks('999998', weight=False)\n",
    "# factor_exposure = sd.get_factor_exposure(\n",
    "#     issues,\n",
    "#     start_date=start_date, end_date=end_date,\n",
    "#     factors=fields\n",
    "# )\n",
    "\n",
    "# risk_factors = (\n",
    "#     factor_exposure[fields]\n",
    "#         .reset_index()\n",
    "#         .rename(columns={'order_book_id': 'issue'})\n",
    "# )\n",
    "# feather.write_dataframe(risk_factors, '../data/risk_factors_daily.feather')"
   ]
  },
  {
   "cell_type": "code",
   "execution_count": 5,
   "id": "a6ba8b18-ad86-442d-9075-0c65a3bb52b0",
   "metadata": {},
   "outputs": [],
   "source": [
    "risk_factors_daily = feather.read_dataframe('../data/risk_factors_daily.feather')"
   ]
  },
  {
   "cell_type": "markdown",
   "id": "290eb203-2f40-427c-942e-6a2d1c907518",
   "metadata": {},
   "source": [
    "### 读入点度中心性因子、相对动量因子"
   ]
  },
  {
   "cell_type": "code",
   "execution_count": 6,
   "id": "6629fa33-c234-464a-ab60-7d631cc59e26",
   "metadata": {},
   "outputs": [],
   "source": [
    "# dirname_connect = '../data/N_connect/N_connect_0_1/'\n",
    "dirname_connect = '../data/N_connect_daily/N_connect_0_1/'\n",
    "N_connect = feather.read_dataframe(dirname_connect + '/neutral_N_connect.feather')\n",
    "N_connect = N_connect.rename(columns={\n",
    "    'indus_factor': 'indus_connect',\n",
    "    'neutral_factor': 'neutral_connect'\n",
    "})\n",
    "# dirname_peer = '../data/peer_ret/'\n",
    "dirname_peer = '../data/peer_ret_daily/'\n",
    "relative_without_posjump = feather.read_dataframe(dirname_peer + '/neutral_peer_without_posjump.feather')\n",
    "relative_without_posjump = relative_without_posjump.rename(columns={\n",
    "    'indus_factor': 'indus_peer',\n",
    "    'neutral_factor': 'neutral_peer'\n",
    "})"
   ]
  },
  {
   "cell_type": "code",
   "execution_count": 7,
   "id": "5ef82282-8cc4-4a78-8ac9-f66ee2365423",
   "metadata": {},
   "outputs": [],
   "source": [
    "factors = pd.merge(\n",
    "    risk_factors_daily,\n",
    "    N_connect[['issue', 'date', 'N_connect', 'indus_connect', 'neutral_connect']],\n",
    "    on=['issue', 'date'],\n",
    "    how='inner'\n",
    ")\n",
    "factors = pd.merge(\n",
    "    factors,\n",
    "    relative_without_posjump[['issue', 'date', 'peer_relative_ret', 'indus_peer', 'neutral_peer']],\n",
    "    on=['issue', 'date'],\n",
    "    how='inner'\n",
    ")"
   ]
  },
  {
   "cell_type": "markdown",
   "id": "431461cf-dc52-4e25-b717-1a8e367fd813",
   "metadata": {},
   "source": [
    "## 计算相关性"
   ]
  },
  {
   "cell_type": "code",
   "execution_count": 8,
   "id": "5913c407-3d4f-4336-8040-c78445f6354c",
   "metadata": {},
   "outputs": [],
   "source": [
    "def get_corr(factors:pd.DataFrame, focus:str, factor_list:list):\n",
    "    df_corr = factors.apply(stats.spearmanr, b=factors[focus], axis=0)\n",
    "    return df_corr.iloc[0]"
   ]
  },
  {
   "cell_type": "code",
   "execution_count": 9,
   "id": "152b35ca-321b-49a5-8e2b-aff285a5ca46",
   "metadata": {},
   "outputs": [
    {
     "data": {
      "text/html": [
       "<div>\n",
       "<style scoped>\n",
       "    .dataframe tbody tr th:only-of-type {\n",
       "        vertical-align: middle;\n",
       "    }\n",
       "\n",
       "    .dataframe tbody tr th {\n",
       "        vertical-align: top;\n",
       "    }\n",
       "\n",
       "    .dataframe thead th {\n",
       "        text-align: right;\n",
       "    }\n",
       "</style>\n",
       "<table border=\"1\" class=\"dataframe\">\n",
       "  <thead>\n",
       "    <tr style=\"text-align: right;\">\n",
       "      <th></th>\n",
       "      <th>N_connect</th>\n",
       "      <th>peer_relative_ret</th>\n",
       "      <th>beta</th>\n",
       "      <th>book_to_price</th>\n",
       "      <th>earnings_yield</th>\n",
       "      <th>growth</th>\n",
       "      <th>leverage</th>\n",
       "      <th>liquidity</th>\n",
       "      <th>momentum</th>\n",
       "      <th>size</th>\n",
       "    </tr>\n",
       "  </thead>\n",
       "  <tbody>\n",
       "    <tr>\n",
       "      <th>0</th>\n",
       "      <td>1.000000</td>\n",
       "      <td>0.424904</td>\n",
       "      <td>0.111463</td>\n",
       "      <td>0.201216</td>\n",
       "      <td>0.095384</td>\n",
       "      <td>-0.002120</td>\n",
       "      <td>-0.017475</td>\n",
       "      <td>-0.152909</td>\n",
       "      <td>-0.185992</td>\n",
       "      <td>-0.086891</td>\n",
       "    </tr>\n",
       "    <tr>\n",
       "      <th>1</th>\n",
       "      <td>0.424904</td>\n",
       "      <td>1.000000</td>\n",
       "      <td>-0.110948</td>\n",
       "      <td>0.244906</td>\n",
       "      <td>0.128905</td>\n",
       "      <td>-0.032163</td>\n",
       "      <td>0.092816</td>\n",
       "      <td>-0.252872</td>\n",
       "      <td>-0.190264</td>\n",
       "      <td>0.006846</td>\n",
       "    </tr>\n",
       "  </tbody>\n",
       "</table>\n",
       "</div>"
      ],
      "text/plain": [
       "0  N_connect  peer_relative_ret      beta  book_to_price  earnings_yield  \\\n",
       "0   1.000000           0.424904  0.111463       0.201216        0.095384   \n",
       "1   0.424904           1.000000 -0.110948       0.244906        0.128905   \n",
       "\n",
       "0    growth  leverage  liquidity  momentum      size  \n",
       "0 -0.002120 -0.017475  -0.152909 -0.185992 -0.086891  \n",
       "1 -0.032163  0.092816  -0.252872 -0.190264  0.006846  "
      ]
     },
     "execution_count": 9,
     "metadata": {},
     "output_type": "execute_result"
    }
   ],
   "source": [
    "connect = 'N_connect'\n",
    "peer = 'peer_relative_ret'\n",
    "factor_list = [connect, peer] + fields\n",
    "df_corr_connect = (\n",
    "    factors\n",
    "        .groupby('date')[factor_list]\n",
    "        .apply(get_corr, focus=connect, factor_list=factor_list)\n",
    ").mean().to_frame().T\n",
    "df_corr_peer = (\n",
    "    factors\n",
    "        .groupby('date')[factor_list]\n",
    "        .apply(get_corr, focus=peer, factor_list=factor_list)\n",
    ").mean().to_frame().T\n",
    "df_corr = pd.concat([df_corr_connect, df_corr_peer]).reset_index(drop=True)\n",
    "df_corr"
   ]
  },
  {
   "cell_type": "markdown",
   "id": "64523d54-3119-4679-98d0-9fd3c8ac8499",
   "metadata": {},
   "source": [
    "## 多元线性回归剔除因子"
   ]
  },
  {
   "cell_type": "code",
   "execution_count": 10,
   "id": "0a7b8439-bbb0-40ed-a393-f7c6c129f49e",
   "metadata": {},
   "outputs": [],
   "source": [
    "x = factors[fields]\n",
    "x = sm.add_constant(x)\n",
    "y = factors[[connect, peer]]\n",
    "result = sm.OLS(y, x).fit()\n",
    "factor_connect = pd.concat([factors[['issue', 'date']], result.resid[connect]], axis=1)\n",
    "feather.write_dataframe(factor_connect, dirname_connect + '/N_connect_residual.feather')\n",
    "factor_peer = pd.concat([factors[['issue', 'date']], result.resid[peer]], axis=1)\n",
    "feather.write_dataframe(factor_peer, dirname_peer + '/peer_without_posjump_residual.feather')"
   ]
  }
 ],
 "metadata": {
  "kernelspec": {
   "display_name": "Python 3 (ipykernel)",
   "language": "python",
   "name": "python3"
  },
  "language_info": {
   "codemirror_mode": {
    "name": "ipython",
    "version": 3
   },
   "file_extension": ".py",
   "mimetype": "text/x-python",
   "name": "python",
   "nbconvert_exporter": "python",
   "pygments_lexer": "ipython3",
   "version": "3.11.9"
  }
 },
 "nbformat": 4,
 "nbformat_minor": 5
}
