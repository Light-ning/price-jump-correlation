{
 "cells": [
  {
   "cell_type": "markdown",
   "id": "048eee47-a017-463c-843f-a3ff1afec1f0",
   "metadata": {},
   "source": [
    "# 因子相关性分析"
   ]
  },
  {
   "cell_type": "markdown",
   "id": "cebf97fe-db31-490f-b585-f77bced38527",
   "metadata": {},
   "source": [
    "## 导入模块"
   ]
  },
  {
   "cell_type": "code",
   "execution_count": 1,
   "id": "93517df8-a584-45cd-8e88-eecaf1d00816",
   "metadata": {},
   "outputs": [],
   "source": [
    "import numpy as np\n",
    "import pandas as pd\n",
    "import feather\n",
    "from matplotlib import pyplot as plt\n",
    "from scipy import stats\n",
    "import sunlandsdatasdk as sd"
   ]
  },
  {
   "cell_type": "markdown",
   "id": "e4d515aa-72e5-4dda-8938-4304a4dade7e",
   "metadata": {},
   "source": [
    "## 设置回测区间"
   ]
  },
  {
   "cell_type": "code",
   "execution_count": 2,
   "id": "ff7b191e-5e71-48b8-809e-8fd09ce01e85",
   "metadata": {},
   "outputs": [],
   "source": [
    "start_date = '2019-08-01'\n",
    "end_date = '2024-12-31'"
   ]
  },
  {
   "cell_type": "markdown",
   "id": "d9a00cb7-4e56-4145-850e-a6b13d2c3704",
   "metadata": {},
   "source": [
    "## 读入数据"
   ]
  },
  {
   "cell_type": "markdown",
   "id": "b6a87fbf-4d71-4d8d-8602-729075e5d441",
   "metadata": {},
   "source": [
    "### 读入风险因子"
   ]
  },
  {
   "cell_type": "code",
   "execution_count": 3,
   "id": "b4bf9953-e5ac-4a1b-95ef-e9268134ffc7",
   "metadata": {},
   "outputs": [],
   "source": [
    "fields = [\n",
    "    'beta', 'book_to_price', 'earnings_yield', 'growth',\n",
    "    'leverage', 'liquidity', 'momentum', 'size'\n",
    "]"
   ]
  },
  {
   "cell_type": "code",
   "execution_count": 4,
   "id": "b7f9efb7-3010-4bf4-94f3-7ffef7f4f2b5",
   "metadata": {},
   "outputs": [],
   "source": [
    "# sd.auth('*', '*')\n",
    "# issues = sd.get_index_stocks('999998', weight=False)\n",
    "# factor_exposure = sd.get_factor_exposure(\n",
    "#     issues,\n",
    "#     start_date=start_date, end_date=end_date,\n",
    "#     factors=fields\n",
    "# )\n",
    "\n",
    "# risk_factors = (\n",
    "#     factor_exposure[fields]\n",
    "#         .reset_index()\n",
    "#         .rename(columns={'order_book_id': 'issue'})\n",
    "# )\n",
    "# feather.write_dataframe(risk_factors, '../data/risk_factors_daily.feather')"
   ]
  },
  {
   "cell_type": "code",
   "execution_count": 5,
   "id": "a6ba8b18-ad86-442d-9075-0c65a3bb52b0",
   "metadata": {},
   "outputs": [],
   "source": [
    "risk_factors_daily = feather.read_dataframe('../data/risk_factors_daily.feather')"
   ]
  },
  {
   "cell_type": "markdown",
   "id": "290eb203-2f40-427c-942e-6a2d1c907518",
   "metadata": {},
   "source": [
    "### 读入点度中心性因子、相对动量因子"
   ]
  },
  {
   "cell_type": "code",
   "execution_count": 6,
   "id": "6629fa33-c234-464a-ab60-7d631cc59e26",
   "metadata": {},
   "outputs": [],
   "source": [
    "N_connect = feather.read_dataframe('../data/N_connect/N_connect_0_1/neutral_N_connect.feather')\n",
    "N_connect = N_connect.rename(columns={\n",
    "    'indus_factor': 'indus_connect',\n",
    "    'neutral_factor': 'neutral_connect'\n",
    "})\n",
    "relative_without_posjump = feather.read_dataframe('../data/peer_ret/neutral_peer_without_posjump.feather')\n",
    "relative_without_posjump = relative_without_posjump.rename(columns={\n",
    "    'indus_factor': 'indus_peer',\n",
    "    'neutral_factor': 'neutral_peer'\n",
    "})"
   ]
  },
  {
   "cell_type": "code",
   "execution_count": 7,
   "id": "5ef82282-8cc4-4a78-8ac9-f66ee2365423",
   "metadata": {},
   "outputs": [],
   "source": [
    "factors = pd.merge(\n",
    "    risk_factors_daily,\n",
    "    N_connect[['issue', 'date', 'N_connect', 'indus_connect', 'neutral_connect']],\n",
    "    on=['issue', 'date'],\n",
    "    how='inner'\n",
    ")\n",
    "factors = pd.merge(\n",
    "    factors,\n",
    "    relative_without_posjump[['issue', 'date', 'peer_relative_ret', 'indus_peer', 'neutral_peer']],\n",
    "    on=['issue', 'date'],\n",
    "    how='inner'\n",
    ")"
   ]
  },
  {
   "cell_type": "markdown",
   "id": "431461cf-dc52-4e25-b717-1a8e367fd813",
   "metadata": {},
   "source": [
    "## 计算相关性"
   ]
  },
  {
   "cell_type": "code",
   "execution_count": 8,
   "id": "5913c407-3d4f-4336-8040-c78445f6354c",
   "metadata": {},
   "outputs": [],
   "source": [
    "def get_corr(factors:pd.DataFrame, focus:str, factor_list:list):\n",
    "    df_corr = factors.apply(stats.spearmanr, b=factors[focus], axis=0)\n",
    "    return df_corr.iloc[0]"
   ]
  },
  {
   "cell_type": "code",
   "execution_count": 9,
   "id": "e869dd8e-3303-4a75-9e46-1aaa3405c4d2",
   "metadata": {},
   "outputs": [
    {
     "data": {
      "text/html": [
       "<div>\n",
       "<style scoped>\n",
       "    .dataframe tbody tr th:only-of-type {\n",
       "        vertical-align: middle;\n",
       "    }\n",
       "\n",
       "    .dataframe tbody tr th {\n",
       "        vertical-align: top;\n",
       "    }\n",
       "\n",
       "    .dataframe thead th {\n",
       "        text-align: right;\n",
       "    }\n",
       "</style>\n",
       "<table border=\"1\" class=\"dataframe\">\n",
       "  <thead>\n",
       "    <tr style=\"text-align: right;\">\n",
       "      <th></th>\n",
       "      <th>N_connect</th>\n",
       "      <th>peer_relative_ret</th>\n",
       "      <th>beta</th>\n",
       "      <th>book_to_price</th>\n",
       "      <th>earnings_yield</th>\n",
       "      <th>growth</th>\n",
       "      <th>leverage</th>\n",
       "      <th>liquidity</th>\n",
       "      <th>momentum</th>\n",
       "      <th>size</th>\n",
       "    </tr>\n",
       "  </thead>\n",
       "  <tbody>\n",
       "    <tr>\n",
       "      <th>0</th>\n",
       "      <td>1.000000</td>\n",
       "      <td>0.429678</td>\n",
       "      <td>0.111270</td>\n",
       "      <td>0.200229</td>\n",
       "      <td>0.094464</td>\n",
       "      <td>-0.001618</td>\n",
       "      <td>-0.019364</td>\n",
       "      <td>-0.153215</td>\n",
       "      <td>-0.181602</td>\n",
       "      <td>-0.087161</td>\n",
       "    </tr>\n",
       "    <tr>\n",
       "      <th>1</th>\n",
       "      <td>0.429678</td>\n",
       "      <td>1.000000</td>\n",
       "      <td>-0.112829</td>\n",
       "      <td>0.243645</td>\n",
       "      <td>0.129954</td>\n",
       "      <td>-0.027400</td>\n",
       "      <td>0.097073</td>\n",
       "      <td>-0.256727</td>\n",
       "      <td>-0.188764</td>\n",
       "      <td>0.008491</td>\n",
       "    </tr>\n",
       "  </tbody>\n",
       "</table>\n",
       "</div>"
      ],
      "text/plain": [
       "0  N_connect  peer_relative_ret      beta  book_to_price  earnings_yield  \\\n",
       "0   1.000000           0.429678  0.111270       0.200229        0.094464   \n",
       "1   0.429678           1.000000 -0.112829       0.243645        0.129954   \n",
       "\n",
       "0    growth  leverage  liquidity  momentum      size  \n",
       "0 -0.001618 -0.019364  -0.153215 -0.181602 -0.087161  \n",
       "1 -0.027400  0.097073  -0.256727 -0.188764  0.008491  "
      ]
     },
     "execution_count": 9,
     "metadata": {},
     "output_type": "execute_result"
    }
   ],
   "source": [
    "f1 = 'N_connect'\n",
    "f2 = 'peer_relative_ret'\n",
    "factor_list = [f1, f2] + fields\n",
    "df_corr_connect = (\n",
    "    factors\n",
    "        .groupby('date')[factor_list]\n",
    "        .apply(get_corr, focus=f1, factor_list=factor_list)\n",
    ").mean().to_frame().T\n",
    "df_corr_peer = (\n",
    "    factors\n",
    "        .groupby('date')[factor_list]\n",
    "        .apply(get_corr, focus=f2, factor_list=factor_list)\n",
    ").mean().to_frame().T\n",
    "df_corr = pd.concat([df_corr_connect, df_corr_peer]).reset_index(drop=True)\n",
    "df_corr"
   ]
  },
  {
   "cell_type": "code",
   "execution_count": 10,
   "id": "152b35ca-321b-49a5-8e2b-aff285a5ca46",
   "metadata": {},
   "outputs": [
    {
     "data": {
      "text/html": [
       "<div>\n",
       "<style scoped>\n",
       "    .dataframe tbody tr th:only-of-type {\n",
       "        vertical-align: middle;\n",
       "    }\n",
       "\n",
       "    .dataframe tbody tr th {\n",
       "        vertical-align: top;\n",
       "    }\n",
       "\n",
       "    .dataframe thead th {\n",
       "        text-align: right;\n",
       "    }\n",
       "</style>\n",
       "<table border=\"1\" class=\"dataframe\">\n",
       "  <thead>\n",
       "    <tr style=\"text-align: right;\">\n",
       "      <th></th>\n",
       "      <th>neutral_connect</th>\n",
       "      <th>neutral_peer</th>\n",
       "      <th>beta</th>\n",
       "      <th>book_to_price</th>\n",
       "      <th>earnings_yield</th>\n",
       "      <th>growth</th>\n",
       "      <th>leverage</th>\n",
       "      <th>liquidity</th>\n",
       "      <th>momentum</th>\n",
       "      <th>size</th>\n",
       "    </tr>\n",
       "  </thead>\n",
       "  <tbody>\n",
       "    <tr>\n",
       "      <th>0</th>\n",
       "      <td>1.000000</td>\n",
       "      <td>0.435245</td>\n",
       "      <td>0.087737</td>\n",
       "      <td>0.200888</td>\n",
       "      <td>0.112309</td>\n",
       "      <td>0.010274</td>\n",
       "      <td>-0.002613</td>\n",
       "      <td>-0.169570</td>\n",
       "      <td>-0.147399</td>\n",
       "      <td>0.002060</td>\n",
       "    </tr>\n",
       "    <tr>\n",
       "      <th>1</th>\n",
       "      <td>0.435245</td>\n",
       "      <td>1.000000</td>\n",
       "      <td>-0.050194</td>\n",
       "      <td>0.182730</td>\n",
       "      <td>0.081298</td>\n",
       "      <td>-0.019475</td>\n",
       "      <td>0.046282</td>\n",
       "      <td>-0.199396</td>\n",
       "      <td>-0.150696</td>\n",
       "      <td>0.000986</td>\n",
       "    </tr>\n",
       "  </tbody>\n",
       "</table>\n",
       "</div>"
      ],
      "text/plain": [
       "0  neutral_connect  neutral_peer      beta  book_to_price  earnings_yield  \\\n",
       "0         1.000000      0.435245  0.087737       0.200888        0.112309   \n",
       "1         0.435245      1.000000 -0.050194       0.182730        0.081298   \n",
       "\n",
       "0    growth  leverage  liquidity  momentum      size  \n",
       "0  0.010274 -0.002613  -0.169570 -0.147399  0.002060  \n",
       "1 -0.019475  0.046282  -0.199396 -0.150696  0.000986  "
      ]
     },
     "execution_count": 10,
     "metadata": {},
     "output_type": "execute_result"
    }
   ],
   "source": [
    "f1 = 'neutral_connect'\n",
    "f2 = 'neutral_peer'\n",
    "factor_list = [f1, f2] + fields\n",
    "df_corr_connect = (\n",
    "    factors\n",
    "        .groupby('date')[factor_list]\n",
    "        .apply(get_corr, focus=f1, factor_list=factor_list)\n",
    ").mean().to_frame().T\n",
    "df_corr_peer = (\n",
    "    factors\n",
    "        .groupby('date')[factor_list]\n",
    "        .apply(get_corr, focus=f2, factor_list=factor_list)\n",
    ").mean().to_frame().T\n",
    "df_corr = pd.concat([df_corr_connect, df_corr_peer]).reset_index(drop=True)\n",
    "df_corr"
   ]
  }
 ],
 "metadata": {
  "kernelspec": {
   "display_name": "Python 3 (ipykernel)",
   "language": "python",
   "name": "python3"
  },
  "language_info": {
   "codemirror_mode": {
    "name": "ipython",
    "version": 3
   },
   "file_extension": ".py",
   "mimetype": "text/x-python",
   "name": "python",
   "nbconvert_exporter": "python",
   "pygments_lexer": "ipython3",
   "version": "3.11.9"
  }
 },
 "nbformat": 4,
 "nbformat_minor": 5
}
