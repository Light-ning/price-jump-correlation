{
 "cells": [
  {
   "cell_type": "markdown",
   "id": "0472e6d7-2eb0-4134-abb3-21aec7730eac",
   "metadata": {},
   "source": [
    "# 因子回测"
   ]
  },
  {
   "cell_type": "markdown",
   "id": "76deb797-8066-4dcf-92e8-e0473369d805",
   "metadata": {},
   "source": [
    "## 导入模块"
   ]
  },
  {
   "cell_type": "code",
   "execution_count": 8,
   "id": "89827585-ae3b-46a4-9786-81742ff826cc",
   "metadata": {},
   "outputs": [],
   "source": [
    "import numpy as np\n",
    "import pandas as pd\n",
    "from matplotlib import pyplot as plt\n",
    "import feather\n",
    "import os"
   ]
  },
  {
   "cell_type": "markdown",
   "id": "17ce1906-71a6-4272-871b-613ea6bc58f8",
   "metadata": {},
   "source": [
    "## 读入日线数据"
   ]
  },
  {
   "cell_type": "markdown",
   "id": "dc61806c-f47b-463f-bc81-b022e548ca9c",
   "metadata": {},
   "source": [
    "### 读入日线数据"
   ]
  },
  {
   "cell_type": "code",
   "execution_count": 2,
   "id": "17f925f4-5fdb-44b9-97b0-13f8a39d5ce5",
   "metadata": {},
   "outputs": [],
   "source": [
    "price_1d = feather.read_dataframe('../data/StockPriceK1d_20240630.feather')"
   ]
  },
  {
   "cell_type": "markdown",
   "id": "02dc76ff-c7b5-4e16-bd65-73c81eb16b5f",
   "metadata": {},
   "source": [
    "### 计算调仓日"
   ]
  },
  {
   "cell_type": "code",
   "execution_count": 49,
   "id": "a8545da8-cf8c-4078-9422-36ca93584b58",
   "metadata": {},
   "outputs": [],
   "source": [
    "trade_date = price_1d['date'].sort_values().unique()\n",
    "mes = pd.date_range(start='2019-08-01', end=trade_date[-1]+pd.DateOffset(months=1), freq='1ME')\n",
    "adj_date = np.array([], dtype=np.datetime64)\n",
    "for me in mes:\n",
    "    trade_date_before = trade_date[trade_date <= me]\n",
    "    ad = trade_date_before[-1]\n",
    "    adj_date = np.append(adj_date, ad)\n",
    "map_mon_adj = {ad.year * 100 + ad.month: ad for ad in adj_date}"
   ]
  },
  {
   "cell_type": "markdown",
   "id": "b8239f90-8143-4438-8ede-f9db09ca2d54",
   "metadata": {},
   "source": [
    "### 剔除股票"
   ]
  },
  {
   "cell_type": "code",
   "execution_count": 4,
   "id": "c4c77bef-4fe1-4b75-a5f2-5d16c073e0d1",
   "metadata": {},
   "outputs": [],
   "source": [
    "def IPO_time(price_1d, timedelta='180D'):\n",
    "    start_date = price_1d['date'].min()\n",
    "    idx_ipo = price_1d['date'] >= start_date + pd.Timedelta(timedelta)\n",
    "    return price_1d[idx_ipo]\n",
    "\n",
    "price_1d = (\n",
    "    price_1d\n",
    "        .groupby('issue')[['issue', 'date', 'close', 'ret', 'is_limit_buy', 'is_limit_sell']]\n",
    "        .apply(IPO_time)\n",
    "        .reset_index(drop=True)\n",
    ")\n",
    "price_1d = price_1d[(~price_1d['is_limit_buy'].astype(bool)) & (~price_1d['is_limit_sell'].astype(bool))]\n",
    "price_1d = price_1d[(price_1d['date'] >= '2019-08-01') & (price_1d['date'] <= '2024-11-30')]\n",
    "price_1d = price_1d[['issue', 'date', 'ret']]"
   ]
  },
  {
   "cell_type": "markdown",
   "id": "685d35d8-5495-4ed3-acc3-57c5d3d14014",
   "metadata": {},
   "source": [
    "### 计算每两个调仓日之间的收益"
   ]
  },
  {
   "cell_type": "code",
   "execution_count": 55,
   "id": "6d6b41e6-123c-49eb-8034-4ddfb6cb9e7e",
   "metadata": {},
   "outputs": [
    {
     "name": "stdout",
     "output_type": "stream",
     "text": [
      "CPU times: total: 28.7 s\n",
      "Wall time: 31.5 s\n",
      "CPU times: total: 49.2 s\n",
      "Wall time: 52.7 s\n",
      "         issue  year_mon       ret\n",
      "0       000001    201908  0.002123\n",
      "1       000001    201909  0.100989\n",
      "2       000001    201910  0.042976\n",
      "3       000001    201911 -0.059656\n",
      "4       000001    201912  0.075867\n",
      "...        ...       ...       ...\n",
      "256147  689009    202402  0.298201\n",
      "256148  689009    202403 -0.011551\n",
      "256149  689009    202404  0.242404\n",
      "256150  689009    202405  0.015163\n",
      "256151  689009    202406 -0.018662\n",
      "\n",
      "[256152 rows x 3 columns]\n",
      "         issue  year_mon       ret\n",
      "0       000001    201908  0.002123\n",
      "1       000001    201909  0.100989\n",
      "2       000001    201910  0.042976\n",
      "3       000001    201911 -0.059656\n",
      "4       000001    201912  0.075867\n",
      "...        ...       ...       ...\n",
      "256147  689009    202402  0.298201\n",
      "256148  689009    202403 -0.011551\n",
      "256149  689009    202404  0.242404\n",
      "256150  689009    202405  0.015163\n",
      "256151  689009    202406 -0.018662\n",
      "\n",
      "[256152 rows x 3 columns]\n"
     ]
    }
   ],
   "source": [
    "price_1d['year_mon'] = price_1d['date'].dt.year * 100 + price_1d['date'].dt.month\n",
    "\n",
    "def ret_acc(ret):\n",
    "    return (1 + ret).prod() - 1\n",
    "\n",
    "def ret_acc_2(ret):\n",
    "    log_ret = (1 + ret).apply(np.log)\n",
    "    sum_log_ret = log_ret.sum()\n",
    "    return np.exp(sum_log_ret) - 1\n",
    "\n",
    "price_adj = price_1d.groupby(['issue', 'year_mon'])['ret'].apply(ret_acc).reset_index()\n",
    "price_adj['date'] = price_adj['year_mon'].apply(map_mon)"
   ]
  },
  {
   "cell_type": "markdown",
   "id": "6a734ce4-d405-48f5-9f2a-ee105723e65d",
   "metadata": {},
   "source": [
    "## IC 测试"
   ]
  },
  {
   "cell_type": "markdown",
   "id": "2f8d9adf-97f5-4e4a-abd7-d1b8bf4a6c47",
   "metadata": {},
   "source": [
    "### 读入测试数据"
   ]
  },
  {
   "cell_type": "code",
   "execution_count": 22,
   "id": "d9c4ee60-e0c7-465e-b41c-76b4985e5104",
   "metadata": {},
   "outputs": [],
   "source": [
    "N_connect_num = pd.DataFrame(columns=['issue', 'date', 'N_connect'])\n",
    "N_connect_size = pd.DataFrame(columns=['issue', 'date', 'N_connect'])\n",
    "\n",
    "for ad in adj_date:\n",
    "    ad_str = ad.strftime('%Y%m%d')\n",
    "    file_num = f'../data/N_connect/N_connect_num_{ad_str}.feather'\n",
    "    file_size = f'../data/N_connect/N_connect_size_{ad_str}.feather'\n",
    "    if (not os.path.exists(file_num)) or (not os.path.exists(file_size)):\n",
    "        continue\n",
    "    num_daily = feather.read_dataframe(file_num)\n",
    "    num_daily['date'] = ad\n",
    "    size_daily = feather.read_dataframe(file_size)\n",
    "    size_daily['date'] = ad\n",
    "    if N_connect_num.empty:\n",
    "        N_connect_num = num_daily\n",
    "    else:\n",
    "        N_connect_num = pd.concat([N_connect_num, num_daily])\n",
    "    if N_connect_size.empty:\n",
    "        N_connect_size = size_daily\n",
    "    else:\n",
    "        N_connect_size = pd.concat([N_connect_size, size_daily])"
   ]
  },
  {
   "cell_type": "code",
   "execution_count": 23,
   "id": "a9906a6c-7831-4f56-a7f7-2ad89cb9a9cb",
   "metadata": {},
   "outputs": [],
   "source": [
    "factor = N_connect_num.copy()"
   ]
  },
  {
   "cell_type": "markdown",
   "id": "d48a7e0e-a6bb-406f-8d61-129aa7b8efa2",
   "metadata": {},
   "source": [
    "## 分组测试"
   ]
  },
  {
   "cell_type": "markdown",
   "id": "759fe7d2-f61b-45b7-a885-2166f36466c7",
   "metadata": {},
   "source": [
    "## 点度中心性回测"
   ]
  }
 ],
 "metadata": {
  "kernelspec": {
   "display_name": "Python 3 (ipykernel)",
   "language": "python",
   "name": "python3"
  },
  "language_info": {
   "codemirror_mode": {
    "name": "ipython",
    "version": 3
   },
   "file_extension": ".py",
   "mimetype": "text/x-python",
   "name": "python",
   "nbconvert_exporter": "python",
   "pygments_lexer": "ipython3",
   "version": "3.11.9"
  }
 },
 "nbformat": 4,
 "nbformat_minor": 5
}
