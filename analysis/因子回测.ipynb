{
 "cells": [
  {
   "cell_type": "markdown",
   "id": "0472e6d7-2eb0-4134-abb3-21aec7730eac",
   "metadata": {},
   "source": [
    "# 因子回测"
   ]
  },
  {
   "cell_type": "markdown",
   "id": "76deb797-8066-4dcf-92e8-e0473369d805",
   "metadata": {},
   "source": [
    "## 导入模块"
   ]
  },
  {
   "cell_type": "code",
   "execution_count": 1,
   "id": "89827585-ae3b-46a4-9786-81742ff826cc",
   "metadata": {},
   "outputs": [],
   "source": [
    "import numpy as np\n",
    "import pandas as pd\n",
    "from matplotlib import pyplot as plt\n",
    "from matplotlib import ticker\n",
    "from scipy import stats\n",
    "import feather\n",
    "import os\n",
    "import statsmodels.api as sm\n",
    "import sunlandsdatasdk as sd\n",
    "%load_ext line_profiler"
   ]
  },
  {
   "cell_type": "markdown",
   "id": "17ce1906-71a6-4272-871b-613ea6bc58f8",
   "metadata": {},
   "source": [
    "## 读入日线数据"
   ]
  },
  {
   "cell_type": "markdown",
   "id": "dc61806c-f47b-463f-bc81-b022e548ca9c",
   "metadata": {},
   "source": [
    "### 读入日线数据"
   ]
  },
  {
   "cell_type": "code",
   "execution_count": 2,
   "id": "17f925f4-5fdb-44b9-97b0-13f8a39d5ce5",
   "metadata": {},
   "outputs": [],
   "source": [
    "price_1d = feather.read_dataframe('../data/StockPriceK1d_20240630.feather')"
   ]
  },
  {
   "cell_type": "markdown",
   "id": "02dc76ff-c7b5-4e16-bd65-73c81eb16b5f",
   "metadata": {},
   "source": [
    "### 计算调仓日"
   ]
  },
  {
   "cell_type": "code",
   "execution_count": 3,
   "id": "a8545da8-cf8c-4078-9422-36ca93584b58",
   "metadata": {},
   "outputs": [],
   "source": [
    "trade_date = price_1d['date'].sort_values().unique()\n",
    "mes = pd.date_range(start='2019-08-01', end=trade_date[-1]+pd.DateOffset(months=1), freq='1ME')\n",
    "adj_date = np.array([], dtype=np.datetime64)\n",
    "for me in mes:\n",
    "    trade_date_before = trade_date[trade_date <= me]\n",
    "    ad = trade_date_before[-1]\n",
    "    adj_date = np.append(adj_date, ad)\n",
    "map_mon_adj = {ad.year * 100 + ad.month: ad for ad in adj_date}"
   ]
  },
  {
   "cell_type": "markdown",
   "id": "685d35d8-5495-4ed3-acc3-57c5d3d14014",
   "metadata": {},
   "source": [
    "### 计算每两个调仓日之间的收益"
   ]
  },
  {
   "cell_type": "code",
   "execution_count": 4,
   "id": "6d6b41e6-123c-49eb-8034-4ddfb6cb9e7e",
   "metadata": {},
   "outputs": [],
   "source": [
    "price_1d['year_mon'] = price_1d['date'].dt.year * 100 + price_1d['date'].dt.month\n",
    "\n",
    "def ret_acc_temp(ret):\n",
    "    return (1 + ret).prod() - 1\n",
    "\n",
    "def ret_acc(price_1d):\n",
    "    preclose = price_1d.iloc[0]['preclose']\n",
    "    close = price_1d.iloc[-1]['close']\n",
    "    return (close - preclose) / preclose\n",
    "\n",
    "price_adj = (\n",
    "    price_1d[(price_1d['date'] >= '2019-08-01') & (price_1d['date'] <= '2024-12-31')]\n",
    "        .groupby(['issue', 'year_mon'])[['preclose', 'close']]\n",
    "        .apply(ret_acc)\n",
    "        .reset_index()\n",
    ")\n",
    "price_adj = price_adj.rename(columns={0: 'ret'})\n",
    "price_adj['date'] = price_adj['year_mon'].apply(map_mon_adj.get)\n",
    "price_adj['ret_next'] = price_adj.groupby('issue')['ret'].shift(-1)\n",
    "price_adj = price_adj[['issue', 'date', 'ret', 'ret_next']]\n",
    "price_adj = price_adj.dropna(subset='ret_next')"
   ]
  },
  {
   "cell_type": "markdown",
   "id": "b8239f90-8143-4438-8ede-f9db09ca2d54",
   "metadata": {},
   "source": [
    "### 剔除股票"
   ]
  },
  {
   "cell_type": "code",
   "execution_count": 5,
   "id": "c4c77bef-4fe1-4b75-a5f2-5d16c073e0d1",
   "metadata": {},
   "outputs": [],
   "source": [
    "def newly_listed(date, timedelta='180D'):\n",
    "    start_date = date.min()\n",
    "    newly = (date <= start_date + pd.Timedelta(timedelta))\n",
    "    return newly\n",
    "\n",
    "price_1d['newly_listed'] = (\n",
    "    price_1d\n",
    "        .groupby('issue')['date']\n",
    "        .transform(newly_listed)\n",
    ")\n",
    "\n",
    "price_adj = pd.merge(\n",
    "    price_adj,\n",
    "    price_1d[['issue', 'date', 'newly_listed', 'is_limit_sell', 'is_limit_buy']],\n",
    "    on=['issue', 'date'],\n",
    "    how='left'\n",
    ")\n",
    "\n",
    "price_adj = price_adj[\n",
    "    (~price_adj['newly_listed']) &\n",
    "    (~price_adj['is_limit_buy'].astype(bool)) &\n",
    "    (~price_adj['is_limit_sell'].astype(bool))\n",
    "]\n",
    "price_adj = price_adj[['issue', 'date', 'ret', 'ret_next']]"
   ]
  },
  {
   "cell_type": "markdown",
   "id": "b590e71b-9ce2-4f86-99b6-1b5154c7b9b4",
   "metadata": {},
   "source": [
    "## 市值行业中性化"
   ]
  },
  {
   "cell_type": "markdown",
   "id": "2fb79d5e-03c7-495b-a2fe-516a997cd212",
   "metadata": {},
   "source": [
    "### 读入申万行业和市值"
   ]
  },
  {
   "cell_type": "code",
   "execution_count": 6,
   "id": "57f5583c-3e00-4cba-a4ac-03c0a5d548be",
   "metadata": {},
   "outputs": [],
   "source": [
    "# sd.auth('*', '*')\n",
    "# issues = price_1d['issue'].sort_values().unique()\n",
    "# market_cap = sd.get_ricequant_factor(\n",
    "#     issues,\n",
    "#     start_date='2019-08-01',\n",
    "#     end_date='2024-12-31',\n",
    "#     fields=['market_cap_3']\n",
    "# )\n",
    "# market_cap = market_cap.reset_index()\n",
    "# market_cap = market_cap.rename(columns={'market_cap_3': 'market_cap'})\n",
    "# market_cap['date'] = pd.to_datetime(market_cap['date'])\n",
    "# feather.write_dataframe(market_cap, '../data/market_cap.feather')"
   ]
  },
  {
   "cell_type": "code",
   "execution_count": 7,
   "id": "aa08f9ba-0ee3-4022-9887-c6f4f3f28223",
   "metadata": {},
   "outputs": [],
   "source": [
    "industry = feather.read_dataframe('../data/industry_classes.feather')\n",
    "industry = industry.sort_values('date').set_index('date')\n",
    "market_cap = feather.read_dataframe('../data/market_cap.feather')\n",
    "market_cap['log_market_cap'] = market_cap['market_cap'].apply(np.log)\n",
    "market_cap = market_cap.sort_values('date').set_index('date')\n",
    "prc = price_1d.sort_values('date').set_index('date')"
   ]
  },
  {
   "cell_type": "markdown",
   "id": "086253bf-3869-492d-beb3-19c6fb714fcd",
   "metadata": {},
   "source": [
    "### 市值行业中性化"
   ]
  },
  {
   "cell_type": "code",
   "execution_count": 8,
   "id": "2e04da89-1800-4496-9a6f-ab9f64b7ae80",
   "metadata": {},
   "outputs": [],
   "source": [
    "def neutral_calc(factor, factor_col):\n",
    "    date = factor.name\n",
    "    try:\n",
    "        price_keys = prc.loc[date, 'issue']\n",
    "        indus_keys = industry.loc[date, ['issue', 'L1']]\n",
    "        cap_keys = market_cap.loc[date, ['issue', 'log_market_cap']]\n",
    "    except KeyError:\n",
    "        f = pd.DataFrame(columns=['issue', factor_col, 'indus_factor', 'neutral_factor'])\n",
    "        return None\n",
    "\n",
    "    f = factor.copy()\n",
    "    f = f.merge(\n",
    "        price_keys,\n",
    "        on='issue',\n",
    "        how='inner'\n",
    "    )\n",
    "    f = f.merge(\n",
    "        indus_keys,\n",
    "        on='issue',\n",
    "        how='inner'\n",
    "    )\n",
    "    f['indus_mean'] = f.groupby('L1')[factor_col].transform('mean')\n",
    "    f['indus_factor'] = f[factor_col] - f['indus_mean']\n",
    "    \n",
    "    f = f.merge(\n",
    "        cap_keys,\n",
    "        on='issue',\n",
    "        how='left'\n",
    "    )\n",
    "    x = f['log_market_cap']\n",
    "    x = sm.add_constant(x)\n",
    "    y = f['indus_factor']\n",
    "    result = sm.OLS(y, x).fit()\n",
    "    f['neutral_factor'] = result.resid\n",
    "\n",
    "    return f[['issue', factor_col, 'indus_factor', 'neutral_factor']]"
   ]
  },
  {
   "cell_type": "markdown",
   "id": "6a734ce4-d405-48f5-9f2a-ee105723e65d",
   "metadata": {},
   "source": [
    "## IC 测试"
   ]
  },
  {
   "cell_type": "code",
   "execution_count": 9,
   "id": "a9906a6c-7831-4f56-a7f7-2ad89cb9a9cb",
   "metadata": {},
   "outputs": [],
   "source": [
    "def IC_calc_once(factor, factor_col, ret_col):\n",
    "    IC, p = stats.spearmanr(factor[factor_col], factor[ret_col])\n",
    "    return IC\n",
    "\n",
    "def IC_calc(factor, factor_col):\n",
    "    f = factor.copy()\n",
    "    f = pd.merge(\n",
    "        f,\n",
    "        price_adj,\n",
    "        on=['issue', 'date'],\n",
    "        how='inner'\n",
    "    )  \n",
    "    IC = (\n",
    "        f\n",
    "            .groupby('date')[[factor_col, 'ret_next']]\n",
    "            .apply(IC_calc_once, factor_col=factor_col, ret_col='ret_next')\n",
    "    )\n",
    "    return IC"
   ]
  },
  {
   "cell_type": "markdown",
   "id": "d48a7e0e-a6bb-406f-8d61-129aa7b8efa2",
   "metadata": {},
   "source": [
    "## 分组测试"
   ]
  },
  {
   "cell_type": "code",
   "execution_count": 10,
   "id": "47238cb3-5085-4f6e-863c-294d50622bf7",
   "metadata": {},
   "outputs": [],
   "source": [
    "def grouped_ret(f, factor_col):\n",
    "    f_date = f.copy()\n",
    "    q = f_date[factor_col].quantile(np.arange(0, 1.1, 0.1))\n",
    "    qcut = pd.cut(\n",
    "        f_date[factor_col],\n",
    "        q,\n",
    "        right=True,\n",
    "        labels=np.arange(1, 11)\n",
    "    )\n",
    "    f_date['group'] = qcut\n",
    "    ret = f_date.groupby('group', observed=False)['ret_next'].mean()\n",
    "    return ret\n",
    "\n",
    "def grouped_calc(factor, factor_col):\n",
    "    f = pd.merge(\n",
    "        factor,\n",
    "        price_adj,\n",
    "        on=['issue', 'date'],\n",
    "        how='inner'\n",
    "    )\n",
    "    ret = (\n",
    "        f\n",
    "            .groupby('date')[[factor_col, 'ret', 'ret_next']]\n",
    "            .apply(grouped_ret, factor_col=factor_col)\n",
    "    )\n",
    "    \n",
    "    ret_annual = (1 + ret.mean()) ** 12 - 1\n",
    "    plt.bar(ret_annual.index, ret_annual, color='#a60021')\n",
    "    plt.gca().yaxis.set_major_formatter(ticker.PercentFormatter(xmax=1, decimals=0))\n",
    "    plt.show()\n",
    "    \n",
    "    long = (1 + ret[10]).cumprod()\n",
    "    long_short = (1 + ret[10] - ret[1]).cumprod()\n",
    "    plt.plot(long, linewidth=3, color='#a60021', label='long')\n",
    "    plt.plot(long_short, linewidth=3, color='#ffc000', label='long-short')\n",
    "    plt.legend()\n",
    "    plt.grid()\n",
    "    plt.show()\n",
    "\n",
    "    return ret"
   ]
  },
  {
   "cell_type": "markdown",
   "id": "759fe7d2-f61b-45b7-a885-2166f36466c7",
   "metadata": {},
   "source": [
    "## 点度中心性回测"
   ]
  },
  {
   "cell_type": "markdown",
   "id": "be70a8ee-ed35-4060-916b-f08628e04b79",
   "metadata": {},
   "source": [
    "### 读入数据"
   ]
  },
  {
   "cell_type": "code",
   "execution_count": 11,
   "id": "d9c4ee60-e0c7-465e-b41c-76b4985e5104",
   "metadata": {},
   "outputs": [],
   "source": [
    "N_connect_num = feather.read_dataframe('../data/N_connect/N_connect_num.feather')\n",
    "N_connect_size = feather.read_dataframe('../data/N_connect/N_connect_size.feather')"
   ]
  },
  {
   "cell_type": "markdown",
   "id": "0636c8f0-2927-4b7c-a652-833c120c07f7",
   "metadata": {},
   "source": [
    "### 市值行业中性化"
   ]
  },
  {
   "cell_type": "code",
   "execution_count": 12,
   "id": "63e393b3-28b4-44c8-91ee-f84704d2fd3e",
   "metadata": {},
   "outputs": [
    {
     "name": "stdout",
     "output_type": "stream",
     "text": [
      "CPU times: total: 1.97 s\n",
      "Wall time: 2.02 s\n"
     ]
    }
   ],
   "source": [
    "%%time\n",
    "neutral_num = (\n",
    "    N_connect_num\n",
    "        .groupby('date')[['issue', 'N_connect']]\n",
    "        .apply(neutral_calc, factor_col='N_connect')\n",
    "        .reset_index()\n",
    ")\n",
    "neutral_size = (\n",
    "    N_connect_size\n",
    "        .groupby('date')[['issue', 'N_connect']]\n",
    "        .apply(neutral_calc, factor_col='N_connect')\n",
    "        .reset_index()\n",
    ")"
   ]
  },
  {
   "cell_type": "markdown",
   "id": "2dd52863-390a-4b94-96cf-b86bdd2ba5d1",
   "metadata": {},
   "source": [
    "### IC 测试"
   ]
  },
  {
   "cell_type": "code",
   "execution_count": 13,
   "id": "17c173d5-1898-4cb8-96a1-abc88c06bc5f",
   "metadata": {},
   "outputs": [
    {
     "data": {
      "text/html": [
       "<div>\n",
       "<style scoped>\n",
       "    .dataframe tbody tr th:only-of-type {\n",
       "        vertical-align: middle;\n",
       "    }\n",
       "\n",
       "    .dataframe tbody tr th {\n",
       "        vertical-align: top;\n",
       "    }\n",
       "\n",
       "    .dataframe thead th {\n",
       "        text-align: right;\n",
       "    }\n",
       "</style>\n",
       "<table border=\"1\" class=\"dataframe\">\n",
       "  <thead>\n",
       "    <tr style=\"text-align: right;\">\n",
       "      <th></th>\n",
       "      <th>factor</th>\n",
       "      <th>IC_mean</th>\n",
       "      <th>IC_IR</th>\n",
       "      <th>t</th>\n",
       "      <th>max</th>\n",
       "      <th>min</th>\n",
       "    </tr>\n",
       "  </thead>\n",
       "  <tbody>\n",
       "    <tr>\n",
       "      <th>0</th>\n",
       "      <td>N_connect_num</td>\n",
       "      <td>0.015018</td>\n",
       "      <td>0.327783</td>\n",
       "      <td>2.496320</td>\n",
       "      <td>0.114139</td>\n",
       "      <td>-0.101987</td>\n",
       "    </tr>\n",
       "    <tr>\n",
       "      <th>1</th>\n",
       "      <td>N_connect_size</td>\n",
       "      <td>0.014849</td>\n",
       "      <td>0.289587</td>\n",
       "      <td>2.205426</td>\n",
       "      <td>0.135635</td>\n",
       "      <td>-0.120130</td>\n",
       "    </tr>\n",
       "  </tbody>\n",
       "</table>\n",
       "</div>"
      ],
      "text/plain": [
       "           factor   IC_mean     IC_IR         t       max       min\n",
       "0   N_connect_num  0.015018  0.327783  2.496320  0.114139 -0.101987\n",
       "1  N_connect_size  0.014849  0.289587  2.205426  0.135635 -0.120130"
      ]
     },
     "execution_count": 13,
     "metadata": {},
     "output_type": "execute_result"
    }
   ],
   "source": [
    "df_IC = pd.DataFrame(columns=['factor', 'IC_mean', 'IC_IR', 't', \"max\", 'min'])\n",
    "IC_num = IC_calc(neutral_num, factor_col='neutral_factor')\n",
    "df_IC.loc[0]=[\n",
    "        'N_connect_num',\n",
    "        IC_num.mean(),\n",
    "        IC_num.mean() / IC_num.std(),\n",
    "        np.sqrt(len(IC_num)) * IC_num.mean() / IC_num.std(),\n",
    "        IC_num.max(),\n",
    "        IC_num.min()\n",
    "    ]\n",
    "IC_size = IC_calc(neutral_size, factor_col='neutral_factor')\n",
    "df_IC.loc[1]=[\n",
    "        'N_connect_size',\n",
    "        IC_size.mean(),\n",
    "        IC_size.mean() / IC_size.std(),\n",
    "        np.sqrt(len(IC_size)) * IC_size.mean() / IC_size.std(),\n",
    "        IC_size.max(),\n",
    "        IC_size.min()\n",
    "    ]\n",
    "df_IC"
   ]
  },
  {
   "cell_type": "markdown",
   "id": "0189fad7-3de2-45d1-a197-4865ca35c0d1",
   "metadata": {},
   "source": [
    "### 分组测试"
   ]
  },
  {
   "cell_type": "code",
   "execution_count": 14,
   "id": "1adcd6bb-1a34-474b-8df2-29032e483606",
   "metadata": {},
   "outputs": [
    {
     "data": {
      "image/png": "[encoded data removed]",
      "text/plain": [
       "<Figure size 640x480 with 1 Axes>"
      ]
     },
     "metadata": {},
     "output_type": "display_data"
    },
    {
     "data": {
      "image/png": "[encoded data removed]",
      "text/plain": [
       "<Figure size 640x480 with 1 Axes>"
      ]
     },
     "metadata": {},
     "output_type": "display_data"
    },
    {
     "data": {
      "image/png": "[encoded data removed]",
      "text/plain": [
       "<Figure size 640x480 with 1 Axes>"
      ]
     },
     "metadata": {},
     "output_type": "display_data"
    },
    {
     "data": {
      "image/png": "[encoded data removed]",
      "text/plain": [
       "<Figure size 640x480 with 1 Axes>"
      ]
     },
     "metadata": {},
     "output_type": "display_data"
    },
    {
     "data": {
      "text/html": [
       "<div>\n",
       "<style scoped>\n",
       "    .dataframe tbody tr th:only-of-type {\n",
       "        vertical-align: middle;\n",
       "    }\n",
       "\n",
       "    .dataframe tbody tr th {\n",
       "        vertical-align: top;\n",
       "    }\n",
       "\n",
       "    .dataframe thead th {\n",
       "        text-align: right;\n",
       "    }\n",
       "</style>\n",
       "<table border=\"1\" class=\"dataframe\">\n",
       "  <thead>\n",
       "    <tr style=\"text-align: right;\">\n",
       "      <th></th>\n",
       "      <th>factor</th>\n",
       "      <th>long_annual</th>\n",
       "      <th>long_sharpe</th>\n",
       "      <th>long_short_annual</th>\n",
       "    </tr>\n",
       "  </thead>\n",
       "  <tbody>\n",
       "    <tr>\n",
       "      <th>0</th>\n",
       "      <td>N_connect_num</td>\n",
       "      <td>0.060690</td>\n",
       "      <td>0.326617</td>\n",
       "      <td>0.038810</td>\n",
       "    </tr>\n",
       "    <tr>\n",
       "      <th>1</th>\n",
       "      <td>N_connect_size</td>\n",
       "      <td>0.067855</td>\n",
       "      <td>0.351162</td>\n",
       "      <td>0.036383</td>\n",
       "    </tr>\n",
       "  </tbody>\n",
       "</table>\n",
       "</div>"
      ],
      "text/plain": [
       "           factor  long_annual  long_sharpe  long_short_annual\n",
       "0   N_connect_num     0.060690     0.326617           0.038810\n",
       "1  N_connect_size     0.067855     0.351162           0.036383"
      ]
     },
     "execution_count": 14,
     "metadata": {},
     "output_type": "execute_result"
    }
   ],
   "source": [
    "df_grouped = pd.DataFrame(columns=['factor', 'long_annual', 'long_sharpe', 'long_short_annual'])\n",
    "grouped_num = grouped_calc(neutral_num, factor_col='neutral_factor')\n",
    "mean_annual_num = (1 + grouped_num[10].mean()) ** 12 - 1\n",
    "std_annual_num = np.sqrt(12) * grouped_num[10].std()\n",
    "long_short_num = (1 + (grouped_num[10] - grouped_num[1]).mean()) ** 12 - 1\n",
    "df_grouped.loc[0]=[\n",
    "    'N_connect_num',\n",
    "    mean_annual_num,\n",
    "    mean_annual_num / std_annual_num,\n",
    "    long_short_num\n",
    "]\n",
    "grouped_size = grouped_calc(neutral_size, factor_col='neutral_factor')\n",
    "mean_annual_size = (1 + grouped_size[10].mean()) ** 12 - 1\n",
    "std_annual_size = np.sqrt(12) * grouped_size[10].std()\n",
    "long_short_size = (1 + (grouped_size[10] - grouped_size[1]).mean()) ** 12 - 1\n",
    "df_grouped.loc[1]=[\n",
    "    'N_connect_size',\n",
    "    mean_annual_size,\n",
    "    mean_annual_size / std_annual_size,\n",
    "    long_short_size\n",
    "]\n",
    "df_grouped"
   ]
  }
 ],
 "metadata": {
  "kernelspec": {
   "display_name": "Python 3 (ipykernel)",
   "language": "python",
   "name": "python3"
  },
  "language_info": {
   "codemirror_mode": {
    "name": "ipython",
    "version": 3
   },
   "file_extension": ".py",
   "mimetype": "text/x-python",
   "name": "python",
   "nbconvert_exporter": "python",
   "pygments_lexer": "ipython3",
   "version": "3.11.9"
  }
 },
 "nbformat": 4,
 "nbformat_minor": 5
}
