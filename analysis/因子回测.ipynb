{
 "cells": [
  {
   "cell_type": "markdown",
   "id": "0472e6d7-2eb0-4134-abb3-21aec7730eac",
   "metadata": {},
   "source": [
    "# 因子回测"
   ]
  },
  {
   "cell_type": "markdown",
   "id": "76deb797-8066-4dcf-92e8-e0473369d805",
   "metadata": {},
   "source": [
    "## 导入模块"
   ]
  },
  {
   "cell_type": "code",
   "execution_count": 65,
   "id": "89827585-ae3b-46a4-9786-81742ff826cc",
   "metadata": {},
   "outputs": [],
   "source": [
    "import numpy as np\n",
    "import pandas as pd\n",
    "from matplotlib import pyplot as plt\n",
    "from scipy import stats\n",
    "import feather\n",
    "import os"
   ]
  },
  {
   "cell_type": "markdown",
   "id": "17ce1906-71a6-4272-871b-613ea6bc58f8",
   "metadata": {},
   "source": [
    "## 读入日线数据"
   ]
  },
  {
   "cell_type": "markdown",
   "id": "dc61806c-f47b-463f-bc81-b022e548ca9c",
   "metadata": {},
   "source": [
    "### 读入日线数据"
   ]
  },
  {
   "cell_type": "code",
   "execution_count": 66,
   "id": "17f925f4-5fdb-44b9-97b0-13f8a39d5ce5",
   "metadata": {},
   "outputs": [],
   "source": [
    "price_1d = feather.read_dataframe('../data/StockPriceK1d_20240630.feather')"
   ]
  },
  {
   "cell_type": "markdown",
   "id": "02dc76ff-c7b5-4e16-bd65-73c81eb16b5f",
   "metadata": {},
   "source": [
    "### 计算调仓日"
   ]
  },
  {
   "cell_type": "code",
   "execution_count": 67,
   "id": "a8545da8-cf8c-4078-9422-36ca93584b58",
   "metadata": {},
   "outputs": [],
   "source": [
    "trade_date = price_1d['date'].sort_values().unique()\n",
    "mes = pd.date_range(start='2019-08-01', end=trade_date[-1]+pd.DateOffset(months=1), freq='1ME')\n",
    "adj_date = np.array([], dtype=np.datetime64)\n",
    "for me in mes:\n",
    "    trade_date_before = trade_date[trade_date <= me]\n",
    "    ad = trade_date_before[-1]\n",
    "    adj_date = np.append(adj_date, ad)\n",
    "map_mon_adj = {ad.year * 100 + ad.month: ad for ad in adj_date}"
   ]
  },
  {
   "cell_type": "markdown",
   "id": "b8239f90-8143-4438-8ede-f9db09ca2d54",
   "metadata": {},
   "source": [
    "### 剔除股票"
   ]
  },
  {
   "cell_type": "code",
   "execution_count": 68,
   "id": "c4c77bef-4fe1-4b75-a5f2-5d16c073e0d1",
   "metadata": {},
   "outputs": [],
   "source": [
    "# def IPO_time(price_1d, timedelta='180D'):\n",
    "#     start_date = price_1d['date'].min()\n",
    "#     idx_ipo = price_1d['date'] >= start_date + pd.Timedelta(timedelta)\n",
    "#     return price_1d[idx_ipo]\n",
    "\n",
    "# price_1d = (\n",
    "#     price_1d\n",
    "#         .groupby('issue')[['issue', 'date', 'preclose', 'close', 'ret', 'is_limit_buy', 'is_limit_sell']]\n",
    "#         .apply(IPO_time)\n",
    "#         .reset_index(drop=True)\n",
    "# )\n",
    "# price_1d = price_1d[(~price_1d['is_limit_buy'].astype(bool)) & (~price_1d['is_limit_sell'].astype(bool))]\n",
    "price_1d = price_1d[(price_1d['date'] >= '2019-08-01') & (price_1d['date'] <= '2024-12-31')]\n",
    "# price_1d = price_1d[['issue', 'date', 'preclose', 'close', 'ret']]"
   ]
  },
  {
   "cell_type": "markdown",
   "id": "685d35d8-5495-4ed3-acc3-57c5d3d14014",
   "metadata": {},
   "source": [
    "### 计算每两个调仓日之间的收益"
   ]
  },
  {
   "cell_type": "code",
   "execution_count": 73,
   "id": "6d6b41e6-123c-49eb-8034-4ddfb6cb9e7e",
   "metadata": {},
   "outputs": [
    {
     "data": {
      "text/html": [
       "<div>\n",
       "<style scoped>\n",
       "    .dataframe tbody tr th:only-of-type {\n",
       "        vertical-align: middle;\n",
       "    }\n",
       "\n",
       "    .dataframe tbody tr th {\n",
       "        vertical-align: top;\n",
       "    }\n",
       "\n",
       "    .dataframe thead th {\n",
       "        text-align: right;\n",
       "    }\n",
       "</style>\n",
       "<table border=\"1\" class=\"dataframe\">\n",
       "  <thead>\n",
       "    <tr style=\"text-align: right;\">\n",
       "      <th></th>\n",
       "      <th>issue</th>\n",
       "      <th>date</th>\n",
       "      <th>ret_next</th>\n",
       "    </tr>\n",
       "  </thead>\n",
       "  <tbody>\n",
       "    <tr>\n",
       "      <th>0</th>\n",
       "      <td>000001</td>\n",
       "      <td>2019-08-30</td>\n",
       "      <td>0.100989</td>\n",
       "    </tr>\n",
       "    <tr>\n",
       "      <th>1</th>\n",
       "      <td>000001</td>\n",
       "      <td>2019-09-30</td>\n",
       "      <td>0.042976</td>\n",
       "    </tr>\n",
       "    <tr>\n",
       "      <th>2</th>\n",
       "      <td>000001</td>\n",
       "      <td>2019-10-31</td>\n",
       "      <td>-0.059656</td>\n",
       "    </tr>\n",
       "    <tr>\n",
       "      <th>3</th>\n",
       "      <td>000001</td>\n",
       "      <td>2019-11-29</td>\n",
       "      <td>0.075867</td>\n",
       "    </tr>\n",
       "    <tr>\n",
       "      <th>4</th>\n",
       "      <td>000001</td>\n",
       "      <td>2019-12-31</td>\n",
       "      <td>-0.055319</td>\n",
       "    </tr>\n",
       "    <tr>\n",
       "      <th>...</th>\n",
       "      <td>...</td>\n",
       "      <td>...</td>\n",
       "      <td>...</td>\n",
       "    </tr>\n",
       "    <tr>\n",
       "      <th>266533</th>\n",
       "      <td>689009</td>\n",
       "      <td>2024-01-31</td>\n",
       "      <td>0.298201</td>\n",
       "    </tr>\n",
       "    <tr>\n",
       "      <th>266534</th>\n",
       "      <td>689009</td>\n",
       "      <td>2024-02-29</td>\n",
       "      <td>-0.011551</td>\n",
       "    </tr>\n",
       "    <tr>\n",
       "      <th>266535</th>\n",
       "      <td>689009</td>\n",
       "      <td>2024-03-29</td>\n",
       "      <td>0.242404</td>\n",
       "    </tr>\n",
       "    <tr>\n",
       "      <th>266536</th>\n",
       "      <td>689009</td>\n",
       "      <td>2024-04-30</td>\n",
       "      <td>0.008062</td>\n",
       "    </tr>\n",
       "    <tr>\n",
       "      <th>266537</th>\n",
       "      <td>689009</td>\n",
       "      <td>2024-05-31</td>\n",
       "      <td>-0.018662</td>\n",
       "    </tr>\n",
       "  </tbody>\n",
       "</table>\n",
       "<p>261264 rows × 3 columns</p>\n",
       "</div>"
      ],
      "text/plain": [
       "         issue       date  ret_next\n",
       "0       000001 2019-08-30  0.100989\n",
       "1       000001 2019-09-30  0.042976\n",
       "2       000001 2019-10-31 -0.059656\n",
       "3       000001 2019-11-29  0.075867\n",
       "4       000001 2019-12-31 -0.055319\n",
       "...        ...        ...       ...\n",
       "266533  689009 2024-01-31  0.298201\n",
       "266534  689009 2024-02-29 -0.011551\n",
       "266535  689009 2024-03-29  0.242404\n",
       "266536  689009 2024-04-30  0.008062\n",
       "266537  689009 2024-05-31 -0.018662\n",
       "\n",
       "[261264 rows x 3 columns]"
      ]
     },
     "execution_count": 73,
     "metadata": {},
     "output_type": "execute_result"
    }
   ],
   "source": [
    "price_1d['year_mon'] = price_1d['date'].dt.year * 100 + price_1d['date'].dt.month\n",
    "\n",
    "def ret_acc_temp(ret):\n",
    "    return (1 + ret).prod() - 1\n",
    "\n",
    "def ret_acc(price_1d):\n",
    "    preclose = price_1d.iloc[0]['preclose']\n",
    "    close = price_1d.iloc[-1]['close']\n",
    "    return (close - preclose) / preclose\n",
    "\n",
    "price_adj = (\n",
    "    price_1d\n",
    "        .groupby(['issue', 'year_mon'])[['preclose', 'close']]\n",
    "        .apply(ret_acc)\n",
    "        .reset_index()\n",
    ")\n",
    "price_adj = price_adj.rename(columns={0: 'ret'})\n",
    "price_adj['date'] = price_adj['year_mon'].apply(map_mon_adj.get)\n",
    "price_adj['ret_next'] = price_adj.groupby('issue')['ret'].shift(-1)\n",
    "price_adj = price_adj[['issue', 'date', 'ret_next']]\n",
    "price_adj = price_adj.dropna(subset='ret_next')\n",
    "price_adj"
   ]
  },
  {
   "cell_type": "markdown",
   "id": "b590e71b-9ce2-4f86-99b6-1b5154c7b9b4",
   "metadata": {},
   "source": [
    "## 市值行业中心化"
   ]
  },
  {
   "cell_type": "markdown",
   "id": "2fb79d5e-03c7-495b-a2fe-516a997cd212",
   "metadata": {},
   "source": [
    "### 读入申万行业"
   ]
  },
  {
   "cell_type": "markdown",
   "id": "086253bf-3869-492d-beb3-19c6fb714fcd",
   "metadata": {},
   "source": [
    "### 读入市值"
   ]
  },
  {
   "cell_type": "markdown",
   "id": "6a734ce4-d405-48f5-9f2a-ee105723e65d",
   "metadata": {},
   "source": [
    "## IC 测试"
   ]
  },
  {
   "cell_type": "code",
   "execution_count": 28,
   "id": "a9906a6c-7831-4f56-a7f7-2ad89cb9a9cb",
   "metadata": {},
   "outputs": [],
   "source": [
    "def IC_calc_once(factor, factor_col, ret_col):\n",
    "    IC, p = stats.spearmanr(factor[factor_col], factor[ret_col])\n",
    "    return IC\n",
    "\n",
    "def IC_calc(factor, factor_col):\n",
    "    f = factor.copy()\n",
    "    f = pd.merge(\n",
    "        f.sort_values(['issue', 'date']),\n",
    "        price_adj.sort_values(['issue', 'date']),\n",
    "        on=['issue', 'date'],\n",
    "        how='inner'\n",
    "    )  \n",
    "    IC = (\n",
    "        f\n",
    "            .groupby('date')[[factor_col, 'ret_next']]\n",
    "            .apply(IC_calc_once, factor_col='N_connect', ret_col='ret_next')\n",
    "    )\n",
    "    return IC"
   ]
  },
  {
   "cell_type": "markdown",
   "id": "d48a7e0e-a6bb-406f-8d61-129aa7b8efa2",
   "metadata": {},
   "source": [
    "## 分组测试"
   ]
  },
  {
   "cell_type": "markdown",
   "id": "759fe7d2-f61b-45b7-a885-2166f36466c7",
   "metadata": {},
   "source": [
    "## 点度中心性回测"
   ]
  },
  {
   "cell_type": "markdown",
   "id": "be70a8ee-ed35-4060-916b-f08628e04b79",
   "metadata": {},
   "source": [
    "### 读入数据"
   ]
  },
  {
   "cell_type": "code",
   "execution_count": 29,
   "id": "d9c4ee60-e0c7-465e-b41c-76b4985e5104",
   "metadata": {},
   "outputs": [],
   "source": [
    "N_connect_num = feather.read_dataframe('../data/N_connect_bak/N_connect_num.feather')\n",
    "N_connect_size = feather.read_dataframe('../data/N_connect_bak/N_connect_size.feather')"
   ]
  },
  {
   "cell_type": "markdown",
   "id": "2dd52863-390a-4b94-96cf-b86bdd2ba5d1",
   "metadata": {},
   "source": [
    "### IC 测试"
   ]
  },
  {
   "cell_type": "code",
   "execution_count": 35,
   "id": "17c173d5-1898-4cb8-96a1-abc88c06bc5f",
   "metadata": {},
   "outputs": [
    {
     "data": {
      "text/html": [
       "<div>\n",
       "<style scoped>\n",
       "    .dataframe tbody tr th:only-of-type {\n",
       "        vertical-align: middle;\n",
       "    }\n",
       "\n",
       "    .dataframe tbody tr th {\n",
       "        vertical-align: top;\n",
       "    }\n",
       "\n",
       "    .dataframe thead th {\n",
       "        text-align: right;\n",
       "    }\n",
       "</style>\n",
       "<table border=\"1\" class=\"dataframe\">\n",
       "  <thead>\n",
       "    <tr style=\"text-align: right;\">\n",
       "      <th></th>\n",
       "      <th>factor</th>\n",
       "      <th>IC_mean</th>\n",
       "      <th>IC_IR</th>\n",
       "      <th>t</th>\n",
       "      <th>max</th>\n",
       "      <th>min</th>\n",
       "    </tr>\n",
       "  </thead>\n",
       "  <tbody>\n",
       "    <tr>\n",
       "      <th>0</th>\n",
       "      <td>N_connect_num</td>\n",
       "      <td>0.021078</td>\n",
       "      <td>0.290565</td>\n",
       "      <td>2.212880</td>\n",
       "      <td>0.134607</td>\n",
       "      <td>-0.172123</td>\n",
       "    </tr>\n",
       "    <tr>\n",
       "      <th>1</th>\n",
       "      <td>N_connect_size</td>\n",
       "      <td>0.029021</td>\n",
       "      <td>0.351431</td>\n",
       "      <td>2.676418</td>\n",
       "      <td>0.179029</td>\n",
       "      <td>-0.207791</td>\n",
       "    </tr>\n",
       "  </tbody>\n",
       "</table>\n",
       "</div>"
      ],
      "text/plain": [
       "           factor   IC_mean     IC_IR         t       max       min\n",
       "0   N_connect_num  0.021078  0.290565  2.212880  0.134607 -0.172123\n",
       "1  N_connect_size  0.029021  0.351431  2.676418  0.179029 -0.207791"
      ]
     },
     "execution_count": 35,
     "metadata": {},
     "output_type": "execute_result"
    }
   ],
   "source": [
    "df_IC = pd.DataFrame(columns=['factor', 'IC_mean', 'IC_IR', 't', \"max\", 'min'])\n",
    "IC_num = IC_calc(N_connect_num, factor_col='N_connect')\n",
    "df_IC.loc[0]=[\n",
    "        'N_connect_num',\n",
    "        IC_num.mean(),\n",
    "        IC_num.mean() / IC_num.std(),\n",
    "        np.sqrt(len(IC_num)) * IC_num.mean() / IC_num.std(),\n",
    "        IC_num.max(),\n",
    "        IC_num.min()\n",
    "    ]\n",
    "IC_size = IC_calc(N_connect_size, factor_col='N_connect')\n",
    "df_IC.loc[1]=[\n",
    "        'N_connect_size',\n",
    "        IC_size.mean(),\n",
    "        IC_size.mean() / IC_size.std(),\n",
    "        np.sqrt(len(IC_size)) * IC_size.mean() / IC_size.std(),\n",
    "        IC_size.max(),\n",
    "        IC_size.min()\n",
    "    ]\n",
    "df_IC"
   ]
  },
  {
   "cell_type": "markdown",
   "id": "0189fad7-3de2-45d1-a197-4865ca35c0d1",
   "metadata": {},
   "source": [
    "### 分组测试"
   ]
  }
 ],
 "metadata": {
  "kernelspec": {
   "display_name": "Python 3 (ipykernel)",
   "language": "python",
   "name": "python3"
  },
  "language_info": {
   "codemirror_mode": {
    "name": "ipython",
    "version": 3
   },
   "file_extension": ".py",
   "mimetype": "text/x-python",
   "name": "python",
   "nbconvert_exporter": "python",
   "pygments_lexer": "ipython3",
   "version": "3.11.9"
  }
 },
 "nbformat": 4,
 "nbformat_minor": 5
}
