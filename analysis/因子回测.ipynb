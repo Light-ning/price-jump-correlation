{
 "cells": [
  {
   "cell_type": "markdown",
   "id": "0472e6d7-2eb0-4134-abb3-21aec7730eac",
   "metadata": {},
   "source": [
    "# 因子回测"
   ]
  },
  {
   "cell_type": "markdown",
   "id": "76deb797-8066-4dcf-92e8-e0473369d805",
   "metadata": {},
   "source": [
    "## 导入模块"
   ]
  },
  {
   "cell_type": "code",
   "execution_count": 1,
   "id": "89827585-ae3b-46a4-9786-81742ff826cc",
   "metadata": {},
   "outputs": [],
   "source": [
    "import numpy as np\n",
    "import pandas as pd\n",
    "from matplotlib import pyplot as plt\n",
    "from scipy import stats\n",
    "import feather\n",
    "import os\n",
    "import statsmodels.api as sm\n",
    "import sunlandsdatasdk as sd"
   ]
  },
  {
   "cell_type": "markdown",
   "id": "17ce1906-71a6-4272-871b-613ea6bc58f8",
   "metadata": {},
   "source": [
    "## 读入日线数据"
   ]
  },
  {
   "cell_type": "markdown",
   "id": "dc61806c-f47b-463f-bc81-b022e548ca9c",
   "metadata": {},
   "source": [
    "### 读入日线数据"
   ]
  },
  {
   "cell_type": "code",
   "execution_count": 2,
   "id": "17f925f4-5fdb-44b9-97b0-13f8a39d5ce5",
   "metadata": {},
   "outputs": [],
   "source": [
    "price_1d = feather.read_dataframe('../data/StockPriceK1d_20240630.feather')"
   ]
  },
  {
   "cell_type": "markdown",
   "id": "02dc76ff-c7b5-4e16-bd65-73c81eb16b5f",
   "metadata": {},
   "source": [
    "### 计算调仓日"
   ]
  },
  {
   "cell_type": "code",
   "execution_count": 3,
   "id": "a8545da8-cf8c-4078-9422-36ca93584b58",
   "metadata": {},
   "outputs": [],
   "source": [
    "trade_date = price_1d['date'].sort_values().unique()\n",
    "mes = pd.date_range(start='2019-08-01', end=trade_date[-1]+pd.DateOffset(months=1), freq='1ME')\n",
    "adj_date = np.array([], dtype=np.datetime64)\n",
    "for me in mes:\n",
    "    trade_date_before = trade_date[trade_date <= me]\n",
    "    ad = trade_date_before[-1]\n",
    "    adj_date = np.append(adj_date, ad)\n",
    "map_mon_adj = {ad.year * 100 + ad.month: ad for ad in adj_date}"
   ]
  },
  {
   "cell_type": "markdown",
   "id": "685d35d8-5495-4ed3-acc3-57c5d3d14014",
   "metadata": {},
   "source": [
    "### 计算每两个调仓日之间的收益"
   ]
  },
  {
   "cell_type": "code",
   "execution_count": 4,
   "id": "6d6b41e6-123c-49eb-8034-4ddfb6cb9e7e",
   "metadata": {},
   "outputs": [],
   "source": [
    "price_1d['year_mon'] = price_1d['date'].dt.year * 100 + price_1d['date'].dt.month\n",
    "\n",
    "def ret_acc_temp(ret):\n",
    "    return (1 + ret).prod() - 1\n",
    "\n",
    "def ret_acc(price_1d):\n",
    "    preclose = price_1d.iloc[0]['preclose']\n",
    "    close = price_1d.iloc[-1]['close']\n",
    "    return (close - preclose) / preclose\n",
    "\n",
    "price_adj = (\n",
    "    price_1d[(price_1d['date'] >= '2019-08-01') & (price_1d['date'] <= '2024-12-31')]\n",
    "        .groupby(['issue', 'year_mon'])[['preclose', 'close']]\n",
    "        .apply(ret_acc)\n",
    "        .reset_index()\n",
    ")\n",
    "price_adj = price_adj.rename(columns={0: 'ret'})\n",
    "price_adj['date'] = price_adj['year_mon'].apply(map_mon_adj.get)\n",
    "price_adj['ret_next'] = price_adj.groupby('issue')['ret'].shift(-1)\n",
    "price_adj = price_adj[['issue', 'date', 'ret_next']]\n",
    "price_adj = price_adj.dropna(subset='ret_next')"
   ]
  },
  {
   "cell_type": "markdown",
   "id": "b8239f90-8143-4438-8ede-f9db09ca2d54",
   "metadata": {},
   "source": [
    "### 剔除股票"
   ]
  },
  {
   "cell_type": "code",
   "execution_count": 5,
   "id": "c4c77bef-4fe1-4b75-a5f2-5d16c073e0d1",
   "metadata": {},
   "outputs": [],
   "source": [
    "def newly_listed(date, timedelta='180D'):\n",
    "    start_date = date.min()\n",
    "    newly = (date <= start_date + pd.Timedelta(timedelta))\n",
    "    return newly\n",
    "\n",
    "price_1d['newly_listed'] = (\n",
    "    price_1d\n",
    "        .groupby('issue')['date']\n",
    "        .transform(newly_listed)\n",
    ")\n",
    "\n",
    "price_adj = pd.merge(\n",
    "    price_adj,\n",
    "    price_1d[['issue', 'date', 'newly_listed', 'is_limit_sell', 'is_limit_buy']],\n",
    "    on=['issue', 'date'],\n",
    "    how='left'\n",
    ")\n",
    "\n",
    "price_adj = price_adj[\n",
    "    (~price_adj['newly_listed']) &\n",
    "    (~price_adj['is_limit_buy'].astype(bool)) &\n",
    "    (~price_adj['is_limit_sell'].astype(bool))\n",
    "]\n",
    "price_adj = price_adj[['issue', 'date', 'ret_next']]"
   ]
  },
  {
   "cell_type": "markdown",
   "id": "b590e71b-9ce2-4f86-99b6-1b5154c7b9b4",
   "metadata": {},
   "source": [
    "## 市值行业中性化"
   ]
  },
  {
   "cell_type": "markdown",
   "id": "81bfc610-06ed-4ce3-8bc3-af075af5dce3",
   "metadata": {},
   "source": [
    "### 测试数据"
   ]
  },
  {
   "cell_type": "code",
   "execution_count": 7,
   "id": "e2407c69-1ef9-4556-b722-cd8c03f742a8",
   "metadata": {},
   "outputs": [],
   "source": [
    "N_connect_num = feather.read_dataframe('../data/N_connect/N_connect_num.feather')"
   ]
  },
  {
   "cell_type": "markdown",
   "id": "2fb79d5e-03c7-495b-a2fe-516a997cd212",
   "metadata": {},
   "source": [
    "### 读入申万行业和市值"
   ]
  },
  {
   "cell_type": "code",
   "execution_count": 8,
   "id": "57f5583c-3e00-4cba-a4ac-03c0a5d548be",
   "metadata": {},
   "outputs": [],
   "source": [
    "# sd.auth('*', '*')\n",
    "# issues = price_1d['issue'].sort_values().unique()\n",
    "# market_cap = sd.get_ricequant_factor(\n",
    "#     issues,\n",
    "#     start_date='2019-08-01',\n",
    "#     end_date='2024-12-31',\n",
    "#     fields=['market_cap_3']\n",
    "# )\n",
    "# market_cap = market_cap.reset_index()\n",
    "# market_cap = market_cap.rename(columns={'market_cap_3': 'market_cap'})\n",
    "# market_cap['date'] = pd.to_datetime(market_cap['date'])\n",
    "# feather.write_dataframe(market_cap, '../data/market_cap.feather')"
   ]
  },
  {
   "cell_type": "code",
   "execution_count": 9,
   "id": "aa08f9ba-0ee3-4022-9887-c6f4f3f28223",
   "metadata": {},
   "outputs": [],
   "source": [
    "industry = feather.read_dataframe('../data/industry_classes.feather')\n",
    "market_cap = feather.read_dataframe('../data/market_cap.feather')"
   ]
  },
  {
   "cell_type": "markdown",
   "id": "086253bf-3869-492d-beb3-19c6fb714fcd",
   "metadata": {},
   "source": [
    "### 行业中性化"
   ]
  },
  {
   "cell_type": "code",
   "execution_count": 49,
   "id": "2e04da89-1800-4496-9a6f-ab9f64b7ae80",
   "metadata": {},
   "outputs": [],
   "source": [
    "factor_col = 'N_connect'\n",
    "\n",
    "factor = pd.merge(\n",
    "    N_connect_num,\n",
    "    price_adj[['issue', 'date']],\n",
    "    on=['issue', 'date'],\n",
    "    how='inner'\n",
    ")\n",
    "factor = pd.merge(\n",
    "    factor,\n",
    "    industry[['issue', 'date', 'L1']],\n",
    "    on=['issue', 'date'],\n",
    "    how='inner'\n",
    ")\n",
    "indus_mean = factor.groupby('L1')[factor_col].mean()\n",
    "indus_mean = indus_mean.rename('indus_mean')\n",
    "factor = pd.merge(\n",
    "    factor,\n",
    "    indus_mean,\n",
    "    on='L1',\n",
    "    how='left'\n",
    ")\n",
    "factor['indus_factor'] = factor['N_connect'] - factor['indus_mean']\n",
    "factor = factor[['issue', 'date', factor_col, 'indus_factor']]"
   ]
  },
  {
   "cell_type": "markdown",
   "id": "76098bfd-3948-47cb-9626-6295fbe2c870",
   "metadata": {},
   "source": [
    "### 市值中性化"
   ]
  },
  {
   "cell_type": "code",
   "execution_count": 60,
   "id": "98bfeefd-17dd-41aa-9c60-5c041e581a92",
   "metadata": {},
   "outputs": [
    {
     "data": {
      "image/png": "[encoded data removed]",
      "text/plain": [
       "<Figure size 640x480 with 1 Axes>"
      ]
     },
     "metadata": {},
     "output_type": "display_data"
    }
   ],
   "source": [
    "market_cap['log_market_cap'] = market_cap['market_cap'].apply(np.log)\n",
    "factor2 = pd.merge(\n",
    "    factor,\n",
    "    market_cap,\n",
    "    on=['issue', 'date'],\n",
    "    how='left'\n",
    ")\n",
    "x = factor2['log_market_cap']\n",
    "x = sm.add_constant(x)\n",
    "y = factor2['indus_factor']\n",
    "result = sm.OLS(y, x).fit()\n",
    "factor2['neutral_factor'] = result.resid\n",
    "plt.scatter(factor2['log_market_cap'], y)\n",
    "plt.plot(factor2['log_market_cap'], result.fittedvalues, color='red')\n",
    "plt.show()"
   ]
  },
  {
   "cell_type": "code",
   "execution_count": 57,
   "id": "94e918db-a598-4c2d-9c60-065fdd791f41",
   "metadata": {},
   "outputs": [
    {
     "data": {
      "text/html": [
       "<table class=\"simpletable\">\n",
       "<caption>OLS Regression Results</caption>\n",
       "<tr>\n",
       "  <th>Dep. Variable:</th>      <td>indus_factor</td>   <th>  R-squared:         </th>  <td>   0.003</td>  \n",
       "</tr>\n",
       "<tr>\n",
       "  <th>Model:</th>                   <td>OLS</td>       <th>  Adj. R-squared:    </th>  <td>   0.003</td>  \n",
       "</tr>\n",
       "<tr>\n",
       "  <th>Method:</th>             <td>Least Squares</td>  <th>  F-statistic:       </th>  <td>   821.5</td>  \n",
       "</tr>\n",
       "<tr>\n",
       "  <th>Date:</th>             <td>Tue, 08 Jul 2025</td> <th>  Prob (F-statistic):</th>  <td>2.33e-180</td> \n",
       "</tr>\n",
       "<tr>\n",
       "  <th>Time:</th>                 <td>15:39:44</td>     <th>  Log-Likelihood:    </th> <td>-1.7537e+06</td>\n",
       "</tr>\n",
       "<tr>\n",
       "  <th>No. Observations:</th>      <td>242478</td>      <th>  AIC:               </th>  <td>3.507e+06</td> \n",
       "</tr>\n",
       "<tr>\n",
       "  <th>Df Residuals:</th>          <td>242476</td>      <th>  BIC:               </th>  <td>3.508e+06</td> \n",
       "</tr>\n",
       "<tr>\n",
       "  <th>Df Model:</th>              <td>     1</td>      <th>                     </th>      <td> </td>     \n",
       "</tr>\n",
       "<tr>\n",
       "  <th>Covariance Type:</th>      <td>nonrobust</td>    <th>                     </th>      <td> </td>     \n",
       "</tr>\n",
       "</table>\n",
       "<table class=\"simpletable\">\n",
       "<tr>\n",
       "         <td></td>           <th>coef</th>     <th>std err</th>      <th>t</th>      <th>P>|t|</th>  <th>[0.025</th>    <th>0.975]</th>  \n",
       "</tr>\n",
       "<tr>\n",
       "  <th>const</th>          <td>  396.1901</td> <td>   13.840</td> <td>   28.627</td> <td> 0.000</td> <td>  369.064</td> <td>  423.316</td>\n",
       "</tr>\n",
       "<tr>\n",
       "  <th>log_market_cap</th> <td>  -17.4757</td> <td>    0.610</td> <td>  -28.661</td> <td> 0.000</td> <td>  -18.671</td> <td>  -16.281</td>\n",
       "</tr>\n",
       "</table>\n",
       "<table class=\"simpletable\">\n",
       "<tr>\n",
       "  <th>Omnibus:</th>       <td>16103.910</td> <th>  Durbin-Watson:     </th> <td>   1.906</td> \n",
       "</tr>\n",
       "<tr>\n",
       "  <th>Prob(Omnibus):</th>  <td> 0.000</td>   <th>  Jarque-Bera (JB):  </th> <td>67601.355</td>\n",
       "</tr>\n",
       "<tr>\n",
       "  <th>Skew:</th>           <td>-0.197</td>   <th>  Prob(JB):          </th> <td>    0.00</td> \n",
       "</tr>\n",
       "<tr>\n",
       "  <th>Kurtosis:</th>       <td> 5.557</td>   <th>  Cond. No.          </th> <td>    463.</td> \n",
       "</tr>\n",
       "</table><br/><br/>Notes:<br/>[1] Standard Errors assume that the covariance matrix of the errors is correctly specified."
      ],
      "text/latex": [
       "\\begin{center}\n",
       "\\begin{tabular}{lclc}\n",
       "\\toprule\n",
       "\\textbf{Dep. Variable:}    &  indus\\_factor   & \\textbf{  R-squared:         } &      0.003   \\\\\n",
       "\\textbf{Model:}            &       OLS        & \\textbf{  Adj. R-squared:    } &      0.003   \\\\\n",
       "\\textbf{Method:}           &  Least Squares   & \\textbf{  F-statistic:       } &      821.5   \\\\\n",
       "\\textbf{Date:}             & Tue, 08 Jul 2025 & \\textbf{  Prob (F-statistic):} &  2.33e-180   \\\\\n",
       "\\textbf{Time:}             &     15:39:44     & \\textbf{  Log-Likelihood:    } & -1.7537e+06  \\\\\n",
       "\\textbf{No. Observations:} &      242478      & \\textbf{  AIC:               } &  3.507e+06   \\\\\n",
       "\\textbf{Df Residuals:}     &      242476      & \\textbf{  BIC:               } &  3.508e+06   \\\\\n",
       "\\textbf{Df Model:}         &           1      & \\textbf{                     } &              \\\\\n",
       "\\textbf{Covariance Type:}  &    nonrobust     & \\textbf{                     } &              \\\\\n",
       "\\bottomrule\n",
       "\\end{tabular}\n",
       "\\begin{tabular}{lcccccc}\n",
       "                          & \\textbf{coef} & \\textbf{std err} & \\textbf{t} & \\textbf{P$> |$t$|$} & \\textbf{[0.025} & \\textbf{0.975]}  \\\\\n",
       "\\midrule\n",
       "\\textbf{const}            &     396.1901  &       13.840     &    28.627  &         0.000        &      369.064    &      423.316     \\\\\n",
       "\\textbf{log\\_market\\_cap} &     -17.4757  &        0.610     &   -28.661  &         0.000        &      -18.671    &      -16.281     \\\\\n",
       "\\bottomrule\n",
       "\\end{tabular}\n",
       "\\begin{tabular}{lclc}\n",
       "\\textbf{Omnibus:}       & 16103.910 & \\textbf{  Durbin-Watson:     } &     1.906  \\\\\n",
       "\\textbf{Prob(Omnibus):} &    0.000  & \\textbf{  Jarque-Bera (JB):  } & 67601.355  \\\\\n",
       "\\textbf{Skew:}          &   -0.197  & \\textbf{  Prob(JB):          } &      0.00  \\\\\n",
       "\\textbf{Kurtosis:}      &    5.557  & \\textbf{  Cond. No.          } &      463.  \\\\\n",
       "\\bottomrule\n",
       "\\end{tabular}\n",
       "%\\caption{OLS Regression Results}\n",
       "\\end{center}\n",
       "\n",
       "Notes: \\newline\n",
       " [1] Standard Errors assume that the covariance matrix of the errors is correctly specified."
      ],
      "text/plain": [
       "<class 'statsmodels.iolib.summary.Summary'>\n",
       "\"\"\"\n",
       "                            OLS Regression Results                            \n",
       "==============================================================================\n",
       "Dep. Variable:           indus_factor   R-squared:                       0.003\n",
       "Model:                            OLS   Adj. R-squared:                  0.003\n",
       "Method:                 Least Squares   F-statistic:                     821.5\n",
       "Date:                Tue, 08 Jul 2025   Prob (F-statistic):          2.33e-180\n",
       "Time:                        15:39:44   Log-Likelihood:            -1.7537e+06\n",
       "No. Observations:              242478   AIC:                         3.507e+06\n",
       "Df Residuals:                  242476   BIC:                         3.508e+06\n",
       "Df Model:                           1                                         \n",
       "Covariance Type:            nonrobust                                         \n",
       "==================================================================================\n",
       "                     coef    std err          t      P>|t|      [0.025      0.975]\n",
       "----------------------------------------------------------------------------------\n",
       "const            396.1901     13.840     28.627      0.000     369.064     423.316\n",
       "log_market_cap   -17.4757      0.610    -28.661      0.000     -18.671     -16.281\n",
       "==============================================================================\n",
       "Omnibus:                    16103.910   Durbin-Watson:                   1.906\n",
       "Prob(Omnibus):                  0.000   Jarque-Bera (JB):            67601.355\n",
       "Skew:                          -0.197   Prob(JB):                         0.00\n",
       "Kurtosis:                       5.557   Cond. No.                         463.\n",
       "==============================================================================\n",
       "\n",
       "Notes:\n",
       "[1] Standard Errors assume that the covariance matrix of the errors is correctly specified.\n",
       "\"\"\""
      ]
     },
     "execution_count": 57,
     "metadata": {},
     "output_type": "execute_result"
    }
   ],
   "source": [
    "result.summary()"
   ]
  },
  {
   "cell_type": "markdown",
   "id": "6a734ce4-d405-48f5-9f2a-ee105723e65d",
   "metadata": {},
   "source": [
    "## IC 测试"
   ]
  },
  {
   "cell_type": "code",
   "execution_count": 11,
   "id": "a9906a6c-7831-4f56-a7f7-2ad89cb9a9cb",
   "metadata": {},
   "outputs": [],
   "source": [
    "def IC_calc_once(factor, factor_col, ret_col):\n",
    "    IC, p = stats.spearmanr(factor[factor_col], factor[ret_col])\n",
    "    return IC\n",
    "\n",
    "def IC_calc(factor, factor_col):\n",
    "    f = factor.copy()\n",
    "    f = pd.merge(\n",
    "        f.sort_values(['issue', 'date']),\n",
    "        price_adj.sort_values(['issue', 'date']),\n",
    "        on=['issue', 'date'],\n",
    "        how='inner'\n",
    "    )  \n",
    "    IC = (\n",
    "        f\n",
    "            .groupby('date')[[factor_col, 'ret_next']]\n",
    "            .apply(IC_calc_once, factor_col='N_connect', ret_col='ret_next')\n",
    "    )\n",
    "    return IC"
   ]
  },
  {
   "cell_type": "markdown",
   "id": "d48a7e0e-a6bb-406f-8d61-129aa7b8efa2",
   "metadata": {},
   "source": [
    "## 分组测试"
   ]
  },
  {
   "cell_type": "markdown",
   "id": "759fe7d2-f61b-45b7-a885-2166f36466c7",
   "metadata": {},
   "source": [
    "## 点度中心性回测"
   ]
  },
  {
   "cell_type": "markdown",
   "id": "be70a8ee-ed35-4060-916b-f08628e04b79",
   "metadata": {},
   "source": [
    "### 读入数据"
   ]
  },
  {
   "cell_type": "code",
   "execution_count": 12,
   "id": "d9c4ee60-e0c7-465e-b41c-76b4985e5104",
   "metadata": {},
   "outputs": [],
   "source": [
    "N_connect_num = feather.read_dataframe('../data/N_connect/N_connect_num.feather')\n",
    "N_connect_size = feather.read_dataframe('../data/N_connect/N_connect_size.feather')"
   ]
  },
  {
   "cell_type": "markdown",
   "id": "2dd52863-390a-4b94-96cf-b86bdd2ba5d1",
   "metadata": {},
   "source": [
    "### IC 测试"
   ]
  },
  {
   "cell_type": "code",
   "execution_count": 13,
   "id": "17c173d5-1898-4cb8-96a1-abc88c06bc5f",
   "metadata": {},
   "outputs": [
    {
     "data": {
      "text/html": [
       "<div>\n",
       "<style scoped>\n",
       "    .dataframe tbody tr th:only-of-type {\n",
       "        vertical-align: middle;\n",
       "    }\n",
       "\n",
       "    .dataframe tbody tr th {\n",
       "        vertical-align: top;\n",
       "    }\n",
       "\n",
       "    .dataframe thead th {\n",
       "        text-align: right;\n",
       "    }\n",
       "</style>\n",
       "<table border=\"1\" class=\"dataframe\">\n",
       "  <thead>\n",
       "    <tr style=\"text-align: right;\">\n",
       "      <th></th>\n",
       "      <th>factor</th>\n",
       "      <th>IC_mean</th>\n",
       "      <th>IC_IR</th>\n",
       "      <th>t</th>\n",
       "      <th>max</th>\n",
       "      <th>min</th>\n",
       "    </tr>\n",
       "  </thead>\n",
       "  <tbody>\n",
       "    <tr>\n",
       "      <th>0</th>\n",
       "      <td>N_connect_num</td>\n",
       "      <td>0.014396</td>\n",
       "      <td>0.195837</td>\n",
       "      <td>1.491448</td>\n",
       "      <td>0.132223</td>\n",
       "      <td>-0.213333</td>\n",
       "    </tr>\n",
       "    <tr>\n",
       "      <th>1</th>\n",
       "      <td>N_connect_size</td>\n",
       "      <td>0.012861</td>\n",
       "      <td>0.161662</td>\n",
       "      <td>1.231179</td>\n",
       "      <td>0.185625</td>\n",
       "      <td>-0.195944</td>\n",
       "    </tr>\n",
       "  </tbody>\n",
       "</table>\n",
       "</div>"
      ],
      "text/plain": [
       "           factor   IC_mean     IC_IR         t       max       min\n",
       "0   N_connect_num  0.014396  0.195837  1.491448  0.132223 -0.213333\n",
       "1  N_connect_size  0.012861  0.161662  1.231179  0.185625 -0.195944"
      ]
     },
     "execution_count": 13,
     "metadata": {},
     "output_type": "execute_result"
    }
   ],
   "source": [
    "df_IC = pd.DataFrame(columns=['factor', 'IC_mean', 'IC_IR', 't', \"max\", 'min'])\n",
    "IC_num = IC_calc(N_connect_num, factor_col='N_connect')\n",
    "df_IC.loc[0]=[\n",
    "        'N_connect_num',\n",
    "        IC_num.mean(),\n",
    "        IC_num.mean() / IC_num.std(),\n",
    "        np.sqrt(len(IC_num)) * IC_num.mean() / IC_num.std(),\n",
    "        IC_num.max(),\n",
    "        IC_num.min()\n",
    "    ]\n",
    "IC_size = IC_calc(N_connect_size, factor_col='N_connect')\n",
    "df_IC.loc[1]=[\n",
    "        'N_connect_size',\n",
    "        IC_size.mean(),\n",
    "        IC_size.mean() / IC_size.std(),\n",
    "        np.sqrt(len(IC_size)) * IC_size.mean() / IC_size.std(),\n",
    "        IC_size.max(),\n",
    "        IC_size.min()\n",
    "    ]\n",
    "df_IC"
   ]
  },
  {
   "cell_type": "markdown",
   "id": "0189fad7-3de2-45d1-a197-4865ca35c0d1",
   "metadata": {},
   "source": [
    "### 分组测试"
   ]
  }
 ],
 "metadata": {
  "kernelspec": {
   "display_name": "Python 3 (ipykernel)",
   "language": "python",
   "name": "python3"
  },
  "language_info": {
   "codemirror_mode": {
    "name": "ipython",
    "version": 3
   },
   "file_extension": ".py",
   "mimetype": "text/x-python",
   "name": "python",
   "nbconvert_exporter": "python",
   "pygments_lexer": "ipython3",
   "version": "3.11.9"
  }
 },
 "nbformat": 4,
 "nbformat_minor": 5
}
