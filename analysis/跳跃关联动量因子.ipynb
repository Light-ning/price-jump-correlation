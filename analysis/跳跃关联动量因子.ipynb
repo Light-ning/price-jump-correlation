{
 "cells": [
  {
   "cell_type": "markdown",
   "id": "2077bbd6-ecc7-4d99-a242-5f8b6a13273e",
   "metadata": {},
   "source": [
    "# 跳跃关联动量因子"
   ]
  },
  {
   "cell_type": "markdown",
   "id": "0581fe29-054d-403f-a069-71a175a98dbd",
   "metadata": {},
   "source": [
    "## 导入模块"
   ]
  },
  {
   "cell_type": "code",
   "execution_count": 97,
   "id": "f10efa41-8120-4362-bf7c-6fc2da3e55d6",
   "metadata": {},
   "outputs": [],
   "source": [
    "import numpy as np\n",
    "import pandas as pd\n",
    "from matplotlib import pyplot as plt\n",
    "import feather\n",
    "import statsmodels.api as sm"
   ]
  },
  {
   "cell_type": "markdown",
   "id": "54f9e939-a78c-4477-9e71-5392e039b8a5",
   "metadata": {},
   "source": [
    "## 读入日线数据"
   ]
  },
  {
   "cell_type": "markdown",
   "id": "85b2651e-ea4d-4a77-a3e2-cd307720291d",
   "metadata": {},
   "source": [
    "### 日线数据"
   ]
  },
  {
   "cell_type": "code",
   "execution_count": 2,
   "id": "7645ffb6-5bff-4f9a-99f5-e289b6709c1b",
   "metadata": {},
   "outputs": [],
   "source": [
    "price_1d = feather.read_dataframe('../data/StockPriceK1d_20241231.feather')\n",
    "price_1d = price_1d[(price_1d['date'] >= '2019-01-01') & (price_1d['date'] <= '2024-12-31')]"
   ]
  },
  {
   "cell_type": "markdown",
   "id": "4ab2d2e9-c11b-47df-8b82-cdf3c08fe2b7",
   "metadata": {},
   "source": [
    "## 计算过去 20 天收益率"
   ]
  },
  {
   "cell_type": "code",
   "execution_count": 25,
   "id": "484ec134-d81c-4625-a09b-e2a336f245c2",
   "metadata": {},
   "outputs": [
    {
     "name": "stdout",
     "output_type": "stream",
     "text": [
      "CPU times: total: 26 s\n",
      "Wall time: 26.4 s\n"
     ]
    }
   ],
   "source": [
    "%%time\n",
    "price_1d['ret_plus'] = 1 + price_1d['ret']\n",
    "price_1d['ret_20'] = (\n",
    "    price_1d\n",
    "        .groupby('issue')['ret_plus']\n",
    "        .transform(lambda x: x.rolling(20).apply(np.prod, raw=True) - 1)\n",
    ")\n",
    "price_1d = price_1d.drop(columns='ret_plus')"
   ]
  },
  {
   "cell_type": "markdown",
   "id": "ade9038c-d987-4801-bb7c-769a80539854",
   "metadata": {},
   "source": [
    "## 跳跃关联动量"
   ]
  },
  {
   "cell_type": "markdown",
   "id": "23dd19a3-6f20-4b6b-a256-838b18d55642",
   "metadata": {},
   "source": [
    "### 读入相关性 & 矩阵展平 & 稀疏化处理"
   ]
  },
  {
   "cell_type": "code",
   "execution_count": 113,
   "id": "4401cfb1-894a-4535-bb1b-c74573be847f",
   "metadata": {},
   "outputs": [],
   "source": [
    "def get_correlation(date: str):\n",
    "    date_pd = pd.to_datetime(date)\n",
    "    date_str = date_pd.strftime('%Y%m%d')\n",
    "    corr = feather.read_dataframe(f'../data/corr/corr_num_{date_str}.feather')\n",
    "    np.fill_diagonal(corr.values, 0)\n",
    "    corr = (\n",
    "        corr\n",
    "            .stack()\n",
    "            .rename('corr')\n",
    "            .rename_axis(['issue_i', 'issue_j'])\n",
    "    )\n",
    "    corr = corr.reset_index()\n",
    "    \n",
    "    med = corr.loc[corr['corr'] > 0, 'corr'].median()\n",
    "    corr.loc[corr['corr'] < med, 'corr'] = 0\n",
    "\n",
    "    return corr"
   ]
  },
  {
   "cell_type": "markdown",
   "id": "c1ea8788-ad13-41b6-bb21-1c090f7e941e",
   "metadata": {},
   "source": [
    "## 计算绝对动量"
   ]
  },
  {
   "cell_type": "code",
   "execution_count": 66,
   "id": "15902d99-8ec6-4910-a4b9-ea8c2759dd50",
   "metadata": {},
   "outputs": [],
   "source": [
    "prc_date = price_1d.loc[price_1d['date'] == date, ['issue', 'ret_20']]\n",
    "corr_ret = pd.merge(\n",
    "    corr,\n",
    "    prc_date,\n",
    "    left_on='issue_j',\n",
    "    right_on='issue',\n",
    "    how='left'\n",
    ")"
   ]
  },
  {
   "cell_type": "code",
   "execution_count": 93,
   "id": "12ab47a9-f926-4bab-9fe3-939ec74eeac9",
   "metadata": {},
   "outputs": [
    {
     "name": "stdout",
     "output_type": "stream",
     "text": [
      "CPU times: total: 3.12 s\n",
      "Wall time: 3.19 s\n"
     ]
    }
   ],
   "source": [
    "%%time\n",
    "\n",
    "def peer_ret_calc(corr_ret: pd.DataFrame):\n",
    "    nume = (corr_ret['corr'] * corr_ret['ret_20']).sum()\n",
    "    deno = corr_ret['corr'].sum()\n",
    "    if deno == 0:\n",
    "        return np.nan\n",
    "    peer_ret = nume / deno\n",
    "    return peer_ret\n",
    "\n",
    "peer_ret = (\n",
    "    corr_ret\n",
    "        .groupby('issue_i')[['corr', 'ret_20']]\n",
    "        .apply(peer_ret_calc)\n",
    ")\n",
    "peer_ret = peer_ret.dropna()\n",
    "peer_ret = peer_ret.rename('peer_ret')\n",
    "peer_ret = peer_ret.rename_axis(index = {'issue_i': 'issue'})\n",
    "peer_ret = peer_ret.to_frame().reset_index()\n",
    "\n",
    "peer_ret = pd.merge(\n",
    "    peer_ret,\n",
    "    prc_date,\n",
    "    on='issue',\n",
    "    how='left'\n",
    ")\n",
    "peer_ret = peer_ret.dropna(subset='ret_20')\n",
    "peer_ret['date'] = date"
   ]
  },
  {
   "cell_type": "code",
   "execution_count": 94,
   "id": "79e2e194-ebde-4b61-86d4-174ffcb995cf",
   "metadata": {},
   "outputs": [
    {
     "data": {
      "text/html": [
       "<div>\n",
       "<style scoped>\n",
       "    .dataframe tbody tr th:only-of-type {\n",
       "        vertical-align: middle;\n",
       "    }\n",
       "\n",
       "    .dataframe tbody tr th {\n",
       "        vertical-align: top;\n",
       "    }\n",
       "\n",
       "    .dataframe thead th {\n",
       "        text-align: right;\n",
       "    }\n",
       "</style>\n",
       "<table border=\"1\" class=\"dataframe\">\n",
       "  <thead>\n",
       "    <tr style=\"text-align: right;\">\n",
       "      <th></th>\n",
       "      <th>issue</th>\n",
       "      <th>peer_ret</th>\n",
       "      <th>ret_20</th>\n",
       "      <th>date</th>\n",
       "    </tr>\n",
       "  </thead>\n",
       "  <tbody>\n",
       "    <tr>\n",
       "      <th>0</th>\n",
       "      <td>000001</td>\n",
       "      <td>-0.200617</td>\n",
       "      <td>0.028261</td>\n",
       "      <td>2024-01-31</td>\n",
       "    </tr>\n",
       "    <tr>\n",
       "      <th>1</th>\n",
       "      <td>000002</td>\n",
       "      <td>-0.213494</td>\n",
       "      <td>-0.052320</td>\n",
       "      <td>2024-01-31</td>\n",
       "    </tr>\n",
       "    <tr>\n",
       "      <th>2</th>\n",
       "      <td>000004</td>\n",
       "      <td>-0.223841</td>\n",
       "      <td>-0.242331</td>\n",
       "      <td>2024-01-31</td>\n",
       "    </tr>\n",
       "    <tr>\n",
       "      <th>3</th>\n",
       "      <td>000005</td>\n",
       "      <td>-0.203064</td>\n",
       "      <td>-0.175439</td>\n",
       "      <td>2024-01-31</td>\n",
       "    </tr>\n",
       "    <tr>\n",
       "      <th>4</th>\n",
       "      <td>000006</td>\n",
       "      <td>-0.208031</td>\n",
       "      <td>-0.075388</td>\n",
       "      <td>2024-01-31</td>\n",
       "    </tr>\n",
       "    <tr>\n",
       "      <th>...</th>\n",
       "      <td>...</td>\n",
       "      <td>...</td>\n",
       "      <td>...</td>\n",
       "      <td>...</td>\n",
       "    </tr>\n",
       "    <tr>\n",
       "      <th>5092</th>\n",
       "      <td>688799</td>\n",
       "      <td>-0.214031</td>\n",
       "      <td>-0.223481</td>\n",
       "      <td>2024-01-31</td>\n",
       "    </tr>\n",
       "    <tr>\n",
       "      <th>5093</th>\n",
       "      <td>688800</td>\n",
       "      <td>-0.226852</td>\n",
       "      <td>-0.334086</td>\n",
       "      <td>2024-01-31</td>\n",
       "    </tr>\n",
       "    <tr>\n",
       "      <th>5094</th>\n",
       "      <td>688819</td>\n",
       "      <td>-0.223211</td>\n",
       "      <td>-0.110631</td>\n",
       "      <td>2024-01-31</td>\n",
       "    </tr>\n",
       "    <tr>\n",
       "      <th>5095</th>\n",
       "      <td>688981</td>\n",
       "      <td>-0.225989</td>\n",
       "      <td>-0.175114</td>\n",
       "      <td>2024-01-31</td>\n",
       "    </tr>\n",
       "    <tr>\n",
       "      <th>5096</th>\n",
       "      <td>689009</td>\n",
       "      <td>-0.215716</td>\n",
       "      <td>-0.187326</td>\n",
       "      <td>2024-01-31</td>\n",
       "    </tr>\n",
       "  </tbody>\n",
       "</table>\n",
       "<p>5085 rows × 4 columns</p>\n",
       "</div>"
      ],
      "text/plain": [
       "       issue  peer_ret    ret_20       date\n",
       "0     000001 -0.200617  0.028261 2024-01-31\n",
       "1     000002 -0.213494 -0.052320 2024-01-31\n",
       "2     000004 -0.223841 -0.242331 2024-01-31\n",
       "3     000005 -0.203064 -0.175439 2024-01-31\n",
       "4     000006 -0.208031 -0.075388 2024-01-31\n",
       "...      ...       ...       ...        ...\n",
       "5092  688799 -0.214031 -0.223481 2024-01-31\n",
       "5093  688800 -0.226852 -0.334086 2024-01-31\n",
       "5094  688819 -0.223211 -0.110631 2024-01-31\n",
       "5095  688981 -0.225989 -0.175114 2024-01-31\n",
       "5096  689009 -0.215716 -0.187326 2024-01-31\n",
       "\n",
       "[5085 rows x 4 columns]"
      ]
     },
     "execution_count": 94,
     "metadata": {},
     "output_type": "execute_result"
    }
   ],
   "source": [
    "peer_ret"
   ]
  },
  {
   "cell_type": "markdown",
   "id": "dad88bfa-f35d-49a4-b203-44c6ad1fbb88",
   "metadata": {},
   "source": [
    "## 计算相对动量"
   ]
  },
  {
   "cell_type": "code",
   "execution_count": 106,
   "id": "fe2cc0c7-e8e6-464c-b076-350e08ac751b",
   "metadata": {},
   "outputs": [
    {
     "data": {
      "image/png": "[encoded data removed]",
      "text/plain": [
       "<Figure size 640x480 with 1 Axes>"
      ]
     },
     "metadata": {},
     "output_type": "display_data"
    }
   ],
   "source": [
    "x = peer_ret['ret_20']\n",
    "x = sm.add_constant(x)\n",
    "y = peer_ret['peer_ret']\n",
    "result = sm.OLS(y, x).fit()\n",
    "peer_ret['peer_relative_ret'] = result.resid\n",
    "plt.hist2d(y, result.resid, bins=30)\n",
    "plt.show()"
   ]
  }
 ],
 "metadata": {
  "kernelspec": {
   "display_name": "Python 3 (ipykernel)",
   "language": "python",
   "name": "python3"
  },
  "language_info": {
   "codemirror_mode": {
    "name": "ipython",
    "version": 3
   },
   "file_extension": ".py",
   "mimetype": "text/x-python",
   "name": "python",
   "nbconvert_exporter": "python",
   "pygments_lexer": "ipython3",
   "version": "3.11.9"
  }
 },
 "nbformat": 4,
 "nbformat_minor": 5
}
