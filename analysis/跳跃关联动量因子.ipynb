{
 "cells": [
  {
   "cell_type": "markdown",
   "id": "2077bbd6-ecc7-4d99-a242-5f8b6a13273e",
   "metadata": {},
   "source": [
    "# 跳跃关联动量因子"
   ]
  },
  {
   "cell_type": "markdown",
   "id": "0581fe29-054d-403f-a069-71a175a98dbd",
   "metadata": {
    "jp-MarkdownHeadingCollapsed": true
   },
   "source": [
    "## 导入模块"
   ]
  },
  {
   "cell_type": "code",
   "execution_count": 97,
   "id": "f10efa41-8120-4362-bf7c-6fc2da3e55d6",
   "metadata": {},
   "outputs": [],
   "source": [
    "import numpy as np\n",
    "import pandas as pd\n",
    "from matplotlib import pyplot as plt\n",
    "import feather\n",
    "import statsmodels.api as sm"
   ]
  },
  {
   "cell_type": "markdown",
   "id": "54f9e939-a78c-4477-9e71-5392e039b8a5",
   "metadata": {
    "jp-MarkdownHeadingCollapsed": true
   },
   "source": [
    "## 读入日线数据"
   ]
  },
  {
   "cell_type": "markdown",
   "id": "85b2651e-ea4d-4a77-a3e2-cd307720291d",
   "metadata": {},
   "source": [
    "### 日线数据"
   ]
  },
  {
   "cell_type": "code",
   "execution_count": 2,
   "id": "7645ffb6-5bff-4f9a-99f5-e289b6709c1b",
   "metadata": {},
   "outputs": [],
   "source": [
    "price_1d = feather.read_dataframe('../data/StockPriceK1d_20241231.feather')\n",
    "price_1d = price_1d[(price_1d['date'] >= '2019-01-01') & (price_1d['date'] <= '2024-12-31')]"
   ]
  },
  {
   "cell_type": "markdown",
   "id": "4ab2d2e9-c11b-47df-8b82-cdf3c08fe2b7",
   "metadata": {},
   "source": [
    "## 计算过去 20 天收益率"
   ]
  },
  {
   "cell_type": "code",
   "execution_count": 25,
   "id": "484ec134-d81c-4625-a09b-e2a336f245c2",
   "metadata": {},
   "outputs": [
    {
     "name": "stdout",
     "output_type": "stream",
     "text": [
      "CPU times: total: 26 s\n",
      "Wall time: 26.4 s\n"
     ]
    }
   ],
   "source": [
    "%%time\n",
    "price_1d['ret_plus'] = 1 + price_1d['ret']\n",
    "price_1d['ret_20'] = (\n",
    "    price_1d\n",
    "        .groupby('issue')['ret_plus']\n",
    "        .transform(lambda x: x.rolling(20).apply(np.prod, raw=True) - 1)\n",
    ")\n",
    "price_1d = price_1d.drop(columns='ret_plus')"
   ]
  },
  {
   "cell_type": "markdown",
   "id": "ade9038c-d987-4801-bb7c-769a80539854",
   "metadata": {},
   "source": [
    "## 跳跃关联动量"
   ]
  },
  {
   "cell_type": "markdown",
   "id": "23dd19a3-6f20-4b6b-a256-838b18d55642",
   "metadata": {},
   "source": [
    "### 读入相关性 & 矩阵展平 & 稀疏化处理"
   ]
  },
  {
   "cell_type": "code",
   "execution_count": 113,
   "id": "4401cfb1-894a-4535-bb1b-c74573be847f",
   "metadata": {},
   "outputs": [],
   "source": [
    "def get_correlation(date: str):\n",
    "    date_pd = pd.to_datetime(date)\n",
    "    date_str = date_pd.strftime('%Y%m%d')\n",
    "    corr = feather.read_dataframe(f'../data/corr/corr_num_{date_str}.feather')\n",
    "    np.fill_diagonal(corr.values, 0)\n",
    "    corr = (\n",
    "        corr\n",
    "            .stack()\n",
    "            .rename('corr')\n",
    "            .rename_axis(['issue_i', 'issue_j'])\n",
    "    )\n",
    "    corr = corr.reset_index()\n",
    "    \n",
    "    med = corr.loc[corr['corr'] > 0, 'corr'].median()\n",
    "    corr.loc[corr['corr'] < med, 'corr'] = 0\n",
    "\n",
    "    return corr"
   ]
  },
  {
   "cell_type": "markdown",
   "id": "c1ea8788-ad13-41b6-bb21-1c090f7e941e",
   "metadata": {},
   "source": [
    "### 计算绝对动量"
   ]
  },
  {
   "cell_type": "code",
   "execution_count": 116,
   "id": "12ab47a9-f926-4bab-9fe3-939ec74eeac9",
   "metadata": {},
   "outputs": [],
   "source": [
    "def peer_ret_calc(corr_ret: pd.DataFrame):\n",
    "    nume = (corr_ret['corr'] * corr_ret['ret_20']).sum()\n",
    "    deno = corr_ret['corr'].sum()\n",
    "    if deno == 0:\n",
    "        return np.nan\n",
    "    peer_ret = nume / deno\n",
    "    return peer_ret\n",
    "\n",
    "def get_peer_abs_ret(date: str, corr: pd.DataFrame):\n",
    "    date_pd = pd.to_datetime(date)\n",
    "    prc_date = price_1d.loc[price_1d['date'] == date_pd, ['issue', 'ret_20']]\n",
    "    corr_ret = pd.merge(\n",
    "        corr,\n",
    "        prc_date,\n",
    "        left_on='issue_j',\n",
    "        right_on='issue',\n",
    "        how='left'\n",
    "    )\n",
    "    \n",
    "    peer_ret = (\n",
    "        corr_ret\n",
    "            .groupby('issue_i')[['corr', 'ret_20']]\n",
    "            .apply(peer_ret_calc)\n",
    "    )\n",
    "    peer_ret = peer_ret.dropna()\n",
    "    peer_ret = peer_ret.rename('peer_ret')\n",
    "    peer_ret = peer_ret.rename_axis(index = {'issue_i': 'issue'})\n",
    "    peer_ret = peer_ret.to_frame().reset_index()\n",
    "    \n",
    "    peer_ret = pd.merge(\n",
    "        peer_ret,\n",
    "        prc_date,\n",
    "        on='issue',\n",
    "        how='left'\n",
    "    )\n",
    "    peer_ret = peer_ret.dropna(subset='ret_20')\n",
    "    peer_ret['date'] = date_pd\n",
    "    return peer_ret"
   ]
  },
  {
   "cell_type": "markdown",
   "id": "dad88bfa-f35d-49a4-b203-44c6ad1fbb88",
   "metadata": {},
   "source": [
    "### 计算相对动量"
   ]
  },
  {
   "cell_type": "code",
   "execution_count": 117,
   "id": "fe2cc0c7-e8e6-464c-b076-350e08ac751b",
   "metadata": {},
   "outputs": [],
   "source": [
    "def get_peer_relative_ret(peer_ret: pd.DataFrame, plot=False):\n",
    "    x = peer_ret['ret_20']\n",
    "    x = sm.add_constant(x)\n",
    "    y = peer_ret['peer_ret']\n",
    "    result = sm.OLS(y, x).fit()\n",
    "    if plot:\n",
    "        plt.hist2d(y, result.resid, bins=30)\n",
    "        plt.show()\n",
    "    return result.resid"
   ]
  },
  {
   "cell_type": "markdown",
   "id": "ebd4b6c1-9a0c-4d5f-ae31-e26a380986d2",
   "metadata": {},
   "source": [
    "### 规模运算"
   ]
  },
  {
   "cell_type": "code",
   "execution_count": 119,
   "id": "57a86314-a8ad-4fdf-834a-5fb74ef46862",
   "metadata": {},
   "outputs": [
    {
     "data": {
      "text/html": [
       "<div>\n",
       "<style scoped>\n",
       "    .dataframe tbody tr th:only-of-type {\n",
       "        vertical-align: middle;\n",
       "    }\n",
       "\n",
       "    .dataframe tbody tr th {\n",
       "        vertical-align: top;\n",
       "    }\n",
       "\n",
       "    .dataframe thead th {\n",
       "        text-align: right;\n",
       "    }\n",
       "</style>\n",
       "<table border=\"1\" class=\"dataframe\">\n",
       "  <thead>\n",
       "    <tr style=\"text-align: right;\">\n",
       "      <th></th>\n",
       "      <th>date</th>\n",
       "      <th>issue</th>\n",
       "      <th>ret_20</th>\n",
       "      <th>peer_ret</th>\n",
       "      <th>peer_relative_ret</th>\n",
       "    </tr>\n",
       "  </thead>\n",
       "  <tbody>\n",
       "    <tr>\n",
       "      <th>0</th>\n",
       "      <td>2019-08-30</td>\n",
       "      <td>000001</td>\n",
       "      <td>0.030568</td>\n",
       "      <td>0.017180</td>\n",
       "      <td>0.001995</td>\n",
       "    </tr>\n",
       "    <tr>\n",
       "      <th>1</th>\n",
       "      <td>2019-08-30</td>\n",
       "      <td>000002</td>\n",
       "      <td>-0.041816</td>\n",
       "      <td>0.015868</td>\n",
       "      <td>0.001312</td>\n",
       "    </tr>\n",
       "    <tr>\n",
       "      <th>2</th>\n",
       "      <td>2019-08-30</td>\n",
       "      <td>000004</td>\n",
       "      <td>0.058133</td>\n",
       "      <td>0.020375</td>\n",
       "      <td>0.004951</td>\n",
       "    </tr>\n",
       "    <tr>\n",
       "      <th>3</th>\n",
       "      <td>2019-08-30</td>\n",
       "      <td>000005</td>\n",
       "      <td>0.099291</td>\n",
       "      <td>0.012767</td>\n",
       "      <td>-0.003015</td>\n",
       "    </tr>\n",
       "    <tr>\n",
       "      <th>4</th>\n",
       "      <td>2019-08-30</td>\n",
       "      <td>000006</td>\n",
       "      <td>0.033138</td>\n",
       "      <td>0.011101</td>\n",
       "      <td>-0.004107</td>\n",
       "    </tr>\n",
       "    <tr>\n",
       "      <th>...</th>\n",
       "      <td>...</td>\n",
       "      <td>...</td>\n",
       "      <td>...</td>\n",
       "      <td>...</td>\n",
       "      <td>...</td>\n",
       "    </tr>\n",
       "    <tr>\n",
       "      <th>3660</th>\n",
       "      <td>2019-08-30</td>\n",
       "      <td>688066</td>\n",
       "      <td>-0.136311</td>\n",
       "      <td>0.038520</td>\n",
       "      <td>0.024783</td>\n",
       "    </tr>\n",
       "    <tr>\n",
       "      <th>3661</th>\n",
       "      <td>2019-08-30</td>\n",
       "      <td>688088</td>\n",
       "      <td>-0.190850</td>\n",
       "      <td>0.017652</td>\n",
       "      <td>0.004390</td>\n",
       "    </tr>\n",
       "    <tr>\n",
       "      <th>3663</th>\n",
       "      <td>2019-08-30</td>\n",
       "      <td>688122</td>\n",
       "      <td>-0.261429</td>\n",
       "      <td>0.011305</td>\n",
       "      <td>-0.001345</td>\n",
       "    </tr>\n",
       "    <tr>\n",
       "      <th>3666</th>\n",
       "      <td>2019-08-30</td>\n",
       "      <td>688333</td>\n",
       "      <td>-0.251020</td>\n",
       "      <td>0.018824</td>\n",
       "      <td>0.006084</td>\n",
       "    </tr>\n",
       "    <tr>\n",
       "      <th>3667</th>\n",
       "      <td>2019-08-30</td>\n",
       "      <td>688388</td>\n",
       "      <td>-0.192205</td>\n",
       "      <td>0.010905</td>\n",
       "      <td>-0.002346</td>\n",
       "    </tr>\n",
       "  </tbody>\n",
       "</table>\n",
       "<p>3657 rows × 5 columns</p>\n",
       "</div>"
      ],
      "text/plain": [
       "           date   issue    ret_20  peer_ret  peer_relative_ret\n",
       "0    2019-08-30  000001  0.030568  0.017180           0.001995\n",
       "1    2019-08-30  000002 -0.041816  0.015868           0.001312\n",
       "2    2019-08-30  000004  0.058133  0.020375           0.004951\n",
       "3    2019-08-30  000005  0.099291  0.012767          -0.003015\n",
       "4    2019-08-30  000006  0.033138  0.011101          -0.004107\n",
       "...         ...     ...       ...       ...                ...\n",
       "3660 2019-08-30  688066 -0.136311  0.038520           0.024783\n",
       "3661 2019-08-30  688088 -0.190850  0.017652           0.004390\n",
       "3663 2019-08-30  688122 -0.261429  0.011305          -0.001345\n",
       "3666 2019-08-30  688333 -0.251020  0.018824           0.006084\n",
       "3667 2019-08-30  688388 -0.192205  0.010905          -0.002346\n",
       "\n",
       "[3657 rows x 5 columns]"
      ]
     },
     "execution_count": 119,
     "metadata": {},
     "output_type": "execute_result"
    }
   ],
   "source": [
    "date = '2019-08-30'\n",
    "corr = get_correlation(date)\n",
    "peer_ret = get_peer_abs_ret(date, corr)\n",
    "peer_ret['peer_relative_ret'] = get_peer_relative_ret(peer_ret)\n",
    "peer_ret = peer_ret[['date', 'issue', 'ret_20', 'peer_ret', 'peer_relative_ret']]\n",
    "peer_ret"
   ]
  }
 ],
 "metadata": {
  "kernelspec": {
   "display_name": "Python 3 (ipykernel)",
   "language": "python",
   "name": "python3"
  },
  "language_info": {
   "codemirror_mode": {
    "name": "ipython",
    "version": 3
   },
   "file_extension": ".py",
   "mimetype": "text/x-python",
   "name": "python",
   "nbconvert_exporter": "python",
   "pygments_lexer": "ipython3",
   "version": "3.11.9"
  }
 },
 "nbformat": 4,
 "nbformat_minor": 5
}
