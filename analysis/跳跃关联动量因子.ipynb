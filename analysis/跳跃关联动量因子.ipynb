{
 "cells": [
  {
   "cell_type": "markdown",
   "id": "2077bbd6-ecc7-4d99-a242-5f8b6a13273e",
   "metadata": {},
   "source": [
    "# 跳跃关联动量因子"
   ]
  },
  {
   "cell_type": "markdown",
   "id": "0581fe29-054d-403f-a069-71a175a98dbd",
   "metadata": {},
   "source": [
    "## 导入模块"
   ]
  },
  {
   "cell_type": "code",
   "execution_count": 1,
   "id": "f10efa41-8120-4362-bf7c-6fc2da3e55d6",
   "metadata": {},
   "outputs": [],
   "source": [
    "import numpy as np\n",
    "import pandas as pd\n",
    "from matplotlib import pyplot as plt\n",
    "import feather\n",
    "import statsmodels.api as sm\n",
    "from tqdm.notebook import tqdm\n",
    "import os"
   ]
  },
  {
   "cell_type": "markdown",
   "id": "54f9e939-a78c-4477-9e71-5392e039b8a5",
   "metadata": {},
   "source": [
    "## 读入日线数据"
   ]
  },
  {
   "cell_type": "markdown",
   "id": "85b2651e-ea4d-4a77-a3e2-cd307720291d",
   "metadata": {},
   "source": [
    "### 日线数据"
   ]
  },
  {
   "cell_type": "code",
   "execution_count": 2,
   "id": "7645ffb6-5bff-4f9a-99f5-e289b6709c1b",
   "metadata": {},
   "outputs": [],
   "source": [
    "price_1d = feather.read_dataframe('../data/StockPriceK1d_20241231.feather')\n",
    "price_1d = price_1d[(price_1d['date'] >= '2019-01-01') & (price_1d['date'] <= '2024-12-31')]"
   ]
  },
  {
   "cell_type": "markdown",
   "id": "1312e519-443e-47af-bcee-c98d12fa484c",
   "metadata": {},
   "source": [
    "### 调仓日"
   ]
  },
  {
   "cell_type": "code",
   "execution_count": 3,
   "id": "1b1ee3c1-1018-49e0-aa3a-a493bbb9e669",
   "metadata": {},
   "outputs": [],
   "source": [
    "start_date = '2019-08-01'\n",
    "end_date = '2025-01-01'\n",
    "trade_date = price_1d['date'].sort_values().unique()\n",
    "mes = pd.date_range(start=start_date, end=end_date, freq='1ME')\n",
    "adj_date = np.array([], dtype=np.datetime64)\n",
    "for me in mes:\n",
    "    trade_date_before = trade_date[trade_date <= me]\n",
    "    ad = trade_date_before[-1]\n",
    "    adj_date = np.append(adj_date, ad)\n",
    "df_adj = pd.DataFrame({'adj_date': adj_date})\n",
    "feather.write_dataframe(df_adj, '../data/adj_date.feather')"
   ]
  },
  {
   "cell_type": "markdown",
   "id": "4ab2d2e9-c11b-47df-8b82-cdf3c08fe2b7",
   "metadata": {},
   "source": [
    "## 计算过去 20 天收益率"
   ]
  },
  {
   "cell_type": "code",
   "execution_count": 4,
   "id": "484ec134-d81c-4625-a09b-e2a336f245c2",
   "metadata": {},
   "outputs": [
    {
     "name": "stdout",
     "output_type": "stream",
     "text": [
      "CPU times: total: 26.5 s\n",
      "Wall time: 27.2 s\n"
     ]
    }
   ],
   "source": [
    "%%time\n",
    "price_1d['ret_plus'] = 1 + price_1d['ret']\n",
    "price_1d['ret_20'] = (\n",
    "    price_1d\n",
    "        .groupby('issue')['ret_plus']\n",
    "        .transform(lambda x: x.rolling(20).apply(np.prod, raw=True) - 1)\n",
    ")\n",
    "price_1d = price_1d.drop(columns='ret_plus')"
   ]
  },
  {
   "cell_type": "markdown",
   "id": "ade9038c-d987-4801-bb7c-769a80539854",
   "metadata": {},
   "source": [
    "## 跳跃关联动量"
   ]
  },
  {
   "cell_type": "markdown",
   "id": "23dd19a3-6f20-4b6b-a256-838b18d55642",
   "metadata": {},
   "source": [
    "### 读入相关性 & 矩阵展平 & 稀疏化处理"
   ]
  },
  {
   "cell_type": "code",
   "execution_count": 5,
   "id": "4401cfb1-894a-4535-bb1b-c74573be847f",
   "metadata": {},
   "outputs": [],
   "source": [
    "def get_correlation(date, factor_type: str):\n",
    "    date_str = date.strftime('%Y%m%d')\n",
    "    corr = feather.read_dataframe(f'../data/corr/corr_{factor_type}_{date_str}.feather')\n",
    "    np.fill_diagonal(corr.values, 0)\n",
    "    corr = (\n",
    "        corr\n",
    "            .stack()\n",
    "            .rename('corr')\n",
    "            .rename_axis(['issue_i', 'issue_j'])\n",
    "    )\n",
    "    corr = corr.reset_index()\n",
    "    \n",
    "    med = corr.loc[corr['corr'] > 0, 'corr'].median()\n",
    "    corr.loc[corr['corr'] < med, 'corr'] = 0\n",
    "\n",
    "    return corr"
   ]
  },
  {
   "cell_type": "markdown",
   "id": "c1ea8788-ad13-41b6-bb21-1c090f7e941e",
   "metadata": {},
   "source": [
    "### 计算绝对动量"
   ]
  },
  {
   "cell_type": "code",
   "execution_count": 6,
   "id": "12ab47a9-f926-4bab-9fe3-939ec74eeac9",
   "metadata": {},
   "outputs": [],
   "source": [
    "def peer_ret_calc(corr_ret: pd.DataFrame):\n",
    "    nume = (corr_ret['corr'] * corr_ret['ret_20']).sum()\n",
    "    deno = corr_ret['corr'].sum()\n",
    "    if deno == 0:\n",
    "        return np.nan\n",
    "    peer_ret = nume / deno\n",
    "    return peer_ret\n",
    "\n",
    "def get_peer_abs_ret(date, corr: pd.DataFrame):\n",
    "    prc_date = price_1d.loc[price_1d['date'] == date, ['issue', 'ret_20']]\n",
    "    corr_ret = pd.merge(\n",
    "        corr,\n",
    "        prc_date,\n",
    "        left_on='issue_j',\n",
    "        right_on='issue',\n",
    "        how='left'\n",
    "    )\n",
    "    \n",
    "    peer_ret = (\n",
    "        corr_ret\n",
    "            .groupby('issue_i')[['corr', 'ret_20']]\n",
    "            .apply(peer_ret_calc)\n",
    "    )\n",
    "    peer_ret = peer_ret.dropna()\n",
    "    peer_ret = peer_ret.rename('peer_ret')\n",
    "    peer_ret = peer_ret.rename_axis(index = {'issue_i': 'issue'})\n",
    "    peer_ret = peer_ret.to_frame().reset_index()\n",
    "    \n",
    "    peer_ret = pd.merge(\n",
    "        peer_ret,\n",
    "        prc_date,\n",
    "        on='issue',\n",
    "        how='left'\n",
    "    )\n",
    "    peer_ret = peer_ret.dropna(subset='ret_20')\n",
    "    peer_ret['date'] = date\n",
    "    return peer_ret"
   ]
  },
  {
   "cell_type": "markdown",
   "id": "dad88bfa-f35d-49a4-b203-44c6ad1fbb88",
   "metadata": {},
   "source": [
    "### 计算相对动量"
   ]
  },
  {
   "cell_type": "code",
   "execution_count": 7,
   "id": "fe2cc0c7-e8e6-464c-b076-350e08ac751b",
   "metadata": {},
   "outputs": [],
   "source": [
    "def get_peer_relative_ret(peer_ret: pd.DataFrame, plot=False):\n",
    "    x = peer_ret['ret_20']\n",
    "    x = sm.add_constant(x)\n",
    "    y = peer_ret['peer_ret']\n",
    "    result = sm.OLS(y, x).fit()\n",
    "    if plot:\n",
    "        plt.hist2d(y, result.resid, bins=30)\n",
    "        plt.show()\n",
    "    return result.resid"
   ]
  },
  {
   "cell_type": "markdown",
   "id": "ebd4b6c1-9a0c-4d5f-ae31-e26a380986d2",
   "metadata": {},
   "source": [
    "### 规模运算 & 保存"
   ]
  },
  {
   "cell_type": "code",
   "execution_count": 8,
   "id": "57a86314-a8ad-4fdf-834a-5fb74ef46862",
   "metadata": {},
   "outputs": [
    {
     "data": {
      "application/vnd.jupyter.widget-view+json": {
       "model_id": "21bc0ede9bfe40919c084afc0a00778c",
       "version_major": 2,
       "version_minor": 0
      },
      "text/plain": [
       "  0%|          | 0/65 [00:00<?, ?it/s]"
      ]
     },
     "metadata": {},
     "output_type": "display_data"
    },
    {
     "data": {
      "application/vnd.jupyter.widget-view+json": {
       "model_id": "b33a69a9969242f28e1d7eccafb3eeca",
       "version_major": 2,
       "version_minor": 0
      },
      "text/plain": [
       "  0%|          | 0/65 [00:00<?, ?it/s]"
      ]
     },
     "metadata": {},
     "output_type": "display_data"
    }
   ],
   "source": [
    "def get_peer_ret_factor(factor_type: str):\n",
    "    peer_ret = None\n",
    "    for date in tqdm(adj_date):\n",
    "        corr = get_correlation(date, factor_type)\n",
    "        prd = get_peer_abs_ret(date, corr)\n",
    "        prd['peer_relative_ret'] = get_peer_relative_ret(prd)\n",
    "        prd = prd[['date', 'issue', 'ret_20', 'peer_ret', 'peer_relative_ret']]\n",
    "        peer_ret = pd.concat([peer_ret, prd])\n",
    "    return peer_ret\n",
    "peer_ret_num = get_peer_ret_factor('num')\n",
    "peer_ret_size = get_peer_ret_factor('size')"
   ]
  },
  {
   "cell_type": "code",
   "execution_count": 9,
   "id": "2580a1e0-5c0d-4a3f-8c79-5d0ec479b0bd",
   "metadata": {},
   "outputs": [],
   "source": [
    "os.makedirs('../data/peer_ret/', exist_ok=True)\n",
    "feather.write_dataframe(peer_ret_num, '../data/peer_ret/peer_ret_num.feather')\n",
    "feather.write_dataframe(peer_ret_size, '../data/peer_ret/peer_ret_size.feather')"
   ]
  }
 ],
 "metadata": {
  "kernelspec": {
   "display_name": "Python 3 (ipykernel)",
   "language": "python",
   "name": "python3"
  },
  "language_info": {
   "codemirror_mode": {
    "name": "ipython",
    "version": 3
   },
   "file_extension": ".py",
   "mimetype": "text/x-python",
   "name": "python",
   "nbconvert_exporter": "python",
   "pygments_lexer": "ipython3",
   "version": "3.11.9"
  }
 },
 "nbformat": 4,
 "nbformat_minor": 5
}
