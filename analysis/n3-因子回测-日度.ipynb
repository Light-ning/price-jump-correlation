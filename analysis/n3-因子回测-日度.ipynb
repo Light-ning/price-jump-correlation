{
 "cells": [
  {
   "cell_type": "markdown",
   "id": "0472e6d7-2eb0-4134-abb3-21aec7730eac",
   "metadata": {},
   "source": [
    "# 因子回测"
   ]
  },
  {
   "cell_type": "markdown",
   "id": "76deb797-8066-4dcf-92e8-e0473369d805",
   "metadata": {},
   "source": [
    "## 导入模块"
   ]
  },
  {
   "cell_type": "code",
   "execution_count": 1,
   "id": "89827585-ae3b-46a4-9786-81742ff826cc",
   "metadata": {},
   "outputs": [],
   "source": [
    "import numpy as np\n",
    "import pandas as pd\n",
    "from matplotlib import pyplot as plt\n",
    "from matplotlib import ticker\n",
    "from scipy import stats\n",
    "import feather\n",
    "import os\n",
    "import statsmodels.api as sm\n",
    "import sunlandsdatasdk as sd"
   ]
  },
  {
   "cell_type": "markdown",
   "id": "c699053a-540c-409e-9897-3efc193bd109",
   "metadata": {},
   "source": [
    "## 定义回测区间"
   ]
  },
  {
   "cell_type": "code",
   "execution_count": 2,
   "id": "5ff4d1af-8fdc-4938-92af-13666d65171f",
   "metadata": {},
   "outputs": [],
   "source": [
    "start_date = '2019-01-01'\n",
    "end_date = '2025-01-01'"
   ]
  },
  {
   "cell_type": "markdown",
   "id": "db4c2a2c-f9c0-4209-b4a7-3e4fb5b0ce0a",
   "metadata": {},
   "source": [
    "## 读入和处理数据"
   ]
  },
  {
   "cell_type": "markdown",
   "id": "d75dacf1-1031-4097-9df9-7d990af343ee",
   "metadata": {},
   "source": [
    "### 读入 ST 股票"
   ]
  },
  {
   "cell_type": "markdown",
   "id": "5611745d-3cff-40ff-91f1-cb5e298b3fa2",
   "metadata": {},
   "source": [
    "读入全公司列表"
   ]
  },
  {
   "cell_type": "code",
   "execution_count": 3,
   "id": "fa3444b9-50ce-429b-97d6-69b7ea6af8f4",
   "metadata": {},
   "outputs": [],
   "source": [
    "issues = feather.read_dataframe('../data/issues_daily.feather')\n",
    "issues_tot = issues['issue'].sort_values().unique()"
   ]
  },
  {
   "cell_type": "markdown",
   "id": "58cb64dc-065e-4052-aa09-6840a06792ff",
   "metadata": {},
   "source": [
    "读入 ST 股票"
   ]
  },
  {
   "cell_type": "code",
   "execution_count": 4,
   "id": "4ce3716a-0e7d-42f3-8c43-ea6f0e7fe18a",
   "metadata": {},
   "outputs": [],
   "source": [
    "# sd.auth('*', '*')\n",
    "# st = sd.get_st_issue(issues=list(issues_tot), start_date=start_date, end_date=end_date)\n",
    "# st = st.set_index('date').stack().reset_index().rename(columns={'level_1': 'issue', 0: 'st'})\n",
    "# feather.write_dataframe(st, '../data/st.feather')\n",
    "st = feather.read_dataframe('../data/st.feather')"
   ]
  },
  {
   "cell_type": "markdown",
   "id": "17ce1906-71a6-4272-871b-613ea6bc58f8",
   "metadata": {},
   "source": [
    "### 读入日线数据"
   ]
  },
  {
   "cell_type": "markdown",
   "id": "dc61806c-f47b-463f-bc81-b022e548ca9c",
   "metadata": {},
   "source": [
    "读入日线数据"
   ]
  },
  {
   "cell_type": "code",
   "execution_count": 5,
   "id": "17f925f4-5fdb-44b9-97b0-13f8a39d5ce5",
   "metadata": {},
   "outputs": [],
   "source": [
    "price_1d = feather.read_dataframe('../data/StockPriceK1d_20241231.feather')"
   ]
  },
  {
   "cell_type": "markdown",
   "id": "02dc76ff-c7b5-4e16-bd65-73c81eb16b5f",
   "metadata": {},
   "source": [
    "计算调仓日"
   ]
  },
  {
   "cell_type": "code",
   "execution_count": 6,
   "id": "a8545da8-cf8c-4078-9422-36ca93584b58",
   "metadata": {},
   "outputs": [],
   "source": [
    "trade_date = price_1d['date'].sort_values().unique()\n",
    "adj_date = trade_date[(trade_date >= start_date) & (trade_date <= end_date)]"
   ]
  },
  {
   "cell_type": "markdown",
   "id": "685d35d8-5495-4ed3-acc3-57c5d3d14014",
   "metadata": {},
   "source": [
    "计算每两个调仓日之间的收益"
   ]
  },
  {
   "cell_type": "code",
   "execution_count": 7,
   "id": "6d6b41e6-123c-49eb-8034-4ddfb6cb9e7e",
   "metadata": {},
   "outputs": [],
   "source": [
    "price_adj = price_1d.loc[(price_1d['date'] >= start_date) & (price_1d['date'] <= end_date), ['issue', 'date', 'ret']].copy()\n",
    "price_adj['ret_next'] = price_adj.groupby('issue')['ret'].shift(-1)\n",
    "price_adj = price_adj.dropna(subset='ret_next')"
   ]
  },
  {
   "cell_type": "markdown",
   "id": "b8239f90-8143-4438-8ede-f9db09ca2d54",
   "metadata": {},
   "source": [
    "剔除股票"
   ]
  },
  {
   "cell_type": "code",
   "execution_count": 8,
   "id": "c4c77bef-4fe1-4b75-a5f2-5d16c073e0d1",
   "metadata": {},
   "outputs": [
    {
     "name": "stderr",
     "output_type": "stream",
     "text": [
      "C:\\Users\\admin\\AppData\\Local\\Temp\\ipykernel_13212\\2002057231.py:24: FutureWarning: Downcasting object dtype arrays on .fillna, .ffill, .bfill is deprecated and will change in a future version. Call result.infer_objects(copy=False) instead. To opt-in to the future behavior, set `pd.set_option('future.no_silent_downcasting', True)`\n",
      "  price_adj['st'] = price_adj['st'].ffill()\n"
     ]
    }
   ],
   "source": [
    "def newly_listed(date, timedelta='180D'):\n",
    "    start_date = date.min()\n",
    "    newly = (date <= start_date + pd.Timedelta(timedelta))\n",
    "    return newly\n",
    "\n",
    "price_1d['newly_listed'] = (\n",
    "    price_1d\n",
    "        .groupby('issue')['date']\n",
    "        .transform(newly_listed)\n",
    ")\n",
    "\n",
    "price_adj = pd.merge(\n",
    "    price_adj,\n",
    "    price_1d[['issue', 'date', 'newly_listed', 'is_limit_sell', 'is_limit_buy']],\n",
    "    on=['issue', 'date'],\n",
    "    how='left'\n",
    ")\n",
    "price_adj = pd.merge(\n",
    "    price_adj,\n",
    "    st,\n",
    "    on=['issue', 'date'],\n",
    "    how='left'\n",
    ")\n",
    "price_adj['st'] = price_adj['st'].ffill()\n",
    "price_adj = price_adj[\n",
    "    (~price_adj['newly_listed']) &\n",
    "    (~price_adj['is_limit_buy'].astype(bool)) &\n",
    "    (~price_adj['is_limit_sell'].astype(bool))\n",
    "]\n",
    "price_adj = price_adj[~price_adj['st']]\n",
    "price_adj = price_adj[['issue', 'date', 'ret', 'ret_next']]"
   ]
  },
  {
   "cell_type": "markdown",
   "id": "1c656b12-9fbf-4a85-be8f-cd9302fd5cee",
   "metadata": {},
   "source": [
    "### 计算基准"
   ]
  },
  {
   "cell_type": "markdown",
   "id": "10567c93-c3f8-42f7-83d9-3907aa0415c0",
   "metadata": {},
   "source": [
    "中证 500"
   ]
  },
  {
   "cell_type": "code",
   "execution_count": 9,
   "id": "a02f36c6-7c1d-43bb-b4d1-2e329bf9cf84",
   "metadata": {},
   "outputs": [],
   "source": [
    "# sd.auth('*', '*')\n",
    "# index_bar = sd.get_index_bar('000906', start_date='2018-12-28', end_date=end_date)\n",
    "# index_bar['date'] = pd.to_datetime(index_bar['date'])\n",
    "# index_bar = index_bar.drop(columns='_id')\n",
    "\n",
    "# index_bar['ret'] = index_bar['close'] / index_bar['close'].shift(1) - 1\n",
    "# index_bar['ret_next'] = index_bar['ret'].shift(-1)\n",
    "# index_bar = index_bar.dropna()\n",
    "# index_bar = index_bar.set_index('date')\n",
    "# ret_index = index_bar[['ret', 'ret_next']]\n",
    "\n",
    "# os.makedirs('../data/benchmark/', exist_ok=True)\n",
    "# feather.write_dataframe(ret_index, '../data/benchmark/benchmark_000906_daily.feather')\n",
    "# ret_index"
   ]
  },
  {
   "cell_type": "markdown",
   "id": "7c053156-e857-42bb-a69f-34939fc33436",
   "metadata": {},
   "source": [
    "全样本等权"
   ]
  },
  {
   "cell_type": "code",
   "execution_count": 10,
   "id": "188cb6e8-6aca-460c-8dbc-cd008be9d532",
   "metadata": {},
   "outputs": [],
   "source": [
    "# ret_sample = (\n",
    "#     price_adj\n",
    "#         .groupby('date')[['ret', 'ret_next']].mean()\n",
    "# )\n",
    "# os.makedirs('../data/benchmark/', exist_ok=True)\n",
    "# feather.write_dataframe(ret_sample, '../data/benchmark/benchmark_sample_daily.feather')\n",
    "# ret_sample"
   ]
  },
  {
   "cell_type": "markdown",
   "id": "6a734ce4-d405-48f5-9f2a-ee105723e65d",
   "metadata": {},
   "source": [
    "## IC 测试"
   ]
  },
  {
   "cell_type": "code",
   "execution_count": 11,
   "id": "a9906a6c-7831-4f56-a7f7-2ad89cb9a9cb",
   "metadata": {},
   "outputs": [],
   "source": [
    "def IC_calc_once(factor, factor_col, ret_col):\n",
    "    IC, p = stats.spearmanr(factor[factor_col], factor[ret_col])\n",
    "    return IC\n",
    "\n",
    "def IC_calc(factor, factor_col):\n",
    "    f = factor.copy()\n",
    "    f = pd.merge(\n",
    "        f,\n",
    "        price_adj,\n",
    "        on=['issue', 'date'],\n",
    "        how='inner'\n",
    "    )  \n",
    "    IC = (\n",
    "        f\n",
    "            .groupby('date')[[factor_col, 'ret_next']]\n",
    "            .apply(IC_calc_once, factor_col=factor_col, ret_col='ret_next')\n",
    "    )\n",
    "    return IC"
   ]
  },
  {
   "cell_type": "markdown",
   "id": "d48a7e0e-a6bb-406f-8d61-129aa7b8efa2",
   "metadata": {},
   "source": [
    "## 分组测试"
   ]
  },
  {
   "cell_type": "markdown",
   "id": "3e9cc994-b92c-4cd0-af5d-e1d1e956e4e8",
   "metadata": {},
   "source": [
    "### 计算分组收益和换手率"
   ]
  },
  {
   "cell_type": "code",
   "execution_count": 12,
   "id": "47238cb3-5085-4f6e-863c-294d50622bf7",
   "metadata": {},
   "outputs": [],
   "source": [
    "def grouped_ret(f, factor_col):\n",
    "    f_date = f.copy()\n",
    "    qcut = pd.qcut(\n",
    "        f_date[factor_col],\n",
    "        q=10,\n",
    "        labels=np.arange(1, 11)\n",
    "    )\n",
    "    f_date['group'] = qcut\n",
    "    ret = f_date.groupby('group', observed=False)['ret_next'].mean()\n",
    "    return ret\n",
    "\n",
    "def top_weight(f, factor_col):\n",
    "    f_date = f.copy()\n",
    "    f_date['group'] = pd.qcut(\n",
    "        f_date[factor_col],\n",
    "        q=10,\n",
    "        labels=np.arange(1, 11)\n",
    "    )\n",
    "    top = pd.Series(0., index=issues_tot)\n",
    "    issues_top = f_date.loc[f_date['group'] == 10, 'issue'].to_list()\n",
    "    top[issues_top] = 1 / len(issues_top)\n",
    "    return top\n",
    "\n",
    "def grouped_calc(factor, factor_col, factor_name=None):\n",
    "    if factor_name == None:\n",
    "        factor_name = factor_col\n",
    "    f = pd.merge(\n",
    "        factor,\n",
    "        price_adj,\n",
    "        on=['issue', 'date'],\n",
    "        how='inner'\n",
    "    )\n",
    "    ret = (\n",
    "        f\n",
    "            .groupby('date')[[factor_col, 'ret', 'ret_next']]\n",
    "            .apply(grouped_ret, factor_col=factor_col)\n",
    "    )\n",
    "    top = (\n",
    "        f\n",
    "            .groupby('date')[[factor_col, 'issue']]\n",
    "            .apply(top_weight, factor_col=factor_col)\n",
    "    )\n",
    "    turnover = np.abs(top - top.shift(1)).sum(axis=1)\n",
    "    return ret, turnover"
   ]
  },
  {
   "cell_type": "markdown",
   "id": "09127b51-d3df-4533-80f4-ecc550e62532",
   "metadata": {},
   "source": [
    "### 画分组收益图和多空收益曲线"
   ]
  },
  {
   "cell_type": "code",
   "execution_count": 13,
   "id": "d818a7c7-ba82-49d5-bfac-e17d76d6b0ed",
   "metadata": {},
   "outputs": [],
   "source": [
    "def grouped_plot(ret, ret_excess, dirname=None):\n",
    "    ret_annual = (1 + ret.mean()) ** 252 - 1\n",
    "    plt.bar(ret_annual.index, ret_annual, color='#a60021')\n",
    "    plt.xlabel('Group')\n",
    "    plt.ylabel('Annualized Return')\n",
    "    plt.gca().yaxis.set_major_formatter(ticker.PercentFormatter(xmax=1, decimals=0))\n",
    "    if dirname == None:\n",
    "        plt.show()\n",
    "    else:\n",
    "        os.makedirs(dirname, exist_ok=True)\n",
    "        plt.savefig(dirname + '/grouped_' + factor_name + '.png')\n",
    "        plt.close()\n",
    "    \n",
    "    long = (1 + ret[10]).cumprod()\n",
    "    long_excess = (1 + ret_excess[10]).cumprod()\n",
    "    long_short = (1 + ret[10] - ret[1]).cumprod()\n",
    "\n",
    "    fig, ax1 = plt.subplots()\n",
    "    ax1.plot(long, linewidth=3, color='#a60021', label='long')\n",
    "    ylim = ax1.get_ylim()\n",
    "    ax1.fill_between(\n",
    "        long_excess.index, 0, long_excess,\n",
    "        color='#a5a5a5', label='long_excess',\n",
    "    )\n",
    "    ax1.set_ylim(ylim)\n",
    "    ax1.set_ylabel('Net Value (long)')\n",
    "    ax1.grid()\n",
    "    \n",
    "    ax2 = ax1.twinx()\n",
    "    ax2.plot(long_short, linewidth=3, color='#ffc000', label='long-short')\n",
    "    ax2.set_ylabel('Net Value (long-short)')\n",
    "    \n",
    "    lines1, labels1 = ax1.get_legend_handles_labels()\n",
    "    lines2, labels2 = ax2.get_legend_handles_labels()\n",
    "    ax1.legend(lines1 + lines2, labels1 + labels2)\n",
    "    plt.xlabel('Time')\n",
    "    if dirname == None:\n",
    "        plt.show()\n",
    "    else:\n",
    "        os.makedirs(dirname, exist_ok=True)\n",
    "        plt.savefig(dirname + '/nv_' + factor_name + '.png')\n",
    "        plt.close()"
   ]
  },
  {
   "cell_type": "markdown",
   "id": "1e4d8a4b-7120-457d-a87f-3d815514e109",
   "metadata": {},
   "source": [
    "### 计算最大回撤"
   ]
  },
  {
   "cell_type": "code",
   "execution_count": 14,
   "id": "d503cb86-e1d1-472f-b544-eac97d3924de",
   "metadata": {},
   "outputs": [],
   "source": [
    "def max_drawdown_calc(ret):\n",
    "    cumret = (1 + ret).cumprod()\n",
    "    running_max = cumret.cummax()\n",
    "    drawdown = cumret / running_max - 1\n",
    "    return drawdown.min()"
   ]
  },
  {
   "cell_type": "markdown",
   "id": "75cbbe4e-9d1f-4610-af5f-bfedb7f86696",
   "metadata": {},
   "source": [
    "## 一键回测"
   ]
  },
  {
   "cell_type": "code",
   "execution_count": 15,
   "id": "0aa6fb41-e640-4ef5-8d89-154b79b189f1",
   "metadata": {},
   "outputs": [],
   "source": [
    "def backtest(filename, factor_col, factor_name=None, benchmark=None, dirname=None):\n",
    "    if factor_name == None:\n",
    "        factor_name = factor_col\n",
    "    factor = feather.read_dataframe(filename)\n",
    "\n",
    "    df_IC = pd.DataFrame(columns=['factor', 'IC_mean', 'winning', 'IC_IR', 't', 'max', 'min'])\n",
    "    IC = IC_calc(factor, factor_col=factor_col)\n",
    "\n",
    "    sign = np.sign(IC.mean())\n",
    "    factor[factor_col] *= sign\n",
    "\n",
    "    winning = (np.sign(IC) == sign).sum() / len(IC)\n",
    "    df_IC.loc[0] = [\n",
    "        factor_name,\n",
    "        IC.mean(),\n",
    "        winning,\n",
    "        IC.mean() / IC.std(),\n",
    "        np.sqrt(len(IC)) * IC.mean() / IC.std(),\n",
    "        IC.max(),\n",
    "        IC.min()\n",
    "    ]\n",
    "\n",
    "    df_grouped = pd.DataFrame(columns=[\n",
    "        'factor',\n",
    "        'long_annual', 'excess_annual', 'long_sharpe',\n",
    "        'long_short',\n",
    "        'max_drawdown', 'turnover_annual'\n",
    "    ])\n",
    "    grouped, turnover = grouped_calc(\n",
    "        factor, factor_col=factor_col,\n",
    "        factor_name=factor_name\n",
    "    )\n",
    "    if benchmark != None:\n",
    "        ret_benchmark = feather.read_dataframe(benchmark)\n",
    "    ret_benchmark = ret_benchmark.reindex(grouped.index)\n",
    "    excess = grouped.sub(ret_benchmark['ret_next'], axis=0)\n",
    "\n",
    "    grouped_plot(grouped, excess)\n",
    "    \n",
    "    long_annual = (1 + grouped[10].mean()) ** 252 - 1\n",
    "    excess_annual = (1 + excess[10].mean()) ** 252 - 1\n",
    "    std_annual = np.sqrt(252) * excess[10].std()\n",
    "    long_short = (1 + (grouped[10] - grouped[1]).mean()) ** 252 - 1\n",
    "    max_drawdown = max_drawdown_calc(grouped[10] - grouped[1])\n",
    "    turnover_annual = turnover.mean() * 252\n",
    "    df_grouped.loc[0]=[\n",
    "        factor_name,\n",
    "        long_annual,\n",
    "        excess_annual,\n",
    "        excess_annual / std_annual,\n",
    "        long_short,\n",
    "        max_drawdown,\n",
    "        turnover_annual\n",
    "    ]\n",
    "    \n",
    "    return df_IC, df_grouped"
   ]
  },
  {
   "cell_type": "markdown",
   "id": "7fb741e3-92a3-4831-bff4-27c7eef32081",
   "metadata": {},
   "source": [
    "## 跳跃收益因子回测"
   ]
  },
  {
   "cell_type": "code",
   "execution_count": 16,
   "id": "f512986c-ab43-41ce-8cd3-ccfec9542bb8",
   "metadata": {},
   "outputs": [
    {
     "data": {
      "image/png": "[encoded data removed]",
      "text/plain": [
       "<Figure size 640x480 with 1 Axes>"
      ]
     },
     "metadata": {},
     "output_type": "display_data"
    },
    {
     "data": {
      "image/png": "[encoded data removed]",
      "text/plain": [
       "<Figure size 640x480 with 2 Axes>"
      ]
     },
     "metadata": {},
     "output_type": "display_data"
    },
    {
     "name": "stdout",
     "output_type": "stream",
     "text": [
      "----------ret_jump_neutral----------\n"
     ]
    },
    {
     "data": {
      "text/html": [
       "<div>\n",
       "<style scoped>\n",
       "    .dataframe tbody tr th:only-of-type {\n",
       "        vertical-align: middle;\n",
       "    }\n",
       "\n",
       "    .dataframe tbody tr th {\n",
       "        vertical-align: top;\n",
       "    }\n",
       "\n",
       "    .dataframe thead th {\n",
       "        text-align: right;\n",
       "    }\n",
       "</style>\n",
       "<table border=\"1\" class=\"dataframe\">\n",
       "  <thead>\n",
       "    <tr style=\"text-align: right;\">\n",
       "      <th></th>\n",
       "      <th>factor</th>\n",
       "      <th>IC_mean</th>\n",
       "      <th>winning</th>\n",
       "      <th>IC_IR</th>\n",
       "      <th>t</th>\n",
       "      <th>max</th>\n",
       "      <th>min</th>\n",
       "    </tr>\n",
       "  </thead>\n",
       "  <tbody>\n",
       "    <tr>\n",
       "      <th>0</th>\n",
       "      <td>ret_jump_neutral</td>\n",
       "      <td>-0.037254</td>\n",
       "      <td>0.766768</td>\n",
       "      <td>-0.68972</td>\n",
       "      <td>-24.982706</td>\n",
       "      <td>0.252839</td>\n",
       "      <td>-0.293245</td>\n",
       "    </tr>\n",
       "  </tbody>\n",
       "</table>\n",
       "</div>"
      ],
      "text/plain": [
       "             factor   IC_mean   winning    IC_IR          t       max  \\\n",
       "0  ret_jump_neutral -0.037254  0.766768 -0.68972 -24.982706  0.252839   \n",
       "\n",
       "        min  \n",
       "0 -0.293245  "
      ]
     },
     "metadata": {},
     "output_type": "display_data"
    },
    {
     "data": {
      "text/html": [
       "<div>\n",
       "<style scoped>\n",
       "    .dataframe tbody tr th:only-of-type {\n",
       "        vertical-align: middle;\n",
       "    }\n",
       "\n",
       "    .dataframe tbody tr th {\n",
       "        vertical-align: top;\n",
       "    }\n",
       "\n",
       "    .dataframe thead th {\n",
       "        text-align: right;\n",
       "    }\n",
       "</style>\n",
       "<table border=\"1\" class=\"dataframe\">\n",
       "  <thead>\n",
       "    <tr style=\"text-align: right;\">\n",
       "      <th></th>\n",
       "      <th>factor</th>\n",
       "      <th>long_annual</th>\n",
       "      <th>excess_annual</th>\n",
       "      <th>long_sharpe</th>\n",
       "      <th>long_short</th>\n",
       "      <th>max_drawdown</th>\n",
       "      <th>turnover_annual</th>\n",
       "    </tr>\n",
       "  </thead>\n",
       "  <tbody>\n",
       "    <tr>\n",
       "      <th>0</th>\n",
       "      <td>ret_jump_neutral</td>\n",
       "      <td>0.139347</td>\n",
       "      <td>0.034201</td>\n",
       "      <td>0.676676</td>\n",
       "      <td>0.496567</td>\n",
       "      <td>-0.094026</td>\n",
       "      <td>104.098469</td>\n",
       "    </tr>\n",
       "  </tbody>\n",
       "</table>\n",
       "</div>"
      ],
      "text/plain": [
       "             factor  long_annual  excess_annual  long_sharpe  long_short  \\\n",
       "0  ret_jump_neutral     0.139347       0.034201     0.676676    0.496567   \n",
       "\n",
       "   max_drawdown  turnover_annual  \n",
       "0     -0.094026       104.098469  "
      ]
     },
     "metadata": {},
     "output_type": "display_data"
    }
   ],
   "source": [
    "# cols = ['ret_jump', 'indus_factor', 'neutral_factor']\n",
    "# names = ['ret_jump', 'ret_jump_indus', 'ret_jump_neutral']\n",
    "cols = ['neutral_factor']\n",
    "names = ['ret_jump_neutral']\n",
    "for factor_col, factor_name in zip(cols, names):\n",
    "    IC, grouped = backtest(\n",
    "        '../data/ret_jump_daily/neutral_ret_jump.feather',\n",
    "        factor_col=factor_col,\n",
    "        benchmark='../data/benchmark/benchmark_sample_daily.feather',\n",
    "        factor_name=factor_name,\n",
    "        # dirname='../data/ret_jump/backtest1/'\n",
    "    )\n",
    "    print('-' * 10 + factor_name + '-' * 10)\n",
    "    display(IC)\n",
    "    display(grouped)"
   ]
  },
  {
   "cell_type": "markdown",
   "id": "759fe7d2-f61b-45b7-a885-2166f36466c7",
   "metadata": {},
   "source": [
    "## 点度中心性回测"
   ]
  },
  {
   "cell_type": "markdown",
   "id": "3f1957d1-a35c-47c0-afa7-43b7fe6ea3eb",
   "metadata": {},
   "source": [
    "## 跳跃关联动量因子回测"
   ]
  }
 ],
 "metadata": {
  "kernelspec": {
   "display_name": "Python 3 (ipykernel)",
   "language": "python",
   "name": "python3"
  },
  "language_info": {
   "codemirror_mode": {
    "name": "ipython",
    "version": 3
   },
   "file_extension": ".py",
   "mimetype": "text/x-python",
   "name": "python",
   "nbconvert_exporter": "python",
   "pygments_lexer": "ipython3",
   "version": "3.11.9"
  }
 },
 "nbformat": 4,
 "nbformat_minor": 5
}
