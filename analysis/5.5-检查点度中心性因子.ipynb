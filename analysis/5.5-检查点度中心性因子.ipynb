{
 "cells": [
  {
   "cell_type": "markdown",
   "id": "01dacc33-d54a-41ef-a57d-37b8d00ae9d7",
   "metadata": {},
   "source": [
    "# 检查点度中心性因子"
   ]
  },
  {
   "cell_type": "markdown",
   "id": "f099d71f-0baf-4abe-a1c6-7cc2c945bd2f",
   "metadata": {},
   "source": [
    "## 导入模块"
   ]
  },
  {
   "cell_type": "markdown",
   "id": "c6c85332-468d-491a-9343-84d2440e887e",
   "metadata": {},
   "source": [
    "## 读入测试数据"
   ]
  },
  {
   "cell_type": "markdown",
   "id": "8dc5700e-c4c3-494f-a75a-61a2691279b3",
   "metadata": {},
   "source": [
    "## 检查不同方法 IC 反向问题"
   ]
  },
  {
   "cell_type": "markdown",
   "id": "1f65965a-58ad-412d-b6d1-e3467f4e29af",
   "metadata": {},
   "source": [
    "## 检查收益最低组收益过高问题"
   ]
  }
 ],
 "metadata": {
  "kernelspec": {
   "display_name": "Python 3 (ipykernel)",
   "language": "python",
   "name": "python3"
  },
  "language_info": {
   "codemirror_mode": {
    "name": "ipython",
    "version": 3
   },
   "file_extension": ".py",
   "mimetype": "text/x-python",
   "name": "python",
   "nbconvert_exporter": "python",
   "pygments_lexer": "ipython3",
   "version": "3.11.9"
  }
 },
 "nbformat": 4,
 "nbformat_minor": 5
}
