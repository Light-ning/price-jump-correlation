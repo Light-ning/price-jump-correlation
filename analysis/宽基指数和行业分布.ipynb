{
 "cells": [
  {
   "cell_type": "markdown",
   "id": "0ad9d793-d211-44ac-abe1-cf0eb341613f",
   "metadata": {},
   "source": [
    "# 宽基指数和行业分布"
   ]
  },
  {
   "cell_type": "markdown",
   "id": "e395b159-dd87-422d-a2a0-38e7a6411c46",
   "metadata": {},
   "source": [
    "## 导入模块"
   ]
  },
  {
   "cell_type": "code",
   "execution_count": 11,
   "id": "d3beb59e-e7de-4aa7-ac46-7dfbe233f754",
   "metadata": {},
   "outputs": [],
   "source": [
    "import numpy as np\n",
    "import pandas as pd\n",
    "from matplotlib import pyplot as plts\n",
    "import feather\n",
    "import sunlandsdatasdk as sd"
   ]
  },
  {
   "cell_type": "markdown",
   "id": "16a39d8c-7011-4b89-afa6-4a60e096de5c",
   "metadata": {},
   "source": [
    "## 读入数据"
   ]
  },
  {
   "cell_type": "code",
   "execution_count": 56,
   "id": "282290d5-b742-4211-81ee-d9b26037c2df",
   "metadata": {},
   "outputs": [],
   "source": [
    "date = '20190102'\n",
    "jump = feather.read_dataframe(f'../data/jump/2019/jump_{date}.feather')\n",
    "jump['date'] = pd.to_datetime(jump['date'])\n",
    "jump = jump[jump['jump']]"
   ]
  },
  {
   "cell_type": "code",
   "execution_count": 57,
   "id": "911f6541-3fec-48b8-a6c2-1dcabae6eb10",
   "metadata": {},
   "outputs": [],
   "source": [
    "date_series = jump['date'].sort_values().unique()\n",
    "\n",
    "sd.auth('*', '*')\n",
    "hs800 = pd.DataFrame(columns=['issue', 'date'])\n",
    "hs1000 = pd.DataFrame(columns=['issue', 'date'])\n",
    "for date in date_series:\n",
    "    hs800_daily = pd.DataFrame(columns=['issue', 'date'])\n",
    "    hs800_daily['issue'] = sd.get_index_stocks('000906', weight=False, date=date)\n",
    "    hs800_daily['date'] = date\n",
    "    if hs800.empty:\n",
    "        hs800 = hs800_daily.copy()\n",
    "    else:\n",
    "        hs800 = pd.concat([hs800, hs800_daily])\n",
    "    hs1000_daily = pd.DataFrame(columns=['issue', 'date'])\n",
    "    hs1000_daily['issue'] = sd.get_index_stocks('000852', weight=False, date=date)\n",
    "    hs1000_daily['date'] = date\n",
    "    if hs1000.empty:\n",
    "        hs1000 = hs1000_daily\n",
    "    else:\n",
    "        hs1000 = pd.concat([hs1000, hs1000_daily])"
   ]
  },
  {
   "cell_type": "markdown",
   "id": "dba822ab-54d5-4e28-9683-650d015693c5",
   "metadata": {},
   "source": [
    "## 宽基指数"
   ]
  },
  {
   "cell_type": "code",
   "execution_count": 59,
   "id": "42b2a369-3346-424d-a90e-d18fc606b25c",
   "metadata": {},
   "outputs": [],
   "source": [
    "jump_hs800 = pd.merge(\n",
    "    jump,\n",
    "    hs800,\n",
    "    on=['issue', 'date'],\n",
    "    how='inner'\n",
    ")\n",
    "\n",
    "jump_hs1000 = pd.merge(\n",
    "    jump,\n",
    "    hs1000,\n",
    "    on=['issue', 'date'],\n",
    "    how='inner'\n",
    ")"
   ]
  },
  {
   "cell_type": "markdown",
   "id": "96fbe70a-78d3-46f7-8166-6f0dc4746f09",
   "metadata": {},
   "source": [
    "### 跳跃数量统计"
   ]
  },
  {
   "cell_type": "markdown",
   "id": "94690241-f4a0-4728-ae09-e50a1844868d",
   "metadata": {},
   "source": [
    "### 跳跃幅度统计"
   ]
  },
  {
   "cell_type": "markdown",
   "id": "8ed92e41-7382-44cd-b393-e8567ffe2150",
   "metadata": {},
   "source": [
    "## 行业分布"
   ]
  }
 ],
 "metadata": {
  "kernelspec": {
   "display_name": "Python 3 (ipykernel)",
   "language": "python",
   "name": "python3"
  },
  "language_info": {
   "codemirror_mode": {
    "name": "ipython",
    "version": 3
   },
   "file_extension": ".py",
   "mimetype": "text/x-python",
   "name": "python",
   "nbconvert_exporter": "python",
   "pygments_lexer": "ipython3",
   "version": "3.11.9"
  }
 },
 "nbformat": 4,
 "nbformat_minor": 5
}
