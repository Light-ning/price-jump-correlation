{
 "cells": [
  {
   "cell_type": "markdown",
   "id": "01dacc33-d54a-41ef-a57d-37b8d00ae9d7",
   "metadata": {},
   "source": [
    "# 检查点度中心性因子和回测"
   ]
  },
  {
   "cell_type": "markdown",
   "id": "f099d71f-0baf-4abe-a1c6-7cc2c945bd2f",
   "metadata": {},
   "source": [
    "## 导入模块"
   ]
  },
  {
   "cell_type": "code",
   "execution_count": 6,
   "id": "6db651fc-9f20-4f6b-bb05-71cc795634f8",
   "metadata": {},
   "outputs": [],
   "source": [
    "import numpy as np\n",
    "import pandas as pd\n",
    "import feather"
   ]
  },
  {
   "cell_type": "markdown",
   "id": "c6c85332-468d-491a-9343-84d2440e887e",
   "metadata": {},
   "source": [
    "## 读入测试数据"
   ]
  },
  {
   "cell_type": "code",
   "execution_count": 7,
   "id": "0526915d-0e6e-4fe6-97dc-8ca4341093fc",
   "metadata": {},
   "outputs": [],
   "source": [
    "N_connect = feather.read_dataframe('../data/N_connect_0_1/neutral_N_connect_num.feather')"
   ]
  },
  {
   "cell_type": "code",
   "execution_count": 10,
   "id": "7ee80858-59cf-44ab-9066-69ecffbcdaaa",
   "metadata": {},
   "outputs": [
    {
     "data": {
      "text/html": [
       "<div>\n",
       "<style scoped>\n",
       "    .dataframe tbody tr th:only-of-type {\n",
       "        vertical-align: middle;\n",
       "    }\n",
       "\n",
       "    .dataframe tbody tr th {\n",
       "        vertical-align: top;\n",
       "    }\n",
       "\n",
       "    .dataframe thead th {\n",
       "        text-align: right;\n",
       "    }\n",
       "</style>\n",
       "<table border=\"1\" class=\"dataframe\">\n",
       "  <thead>\n",
       "    <tr style=\"text-align: right;\">\n",
       "      <th></th>\n",
       "      <th>date</th>\n",
       "      <th>level_1</th>\n",
       "      <th>issue</th>\n",
       "      <th>N_connect</th>\n",
       "      <th>indus_factor</th>\n",
       "      <th>neutral_factor</th>\n",
       "    </tr>\n",
       "  </thead>\n",
       "  <tbody>\n",
       "    <tr>\n",
       "      <th>23</th>\n",
       "      <td>2019-08-30</td>\n",
       "      <td>23</td>\n",
       "      <td>000029</td>\n",
       "      <td>0</td>\n",
       "      <td>-1964.744186</td>\n",
       "      <td>-1980.537718</td>\n",
       "    </tr>\n",
       "    <tr>\n",
       "      <th>780</th>\n",
       "      <td>2019-08-30</td>\n",
       "      <td>780</td>\n",
       "      <td>002323</td>\n",
       "      <td>0</td>\n",
       "      <td>-1913.869565</td>\n",
       "      <td>-1866.416843</td>\n",
       "    </tr>\n",
       "    <tr>\n",
       "      <th>1136</th>\n",
       "      <td>2019-08-30</td>\n",
       "      <td>1136</td>\n",
       "      <td>002680</td>\n",
       "      <td>0</td>\n",
       "      <td>-1788.921053</td>\n",
       "      <td>-1752.108075</td>\n",
       "    </tr>\n",
       "    <tr>\n",
       "      <th>1425</th>\n",
       "      <td>2019-08-30</td>\n",
       "      <td>1425</td>\n",
       "      <td>300028</td>\n",
       "      <td>0</td>\n",
       "      <td>-1696.970588</td>\n",
       "      <td>-1615.549524</td>\n",
       "    </tr>\n",
       "    <tr>\n",
       "      <th>2167</th>\n",
       "      <td>2019-08-30</td>\n",
       "      <td>2167</td>\n",
       "      <td>300789</td>\n",
       "      <td>0</td>\n",
       "      <td>-1740.853081</td>\n",
       "      <td>-1721.274439</td>\n",
       "    </tr>\n",
       "    <tr>\n",
       "      <th>2184</th>\n",
       "      <td>2019-08-30</td>\n",
       "      <td>2184</td>\n",
       "      <td>600022</td>\n",
       "      <td>0</td>\n",
       "      <td>-2151.812500</td>\n",
       "      <td>-2177.627162</td>\n",
       "    </tr>\n",
       "    <tr>\n",
       "      <th>2286</th>\n",
       "      <td>2019-08-30</td>\n",
       "      <td>2286</td>\n",
       "      <td>600145</td>\n",
       "      <td>0</td>\n",
       "      <td>-1894.285714</td>\n",
       "      <td>-1874.129483</td>\n",
       "    </tr>\n",
       "    <tr>\n",
       "      <th>2557</th>\n",
       "      <td>2019-08-30</td>\n",
       "      <td>2557</td>\n",
       "      <td>600485</td>\n",
       "      <td>0</td>\n",
       "      <td>-1696.970588</td>\n",
       "      <td>-1699.838465</td>\n",
       "    </tr>\n",
       "    <tr>\n",
       "      <th>3052</th>\n",
       "      <td>2019-08-30</td>\n",
       "      <td>3052</td>\n",
       "      <td>601288</td>\n",
       "      <td>0</td>\n",
       "      <td>-2047.969697</td>\n",
       "      <td>-2185.432076</td>\n",
       "    </tr>\n",
       "    <tr>\n",
       "      <th>3233</th>\n",
       "      <td>2019-08-30</td>\n",
       "      <td>3233</td>\n",
       "      <td>603093</td>\n",
       "      <td>0</td>\n",
       "      <td>-1845.243590</td>\n",
       "      <td>-1834.754317</td>\n",
       "    </tr>\n",
       "    <tr>\n",
       "      <th>3525</th>\n",
       "      <td>2019-08-30</td>\n",
       "      <td>3525</td>\n",
       "      <td>603755</td>\n",
       "      <td>0</td>\n",
       "      <td>-1763.715789</td>\n",
       "      <td>-1742.702888</td>\n",
       "    </tr>\n",
       "    <tr>\n",
       "      <th>3645</th>\n",
       "      <td>2019-08-30</td>\n",
       "      <td>3645</td>\n",
       "      <td>603992</td>\n",
       "      <td>0</td>\n",
       "      <td>-1782.398438</td>\n",
       "      <td>-1799.011294</td>\n",
       "    </tr>\n",
       "  </tbody>\n",
       "</table>\n",
       "</div>"
      ],
      "text/plain": [
       "           date  level_1   issue  N_connect  indus_factor  neutral_factor\n",
       "23   2019-08-30       23  000029          0  -1964.744186    -1980.537718\n",
       "780  2019-08-30      780  002323          0  -1913.869565    -1866.416843\n",
       "1136 2019-08-30     1136  002680          0  -1788.921053    -1752.108075\n",
       "1425 2019-08-30     1425  300028          0  -1696.970588    -1615.549524\n",
       "2167 2019-08-30     2167  300789          0  -1740.853081    -1721.274439\n",
       "2184 2019-08-30     2184  600022          0  -2151.812500    -2177.627162\n",
       "2286 2019-08-30     2286  600145          0  -1894.285714    -1874.129483\n",
       "2557 2019-08-30     2557  600485          0  -1696.970588    -1699.838465\n",
       "3052 2019-08-30     3052  601288          0  -2047.969697    -2185.432076\n",
       "3233 2019-08-30     3233  603093          0  -1845.243590    -1834.754317\n",
       "3525 2019-08-30     3525  603755          0  -1763.715789    -1742.702888\n",
       "3645 2019-08-30     3645  603992          0  -1782.398438    -1799.011294"
      ]
     },
     "execution_count": 10,
     "metadata": {},
     "output_type": "execute_result"
    }
   ],
   "source": [
    "N_connect[(N_connect['date'] == '2019-08-30') & (N_connect['N_connect'] == 0)]"
   ]
  },
  {
   "cell_type": "markdown",
   "id": "8dc5700e-c4c3-494f-a75a-61a2691279b3",
   "metadata": {},
   "source": [
    "## 检查不同方法 IC 反向问题"
   ]
  },
  {
   "cell_type": "markdown",
   "id": "1f65965a-58ad-412d-b6d1-e3467f4e29af",
   "metadata": {},
   "source": [
    "## 检查收益最低组收益过高问题"
   ]
  }
 ],
 "metadata": {
  "kernelspec": {
   "display_name": "Python 3 (ipykernel)",
   "language": "python",
   "name": "python3"
  },
  "language_info": {
   "codemirror_mode": {
    "name": "ipython",
    "version": 3
   },
   "file_extension": ".py",
   "mimetype": "text/x-python",
   "name": "python",
   "nbconvert_exporter": "python",
   "pygments_lexer": "ipython3",
   "version": "3.11.9"
  }
 },
 "nbformat": 4,
 "nbformat_minor": 5
}
