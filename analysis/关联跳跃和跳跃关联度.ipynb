{
 "cells": [
  {
   "cell_type": "markdown",
   "id": "6b2e85e8-5cbf-4e57-adc8-78bb8fe1ce43",
   "metadata": {},
   "source": [
    "# 关联跳跃和跳跃关联度"
   ]
  },
  {
   "cell_type": "markdown",
   "id": "7b24c4c9-8f5c-4dd9-8062-2ce39e44eef1",
   "metadata": {},
   "source": [
    "## 导入模块"
   ]
  },
  {
   "cell_type": "code",
   "execution_count": 9,
   "id": "ffc96d39-42f0-46ee-a2c7-beb77b8327ff",
   "metadata": {},
   "outputs": [],
   "source": [
    "import numpy as np\n",
    "import pandas as pd\n",
    "from matplotlib import pyplot as plt\n",
    "import feather\n",
    "import sys"
   ]
  },
  {
   "cell_type": "markdown",
   "id": "5170cda2-d02c-47fe-8b2c-7f4dac9ba525",
   "metadata": {},
   "source": [
    "## 读入数据"
   ]
  },
  {
   "cell_type": "markdown",
   "id": "ca3777b0-6904-4e28-a279-127317fad65a",
   "metadata": {},
   "source": [
    "### 股价跳跃数据及处理"
   ]
  },
  {
   "cell_type": "code",
   "execution_count": 2,
   "id": "98ca9682-873f-4877-ae8d-d38757e6e78e",
   "metadata": {},
   "outputs": [],
   "source": [
    "jump = feather.read_dataframe('../data/jump/jump.feather')\n",
    "jump['date'] = pd.to_datetime(jump['date'])"
   ]
  },
  {
   "cell_type": "code",
   "execution_count": 3,
   "id": "54de8119-79d7-4997-8316-755472c4efeb",
   "metadata": {},
   "outputs": [],
   "source": [
    "jump = jump[(jump['ret_jump'] > 0.01) | (jump['ret_jump'] < -0.01)]\n",
    "jump['sign'] = jump['ret_jump'].apply(np.sign)"
   ]
  },
  {
   "cell_type": "markdown",
   "id": "7849cd4a-ce3b-4fa6-92fc-0e16cc3e0732",
   "metadata": {},
   "source": [
    "## 关联跳跃"
   ]
  },
  {
   "cell_type": "markdown",
   "id": "cbefd7ef-3444-43a2-aeb2-f6f102d46ea1",
   "metadata": {},
   "source": [
    "### 前一日后一日跳跃方向"
   ]
  },
  {
   "cell_type": "code",
   "execution_count": 4,
   "id": "a0a09580-2e11-42d0-9894-cc5de4314ac8",
   "metadata": {},
   "outputs": [],
   "source": [
    "jump_plus1 = jump[['issue', 'date', 'sign']].copy()\n",
    "jump_plus1['date'] = jump_plus1['date'] + pd.Timedelta('1d')\n",
    "jump_plus1 = jump_plus1.rename(columns={'sign': 'sign_yest'})\n",
    "jump = pd.merge(\n",
    "    jump,\n",
    "    jump_plus1,\n",
    "    on=['issue', 'date'],\n",
    "    how='left'\n",
    ")\n",
    "jump_minus1 = jump[['issue', 'date', 'sign']].copy()\n",
    "jump_minus1['date'] = jump_minus1['date'] - pd.Timedelta('1d')\n",
    "jump_minus1 = jump_minus1.rename(columns={'sign': 'sign_tomo'})\n",
    "jump = pd.merge(\n",
    "    jump,\n",
    "    jump_minus1,\n",
    "    on=['issue', 'date'],\n",
    "    how='left'\n",
    ")\n",
    "jump[['sign_yest', 'sign_tomo']] = jump[['sign_yest', 'sign_tomo']].fillna(0.)"
   ]
  },
  {
   "cell_type": "markdown",
   "id": "8c29cad8-06d0-4c34-a2a2-d48ffbae3aec",
   "metadata": {},
   "source": [
    "### 关联跳跃矩阵"
   ]
  },
  {
   "cell_type": "markdown",
   "id": "0c523299-b95b-4b6e-8cc3-964fa8d840a1",
   "metadata": {},
   "source": [
    "index: 每一次跳跃\n",
    "\n",
    "column: 每一家公司"
   ]
  },
  {
   "cell_type": "code",
   "execution_count": 5,
   "id": "a705e3f1-f5d2-45d0-842d-99515fa086e4",
   "metadata": {},
   "outputs": [],
   "source": [
    "issues = jump['issue'].sort_values().unique()\n",
    "global jump_corr\n",
    "jump_corr = pd.DataFrame(data=False, index=jump.index, columns=issues, dtype=bool)"
   ]
  },
  {
   "cell_type": "markdown",
   "id": "bc8d75f3-63f3-4c5a-951e-050ba8b46d6d",
   "metadata": {},
   "source": [
    "### 找出一日内的关联跳跃"
   ]
  },
  {
   "cell_type": "code",
   "execution_count": 6,
   "id": "881344d9-86df-4b62-94b8-87dbb1b21116",
   "metadata": {},
   "outputs": [],
   "source": [
    "def identify_corr(jump_date):\n",
    "    global jump_corr\n",
    "    \n",
    "    idx_pos = jump_date.loc[jump_date['sign'] == 1].index\n",
    "    idx_pos_corr = (jump_date['sign'] == 1) | (jump_date['sign_yest'] == 1) | (jump_date['sign_tomo'] == 1)\n",
    "    issues_pos = jump_date.loc[idx_pos_corr, 'issue'].to_numpy()\n",
    "    jump_corr.loc[idx_pos, issues_pos] = True\n",
    "    \n",
    "    idx_neg = jump_date.loc[jump_date['sign'] == -1].index\n",
    "    idx_neg_corr = (jump_date['sign'] == -1) | (jump_date['sign_yest'] == -1) | (jump_date['sign_tomo'] == -1)\n",
    "    issues_neg = jump_date.loc[idx_neg_corr, 'issue'].to_numpy()\n",
    "    jump_corr.loc[idx_neg, issues_neg] = True"
   ]
  },
  {
   "cell_type": "markdown",
   "id": "46f9352a-63cc-4698-9f7f-da63a4dce30f",
   "metadata": {},
   "source": [
    "### 关联跳跃 & 保存"
   ]
  },
  {
   "cell_type": "code",
   "execution_count": 7,
   "id": "302ed89d-92da-4abe-a353-cd510d867bf9",
   "metadata": {},
   "outputs": [
    {
     "name": "stdout",
     "output_type": "stream",
     "text": [
      "CPU times: total: 14.7 s\n",
      "Wall time: 14.7 s\n"
     ]
    },
    {
     "data": {
      "text/html": [
       "<div>\n",
       "<style scoped>\n",
       "    .dataframe tbody tr th:only-of-type {\n",
       "        vertical-align: middle;\n",
       "    }\n",
       "\n",
       "    .dataframe tbody tr th {\n",
       "        vertical-align: top;\n",
       "    }\n",
       "\n",
       "    .dataframe thead th {\n",
       "        text-align: right;\n",
       "    }\n",
       "</style>\n",
       "<table border=\"1\" class=\"dataframe\">\n",
       "  <thead>\n",
       "    <tr style=\"text-align: right;\">\n",
       "      <th></th>\n",
       "    </tr>\n",
       "  </thead>\n",
       "  <tbody>\n",
       "  </tbody>\n",
       "</table>\n",
       "</div>"
      ],
      "text/plain": [
       "Empty DataFrame\n",
       "Columns: []\n",
       "Index: []"
      ]
     },
     "execution_count": 7,
     "metadata": {},
     "output_type": "execute_result"
    }
   ],
   "source": [
    "%%time\n",
    "jump.groupby('date')[['issue', 'sign', 'sign_yest', 'sign_tomo']].apply(identify_corr)"
   ]
  },
  {
   "cell_type": "code",
   "execution_count": 8,
   "id": "0c3ca8ee-3c4f-4036-b31c-d385dddec34c",
   "metadata": {},
   "outputs": [
    {
     "name": "stdout",
     "output_type": "stream",
     "text": [
      "CPU times: total: 2min 28s\n",
      "Wall time: 42.5 s\n"
     ]
    }
   ],
   "source": [
    "%%time\n",
    "feather.write_dataframe(jump_corr, '../data/jump/jump_corr.feather')"
   ]
  },
  {
   "cell_type": "code",
   "execution_count": 11,
   "id": "0c1ad218-711c-4409-be0a-f4e99413baaf",
   "metadata": {},
   "outputs": [
    {
     "data": {
      "text/plain": [
       "9800.559878"
      ]
     },
     "execution_count": 11,
     "metadata": {},
     "output_type": "execute_result"
    }
   ],
   "source": [
    "sys.getsizeof(jump_corr) / 1e6"
   ]
  },
  {
   "cell_type": "markdown",
   "id": "8d7a2c2a-a6bf-49d6-af09-bea26864ba16",
   "metadata": {},
   "source": [
    "## 跳跃频率关联度"
   ]
  },
  {
   "cell_type": "markdown",
   "id": "df0d7f02-039c-462c-8447-c11208f6994a",
   "metadata": {},
   "source": [
    "## 跳跃幅度关联度"
   ]
  }
 ],
 "metadata": {
  "kernelspec": {
   "display_name": "Python 3 (ipykernel)",
   "language": "python",
   "name": "python3"
  },
  "language_info": {
   "codemirror_mode": {
    "name": "ipython",
    "version": 3
   },
   "file_extension": ".py",
   "mimetype": "text/x-python",
   "name": "python",
   "nbconvert_exporter": "python",
   "pygments_lexer": "ipython3",
   "version": "3.11.9"
  }
 },
 "nbformat": 4,
 "nbformat_minor": 5
}
