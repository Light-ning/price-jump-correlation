{
 "cells": [
  {
   "cell_type": "markdown",
   "id": "3e2dc434-960d-43f2-809d-7b43c0f80c30",
   "metadata": {},
   "source": [
    "# 计算点度中心性因子"
   ]
  },
  {
   "cell_type": "markdown",
   "id": "60a81dc7-3b3a-4f3a-9b0b-c6ea16418eda",
   "metadata": {},
   "source": [
    "## 导入模块"
   ]
  },
  {
   "cell_type": "code",
   "execution_count": 1,
   "id": "f91c36ba-427f-4626-a1f0-9550efbfc723",
   "metadata": {},
   "outputs": [],
   "source": [
    "import numpy as np\n",
    "import pandas as pd\n",
    "from matplotlib import pyplot as plt\n",
    "import feather\n",
    "from tqdm.notebook import tqdm\n",
    "import os"
   ]
  },
  {
   "cell_type": "markdown",
   "id": "e19ab0b2-8223-4ce7-a0de-2d77d77c32d2",
   "metadata": {},
   "source": [
    "## 读入数据"
   ]
  },
  {
   "cell_type": "markdown",
   "id": "10d8d388-8b38-44c3-9c3d-0ff90f2e70b6",
   "metadata": {},
   "source": [
    "### 读入调仓日"
   ]
  },
  {
   "cell_type": "code",
   "execution_count": 2,
   "id": "0708159e-6d5d-4e48-ac4c-81967d5965d0",
   "metadata": {},
   "outputs": [],
   "source": [
    "start_date = '2019-08-01'\n",
    "end_date = '2025-01-01'\n",
    "\n",
    "df_adj_date = feather.read_dataframe('../data/adj_date_daily.feather')\n",
    "idx_date = (df_adj_date['adj_date'] >= start_date) & (df_adj_date['adj_date'] <= end_date)\n",
    "adj_date = df_adj_date.loc[idx_date, 'adj_date'].to_list()"
   ]
  },
  {
   "cell_type": "markdown",
   "id": "8317e532-b058-4d33-bd14-3342056aa9b9",
   "metadata": {},
   "source": [
    "### 读入公司列表"
   ]
  },
  {
   "cell_type": "code",
   "execution_count": 3,
   "id": "07eab5a3-edda-4862-9f6e-b652e5b52136",
   "metadata": {},
   "outputs": [],
   "source": [
    "issues = feather.read_dataframe('../data/issues_daily.feather')"
   ]
  },
  {
   "cell_type": "markdown",
   "id": "a434b823-9ab9-49ab-967e-a5d11d50bdef",
   "metadata": {},
   "source": [
    "## 计算点度中心性"
   ]
  },
  {
   "cell_type": "code",
   "execution_count": 4,
   "id": "9eaa7f2a-ef21-4946-a2b5-113dbc2cd0ea",
   "metadata": {},
   "outputs": [],
   "source": [
    "def N_connect_calc(connect_method, dirname, *args, **kwargs):\n",
    "    remove_num = []\n",
    "    remove_size = []\n",
    "    df_num = None\n",
    "    df_size = None\n",
    "    os.makedirs(dirname, exist_ok=True)\n",
    "    \n",
    "    for ad in tqdm(adj_date):\n",
    "        year = ad.year\n",
    "        ad_str = ad.strftime('%Y%m%d')\n",
    "        issues_date = issues.loc[ad, 'issue'].to_numpy()\n",
    "        \n",
    "        corr_num = feather.read_dataframe(f'../data/corr_daily/{year}/corr_num_{ad_str}.feather')\n",
    "        nc_num = connect_method(corr_num, *args, **kwargs)\n",
    "        r_num = (nc_num == 0).sum()\n",
    "        remove_num.append(r_num / len(issues_date))\n",
    "        df_num_ad = pd.DataFrame({'issue': issues_date, 'date': ad, 'N_connect': nc_num})\n",
    "        df_num = pd.concat([df_num, df_num_ad])\n",
    "        \n",
    "        corr_size = feather.read_dataframe(f'../data/corr_daily/{year}/corr_size_{ad_str}.feather')\n",
    "        nc_size = connect_method(corr_size, *args, **kwargs)\n",
    "        r_size = (nc_size == 0).sum()\n",
    "        remove_size.append(r_size / len(issues_date))\n",
    "        df_size_ad = pd.DataFrame({'issue': issues_date, 'date': ad, 'N_connect': nc_size})\n",
    "        df_size = pd.concat([df_size, df_size_ad])\n",
    "    \n",
    "    feather.write_dataframe(df_num, dirname + '/N_connect_num.feather')\n",
    "    feather.write_dataframe(df_size, dirname + '/N_connect_size.feather')\n",
    "    \n",
    "    plt.plot(adj_date, remove_num, label='num')\n",
    "    plt.plot(adj_date, remove_size, label='size')\n",
    "    plt.legend()\n",
    "    plt.show()"
   ]
  },
  {
   "cell_type": "markdown",
   "id": "2a7b6002-5e1c-47c8-8a9b-81fccf0b9e0b",
   "metadata": {},
   "source": [
    "## 方法0: 稀疏化处理后取单向连接"
   ]
  },
  {
   "cell_type": "code",
   "execution_count": 5,
   "id": "3f4cebc4-37d1-424d-9c46-e56ae75d134b",
   "metadata": {},
   "outputs": [],
   "source": [
    "def connect_0(corr, axis=1):\n",
    "    '''\n",
    "    axis=1 表示统计焦点股票的关联股票个数\n",
    "    axis=0 表示统计与该股票关联的焦点股票个数\n",
    "    '''\n",
    "    w = corr.values.copy()\n",
    "    np.fill_diagonal(w, 0)\n",
    "    thresh = np.median(w[w > 0])\n",
    "    w[w <= thresh] = 0\n",
    "    a = (w > 0).astype(int)\n",
    "    N_connect = a.sum(axis=axis)\n",
    "    return N_connect"
   ]
  },
  {
   "cell_type": "code",
   "execution_count": null,
   "id": "3ffb6ead-6905-472d-bed6-363f87f1d2a8",
   "metadata": {},
   "outputs": [
    {
     "data": {
      "application/vnd.jupyter.widget-view+json": {
       "model_id": "e36ee287aa544bbbac9e2522efd0f288",
       "version_major": 2,
       "version_minor": 0
      },
      "text/plain": [
       "  0%|          | 0/1315 [00:00<?, ?it/s]"
      ]
     },
     "metadata": {},
     "output_type": "display_data"
    }
   ],
   "source": [
    "N_connect_calc(connect_0, '../data/N_connect_daily/N_connect_0_1/', axis=1)"
   ]
  },
  {
   "cell_type": "code",
   "execution_count": null,
   "id": "829f0ae7-cf46-4ca0-9783-a4a25781d0c4",
   "metadata": {},
   "outputs": [],
   "source": [
    "N_connect_calc(connect_0, '../data/N_connect_daily/N_connect_0_0/', axis=0)"
   ]
  },
  {
   "cell_type": "markdown",
   "id": "11f7fde6-27a3-4b3e-8219-c7e3f9144040",
   "metadata": {},
   "source": [
    "## 方法1: 稀疏化处理后建立双向连接"
   ]
  },
  {
   "cell_type": "code",
   "execution_count": null,
   "id": "77df6577-043a-4faa-bc3d-e0dc7d46e3ea",
   "metadata": {},
   "outputs": [],
   "source": [
    "def connect_1(corr, method='both'):\n",
    "    w = corr.values.copy()\n",
    "    np.fill_diagonal(w, 0)\n",
    "    thresh = np.median(w[w > 0])\n",
    "    w[w <= thresh] = 0\n",
    "    a = (w > 0).astype(int)\n",
    "    if method == 'any':\n",
    "        a = np.maximum(a, a.T) # 单向连接就可以\n",
    "    elif method == 'both':\n",
    "        a = np.minimum(a, a.T) # 需要双向都有连接\n",
    "    N_connect = a.sum(axis=1)\n",
    "    return N_connect"
   ]
  },
  {
   "cell_type": "code",
   "execution_count": null,
   "id": "1ad305e9-c5dc-4200-b452-df4da78832b4",
   "metadata": {},
   "outputs": [],
   "source": [
    "N_connect_calc(connect_1, '../data/N_connect_daily/N_connect_1_both/', method='both')"
   ]
  },
  {
   "cell_type": "code",
   "execution_count": null,
   "id": "5417f6e0-3c79-49b1-8f92-3c02ae9c055a",
   "metadata": {},
   "outputs": [],
   "source": [
    "N_connect_calc(connect_1, '../data/N_connect_daily/N_connect_1_any/', method='any')"
   ]
  },
  {
   "cell_type": "markdown",
   "id": "7108cd83-7e6c-4b9b-8a01-1ab2c8e6795d",
   "metadata": {},
   "source": [
    "## 方法2: 先对双向相关度取平均值 / 最大值再稀疏化处理"
   ]
  },
  {
   "cell_type": "code",
   "execution_count": null,
   "id": "786c3ab3-971f-4f91-afc0-d86a4ebc9f5c",
   "metadata": {},
   "outputs": [],
   "source": [
    "def connect_2(corr, method='mean'):\n",
    "    w = corr.values.copy()\n",
    "    np.fill_diagonal(w, 0)\n",
    "    \n",
    "    if method == 'mean':\n",
    "        w = np.mean([w, w.T], axis=0)\n",
    "    elif method == 'max':\n",
    "        w = np.maximum(w, w.T)\n",
    "    elif method == 'min':\n",
    "        w = np.minimum(w, w.T)\n",
    "    \n",
    "    thresh = np.median(w[w > 0])\n",
    "    w[w <= thresh] = 0\n",
    "    a = (w > 0).astype(int)\n",
    "    N_connect = a.sum(axis=1)\n",
    "    return N_connect"
   ]
  },
  {
   "cell_type": "code",
   "execution_count": null,
   "id": "2c4eac82-544c-4da5-8962-94aa371a3c9e",
   "metadata": {},
   "outputs": [],
   "source": [
    "N_connect_calc(connect_2, '../data/N_connect_daily/N_connect_2_mean/', method='mean')"
   ]
  },
  {
   "cell_type": "code",
   "execution_count": null,
   "id": "8efa6313-8ec3-48ab-becf-d82c3ad489ac",
   "metadata": {},
   "outputs": [],
   "source": [
    "N_connect_calc(connect_2, '../data/N_connect_daily/N_connect_2_max/', method='max')"
   ]
  },
  {
   "cell_type": "code",
   "execution_count": null,
   "id": "1461e51a-aac0-437f-96e6-e041efd04e99",
   "metadata": {},
   "outputs": [],
   "source": [
    "N_connect_calc(connect_2, '../data/N_connect_daily/N_connect_2_min/', method='min')"
   ]
  },
  {
   "cell_type": "markdown",
   "id": "f5fba953-70d6-42c6-9395-2a08c67fc792",
   "metadata": {},
   "source": [
    "## 等权复合频率 / 幅度因子"
   ]
  },
  {
   "cell_type": "code",
   "execution_count": null,
   "id": "411c1945-f421-418a-9437-8b937f3b4af1",
   "metadata": {},
   "outputs": [],
   "source": [
    "dirnames = [\n",
    "    '../data/N_connect_daily/N_connect_0_0/', '../data/N_connect_daily/N_connect_0_1/',\n",
    "    '../data/N_connect_daily/N_connect_1_any/', '../data/N_connect_daily/N_connect_1_both/',\n",
    "    '../data/N_connect_daily/N_connect_2_max/', '../data/N_connect_daily/N_connect_2_min/', '../data/N_connect_daily/N_connect_2_mean/'\n",
    "]\n",
    "\n",
    "for dirname in dirnames:\n",
    "    num = feather.read_dataframe(dirname + '/N_connect_num.feather')\n",
    "    size = feather.read_dataframe(dirname + '/N_connect_size.feather')\n",
    "    N_connect = pd.DataFrame(data={\n",
    "        'date': num['date'],\n",
    "        'issue': num['issue'],\n",
    "        'N_connect': num['N_connect'] + size['N_connect']\n",
    "    })\n",
    "    feather.write_dataframe(N_connect, dirname + '/N_connect.feather')"
   ]
  }
 ],
 "metadata": {
  "kernelspec": {
   "display_name": "Python 3 (ipykernel)",
   "language": "python",
   "name": "python3"
  },
  "language_info": {
   "codemirror_mode": {
    "name": "ipython",
    "version": 3
   },
   "file_extension": ".py",
   "mimetype": "text/x-python",
   "name": "python",
   "nbconvert_exporter": "python",
   "pygments_lexer": "ipython3",
   "version": "3.11.9"
  }
 },
 "nbformat": 4,
 "nbformat_minor": 5
}
