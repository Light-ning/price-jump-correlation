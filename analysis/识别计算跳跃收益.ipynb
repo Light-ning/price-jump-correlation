{
 "cells": [
  {
   "cell_type": "markdown",
   "id": "cae4eb46-93f5-4f07-b1d4-580a8970b737",
   "metadata": {},
   "source": [
    "# 识别计算跳跃收益"
   ]
  },
  {
   "cell_type": "markdown",
   "id": "3ebc9230-eb2f-48cc-bf55-4a90ed006cd7",
   "metadata": {},
   "source": [
    "## 导入模块"
   ]
  },
  {
   "cell_type": "code",
   "execution_count": 1,
   "id": "73926c0b-eae3-4efa-9cef-d68e17547141",
   "metadata": {},
   "outputs": [],
   "source": [
    "import numpy as np\n",
    "import pandas as pd\n",
    "from matplotlib import pyplot as plt\n",
    "import feather\n",
    "import math\n",
    "from scipy import stats\n",
    "import swifter\n",
    "from joblib import Parallel, delayed\n",
    "from tqdm.notebook import tqdm\n",
    "%load_ext line_profiler"
   ]
  },
  {
   "cell_type": "markdown",
   "id": "6ddad00b-aa9c-4f0d-a0b2-e80c91d5c6f3",
   "metadata": {},
   "source": [
    "## 读入测试数据"
   ]
  },
  {
   "cell_type": "code",
   "execution_count": 2,
   "id": "16d51770-b8ad-4658-a165-cc194ad8fac1",
   "metadata": {},
   "outputs": [],
   "source": [
    "price_1m = feather.read_dataframe('../data/2024/StockPriceK1m_20240102.feather')\n",
    "price_1m['date'] = pd.to_datetime(price_1m['date'].astype(str))\n",
    "price_1d = feather.read_dataframe('../data/StockPriceK1d_20240630.feather')\n",
    "price_1d['date'] = pd.to_datetime(price_1d['date'])\n",
    "idx_date = (price_1d['date'] >= '2019-01-01') & (price_1d['date'] <= '2024-12-31')\n",
    "price_1d = price_1d[idx_date]\n",
    "price_1d = price_1d.set_index(['issue', 'date'])"
   ]
  },
  {
   "cell_type": "code",
   "execution_count": 3,
   "id": "6b1e1982-a6c7-421a-8474-10401c804c6b",
   "metadata": {},
   "outputs": [
    {
     "name": "stdout",
     "output_type": "stream",
     "text": [
      "5096\n"
     ]
    }
   ],
   "source": [
    "print(len(price_1m['issue'].unique()))"
   ]
  },
  {
   "cell_type": "markdown",
   "id": "e7f64e1f-ae06-470b-bcb9-13c3c873f400",
   "metadata": {},
   "source": [
    "## 定义跳跃统计量"
   ]
  },
  {
   "cell_type": "code",
   "execution_count": 4,
   "id": "c8b36b5b-3876-4956-af35-f20777d36c2e",
   "metadata": {},
   "outputs": [],
   "source": [
    "def mu(p: float):\n",
    "    return (2 ** (p / 2)) * math.gamma((p + 1) / 2) / np.sqrt(np.pi)\n",
    "\n",
    "mu1 = mu(1)\n",
    "mu6 = mu(6)\n",
    "\n",
    "def JS(ret, log_ret):\n",
    "    n_series, n_points = ret.shape\n",
    "    \n",
    "    abs_log_ret = np.abs(log_ret)\n",
    "    \n",
    "    window_size = 6\n",
    "    windows = np.lib.stride_tricks.sliding_window_view(\n",
    "        abs_log_ret, window_shape=window_size, axis=1\n",
    "    )\n",
    "    prod_6 = np.prod(windows, axis=-1)\n",
    "    sum_prod_6 = np.sum(prod_6, axis=1)\n",
    "    \n",
    "    coef_Omega = (mu6 / 9) * ((n_points ** 3) * (mu1 ** -6) / (n_points - 5))\n",
    "    Omega_SwV = coef_Omega * sum_prod_6\n",
    "    \n",
    "    SwV_N = 2 * np.sum(ret - log_ret, axis=1)\n",
    "    \n",
    "    window_size_2 = 2\n",
    "    windows_2 = np.lib.stride_tricks.sliding_window_view(\n",
    "        abs_log_ret, window_shape=window_size_2, axis=1\n",
    "    )\n",
    "    prod_2 = np.prod(windows_2, axis=-1)\n",
    "    sum_prod_2 = np.sum(prod_2, axis=1)\n",
    "    \n",
    "    coef_V = 1 / mu1\n",
    "    V_01 = coef_V * sum_prod_2\n",
    "    \n",
    "    RV_N = np.sum(log_ret ** 2, axis=1)\n",
    "    \n",
    "    valid_mask = (Omega_SwV != 0) & (SwV_N != 0)\n",
    "    js = np.full(n_series, np.nan)\n",
    "    \n",
    "    if np.any(valid_mask):\n",
    "        valid_idx = np.where(valid_mask)[0]\n",
    "        js[valid_idx] = n_points * (V_01[valid_idx] / np.sqrt(Omega_SwV[valid_idx])) * (1 - RV_N[valid_idx] / SwV_N[valid_idx])\n",
    "    \n",
    "    return js[0] if n_series == 1 else js\n",
    "\n",
    "def pvalue(js: float):\n",
    "    cdf = stats.norm.cdf(js, loc=0, scale=1)\n",
    "    return 2 * min(cdf, 1 - cdf)"
   ]
  },
  {
   "cell_type": "markdown",
   "id": "fadbda6b-6aba-4855-8560-8414080cc82b",
   "metadata": {},
   "source": [
    "## 识别跳跃, 计算收益"
   ]
  },
  {
   "cell_type": "code",
   "execution_count": 5,
   "id": "14fe7a69-baa1-48ad-a7dd-b27a82f01ee1",
   "metadata": {},
   "outputs": [],
   "source": [
    "def jump_identify(ret, log_ret):\n",
    "    n = len(ret)\n",
    "    jump = np.full(n, False, dtype=bool)\n",
    "    med = np.median(ret)\n",
    "    log_med = np.median(log_ret)\n",
    "    ret_c = ret.copy()\n",
    "    log_ret_c = log_ret.copy()\n",
    "    js0 = JS(ret_c.reshape(1, n), log_ret_c.reshape(1, n))\n",
    "    p = pvalue(js0)\n",
    "    js0_pre = js0\n",
    "    \n",
    "    while (p < 0.05):\n",
    "        ret_mat = np.tile(ret_c, (n, 1))\n",
    "        log_ret_mat = np.tile(log_ret_c, (n, 1))\n",
    "        np.fill_diagonal(ret_mat, med)\n",
    "        np.fill_diagonal(log_ret_mat, log_med)\n",
    "        js = JS(ret_mat, log_ret_mat)\n",
    "        \n",
    "        js_diff = np.abs(js0) - np.abs(js)\n",
    "        idx_max = np.argmax(js_diff)\n",
    "        jump[idx_max] = True\n",
    "        ret_c[idx_max] = med\n",
    "        log_ret_c[idx_max] = log_med\n",
    "        js0 = JS(ret_c.reshape(1, n), log_ret_c.reshape(1, n))\n",
    "        p = pvalue(js0)\n",
    "        if js0 == js0_pre:\n",
    "            break\n",
    "        js0_pre = js0\n",
    "\n",
    "    return np.any(jump), log_ret[jump].sum()"
   ]
  },
  {
   "cell_type": "code",
   "execution_count": 6,
   "id": "dd77450f-ecb5-40c2-b5df-038717b33a0a",
   "metadata": {},
   "outputs": [],
   "source": [
    "time_start = np.append(np.arange(93000, 113000, 500), np.arange(130000, 150000, 500))\n",
    "time_start = time_start[np.where(time_start % 10000 < 6000)]\n",
    "time_end =  time_start + 400\n",
    "\n",
    "def jump_identify_price(price_1m, price_1d, date, date_next):\n",
    "    issue = price_1m.iloc[0]['issue']\n",
    "    prc = price_1m.copy()\n",
    "    start_price = prc.loc[price_1m['time'].isin(time_start), 'open'].to_numpy()\n",
    "    end_price = prc.loc[price_1m['time'].isin(time_end), 'close'].to_numpy()\n",
    "    \n",
    "    close_today = price_1d.loc[(issue, date), 'close']\n",
    "    open_next = price_1d.loc[(issue, date), 'open']\n",
    "    start_price = np.append(start_price, close_today)\n",
    "    end_price = np.append(end_price, close_today)\n",
    "    \n",
    "    ret = (end_price - start_price) / start_price\n",
    "    log_ret = np.log(1 + ret)\n",
    "\n",
    "    flag_jump, ret_jump = jump_identify(ret, log_ret)\n",
    "    df_jump = pd.DataFrame({'issue': [issue], 'jump': [flag_jump], 'ret_jump': [ret_jump]})\n",
    "    return df_jump\n",
    "\n",
    "def jump_identify_parallel(price_1m, price_1d, date, date_next):\n",
    "    groups = list(price_1m.groupby('issue'))\n",
    "    total_groups = len(groups)\n",
    "    \n",
    "    results = Parallel(n_jobs=-1, backend='loky')(\n",
    "        delayed(jump_identify_price)(group[1], price_1d, '2024-01-02', '2024-01-03')\n",
    "        for group in tqdm(groups, total=total_groups, desc=\"Processing stocks\")\n",
    "    )\n",
    "    \n",
    "    return pd.concat(results)"
   ]
  },
  {
   "cell_type": "markdown",
   "id": "db55f9dd-ca77-4894-be83-b098098b7714",
   "metadata": {},
   "source": [
    "## 性能测试"
   ]
  },
  {
   "cell_type": "markdown",
   "id": "77855fd4-8295-4e8d-a1c4-05884a460316",
   "metadata": {},
   "source": [
    "### 单公司单日性能测试"
   ]
  },
  {
   "cell_type": "code",
   "execution_count": 7,
   "id": "019afc6c-bbaf-41ca-aeba-8ddfd6762673",
   "metadata": {},
   "outputs": [
    {
     "name": "stdout",
     "output_type": "stream",
     "text": [
      "The slowest run took 15.48 times longer than the fastest. This could mean that an intermediate result is being cached.\n",
      "16.4 ms ± 19.2 ms per loop (mean ± std. dev. of 3 runs, 10 loops each)\n"
     ]
    }
   ],
   "source": [
    "prc = price_1m.loc[price_1m['issue'] == '000014']\n",
    "date = '2024-01-02'\n",
    "date_next = '2024-01-03'\n",
    "%timeit -n 10 -r 3 jump_identify_price(prc, price_1d, date, date_next)"
   ]
  },
  {
   "cell_type": "markdown",
   "id": "0d170892-1e9b-413b-ad29-a76a9894ffa2",
   "metadata": {},
   "source": [
    "逐行运行时间"
   ]
  },
  {
   "cell_type": "code",
   "execution_count": 8,
   "id": "864668e2-92ed-4f76-937a-d610d3c382de",
   "metadata": {},
   "outputs": [
    {
     "data": {
      "text/plain": [
       "Timer unit: 1e-07 s\n",
       "\n",
       "Total time: 0.0083049 s\n",
       "File: C:\\Users\\admin\\AppData\\Local\\Temp\\ipykernel_19436\\22860960.py\n",
       "Function: jump_identify_price at line 5\n",
       "\n",
       "Line #      Hits         Time  Per Hit   % Time  Line Contents\n",
       "==============================================================\n",
       "     5                                           def jump_identify_price(price_1m, price_1d, date, date_next):\n",
       "     6         1       5782.0   5782.0      7.0      issue = price_1m.iloc[0]['issue']\n",
       "     7         1       2888.0   2888.0      3.5      prc = price_1m.copy()\n",
       "     8         1      12891.0  12891.0     15.5      start_price = prc.loc[price_1m['time'].isin(time_start), 'open'].to_numpy()\n",
       "     9         1      11297.0  11297.0     13.6      end_price = prc.loc[price_1m['time'].isin(time_end), 'close'].to_numpy()\n",
       "    10                                           \n",
       "    11         1       4620.0   4620.0      5.6      close_today = price_1d.loc[(issue, date), 'close']\n",
       "    12         1       3146.0   3146.0      3.8      open_next = price_1d.loc[(issue, date), 'open']\n",
       "    13         1        279.0    279.0      0.3      start_price = np.append(start_price, close_today)\n",
       "    14         1        111.0    111.0      0.1      end_price = np.append(end_price, close_today)\n",
       "    15                                           \n",
       "    16         1         54.0     54.0      0.1      ret = (end_price - start_price) / start_price\n",
       "    17         1         80.0     80.0      0.1      log_ret = np.log(1 + ret)\n",
       "    18                                           \n",
       "    19         1      35221.0  35221.0     42.4      flag_jump, ret_jump = jump_identify(ret, log_ret)\n",
       "    20         1       6676.0   6676.0      8.0      df_jump = pd.DataFrame({'issue': [issue], 'jump': [flag_jump], 'ret_jump': [ret_jump]})\n",
       "    21         1          4.0      4.0      0.0      return df_jump"
      ]
     },
     "metadata": {},
     "output_type": "display_data"
    }
   ],
   "source": [
    "prc = price_1m.loc[price_1m['issue'] == '000014']\n",
    "date = '2024-01-02'\n",
    "date_next = '2024-01-03'\n",
    "%lprun -f jump_identify_price jump_identify_price(prc, price_1d, date, date_next)"
   ]
  },
  {
   "cell_type": "markdown",
   "id": "588dcb81-16f4-4232-be23-fe7102a1e4b7",
   "metadata": {},
   "source": [
    "### 单线程 / 并行性能测试"
   ]
  },
  {
   "cell_type": "markdown",
   "id": "4156daa1-408f-4c41-b214-df10821c4103",
   "metadata": {},
   "source": [
    "apply 单线程运算\n",
    "\n",
    "速度: 9.02s / 5096 公司"
   ]
  },
  {
   "cell_type": "code",
   "execution_count": 9,
   "id": "e1d11087-4866-4f93-aa2c-f675846ab937",
   "metadata": {},
   "outputs": [
    {
     "name": "stdout",
     "output_type": "stream",
     "text": [
      "CPU times: total: 9.53 s\n",
      "Wall time: 9.84 s\n"
     ]
    }
   ],
   "source": [
    "%%time\n",
    "df_jump = price_1m.groupby('issue')[['issue', 'time', 'open', 'close']].apply(\n",
    "    jump_identify_price,\n",
    "    price_1d=price_1d,\n",
    "    date='2024-01-02',\n",
    "    date_next='2024-01-03'\n",
    ")"
   ]
  },
  {
   "cell_type": "markdown",
   "id": "f5e931da-23c0-4cd5-bf8a-8731abd629c8",
   "metadata": {},
   "source": [
    "使用 swifter 提速\n",
    "\n",
    "速度: 6.03s / 5096 公司"
   ]
  },
  {
   "cell_type": "code",
   "execution_count": 10,
   "id": "c373eb18-6ca5-4b64-a23d-5237b0593e24",
   "metadata": {},
   "outputs": [
    {
     "data": {
      "application/vnd.jupyter.widget-view+json": {
       "model_id": "f1d87cb34e804f0c936b6d12a0855508",
       "version_major": 2,
       "version_minor": 0
      },
      "text/plain": [
       "  0%|          | 0/8 [00:00<?, ?it/s]"
      ]
     },
     "metadata": {},
     "output_type": "display_data"
    },
    {
     "name": "stderr",
     "output_type": "stream",
     "text": [
      "2025-07-01 13:41:17,091\tINFO worker.py:1917 -- Started a local Ray instance.\n"
     ]
    },
    {
     "name": "stdout",
     "output_type": "stream",
     "text": [
      "CPU times: total: 5.72 s\n",
      "Wall time: 14.9 s\n"
     ]
    }
   ],
   "source": [
    "%%time\n",
    "df_jump = price_1m.swifter.groupby('issue')[['issue', 'time', 'open', 'close']].apply(\n",
    "    jump_identify_price,\n",
    "    price_1d=price_1d,\n",
    "    date='2024-01-02',\n",
    "    date_next='2024-01-03'\n",
    ")"
   ]
  },
  {
   "cell_type": "markdown",
   "id": "627f3ebe-822c-4bfc-bb57-cf9a2b9f2f07",
   "metadata": {},
   "source": [
    "使用 joblib 并行运算\n",
    "\n",
    "速度：18min4s / 5096 公司"
   ]
  },
  {
   "cell_type": "code",
   "execution_count": 11,
   "id": "7f478206-ac08-4ff7-be9d-264e4831bf82",
   "metadata": {},
   "outputs": [],
   "source": [
    "# %%time\n",
    "# df_jump = jump_identify_parallel(price_1m, price_1d, '2024-01-02', '2024-01-03')"
   ]
  },
  {
   "cell_type": "markdown",
   "id": "3820b12a-8c96-47dc-8114-f5382a218b76",
   "metadata": {},
   "source": [
    "## 处理筛选日线数据"
   ]
  },
  {
   "cell_type": "code",
   "execution_count": 12,
   "id": "c5562121-710f-46c3-83ba-2f35f5aa960b",
   "metadata": {},
   "outputs": [
    {
     "data": {
      "text/html": [
       "<div>\n",
       "<style scoped>\n",
       "    .dataframe tbody tr th:only-of-type {\n",
       "        vertical-align: middle;\n",
       "    }\n",
       "\n",
       "    .dataframe tbody tr th {\n",
       "        vertical-align: top;\n",
       "    }\n",
       "\n",
       "    .dataframe thead th {\n",
       "        text-align: right;\n",
       "    }\n",
       "</style>\n",
       "<table border=\"1\" class=\"dataframe\">\n",
       "  <thead>\n",
       "    <tr style=\"text-align: right;\">\n",
       "      <th></th>\n",
       "      <th></th>\n",
       "      <th>preclose</th>\n",
       "      <th>open</th>\n",
       "      <th>high</th>\n",
       "      <th>low</th>\n",
       "      <th>close</th>\n",
       "      <th>numTrades</th>\n",
       "      <th>volume</th>\n",
       "      <th>value</th>\n",
       "      <th>adj</th>\n",
       "      <th>ret</th>\n",
       "      <th>is_limit_buy</th>\n",
       "      <th>is_limit_sell</th>\n",
       "    </tr>\n",
       "    <tr>\n",
       "      <th>issue</th>\n",
       "      <th>date</th>\n",
       "      <th></th>\n",
       "      <th></th>\n",
       "      <th></th>\n",
       "      <th></th>\n",
       "      <th></th>\n",
       "      <th></th>\n",
       "      <th></th>\n",
       "      <th></th>\n",
       "      <th></th>\n",
       "      <th></th>\n",
       "      <th></th>\n",
       "      <th></th>\n",
       "    </tr>\n",
       "  </thead>\n",
       "  <tbody>\n",
       "    <tr>\n",
       "      <th rowspan=\"5\" valign=\"top\">000001</th>\n",
       "      <th>2019-01-02</th>\n",
       "      <td>9.38</td>\n",
       "      <td>9.39</td>\n",
       "      <td>9.42</td>\n",
       "      <td>9.16</td>\n",
       "      <td>9.19</td>\n",
       "      <td>25140</td>\n",
       "      <td>53938632</td>\n",
       "      <td>4.986951e+08</td>\n",
       "      <td>108.031388</td>\n",
       "      <td>-0.020256</td>\n",
       "      <td>0</td>\n",
       "      <td>0</td>\n",
       "    </tr>\n",
       "    <tr>\n",
       "      <th>2019-01-03</th>\n",
       "      <td>9.19</td>\n",
       "      <td>9.18</td>\n",
       "      <td>9.33</td>\n",
       "      <td>9.15</td>\n",
       "      <td>9.28</td>\n",
       "      <td>19151</td>\n",
       "      <td>41553795</td>\n",
       "      <td>3.844577e+08</td>\n",
       "      <td>108.031388</td>\n",
       "      <td>0.009793</td>\n",
       "      <td>0</td>\n",
       "      <td>0</td>\n",
       "    </tr>\n",
       "    <tr>\n",
       "      <th>2019-01-04</th>\n",
       "      <td>9.28</td>\n",
       "      <td>9.24</td>\n",
       "      <td>9.82</td>\n",
       "      <td>9.22</td>\n",
       "      <td>9.75</td>\n",
       "      <td>59551</td>\n",
       "      <td>148115906</td>\n",
       "      <td>1.422150e+09</td>\n",
       "      <td>108.031388</td>\n",
       "      <td>0.050647</td>\n",
       "      <td>0</td>\n",
       "      <td>0</td>\n",
       "    </tr>\n",
       "    <tr>\n",
       "      <th>2019-01-07</th>\n",
       "      <td>9.75</td>\n",
       "      <td>9.84</td>\n",
       "      <td>9.85</td>\n",
       "      <td>9.63</td>\n",
       "      <td>9.74</td>\n",
       "      <td>34912</td>\n",
       "      <td>86568766</td>\n",
       "      <td>8.411664e+08</td>\n",
       "      <td>108.031388</td>\n",
       "      <td>-0.001026</td>\n",
       "      <td>0</td>\n",
       "      <td>0</td>\n",
       "    </tr>\n",
       "    <tr>\n",
       "      <th>2019-01-08</th>\n",
       "      <td>9.74</td>\n",
       "      <td>9.73</td>\n",
       "      <td>9.74</td>\n",
       "      <td>9.62</td>\n",
       "      <td>9.66</td>\n",
       "      <td>21454</td>\n",
       "      <td>40238811</td>\n",
       "      <td>3.892478e+08</td>\n",
       "      <td>108.031388</td>\n",
       "      <td>-0.008214</td>\n",
       "      <td>0</td>\n",
       "      <td>0</td>\n",
       "    </tr>\n",
       "    <tr>\n",
       "      <th>...</th>\n",
       "      <th>...</th>\n",
       "      <td>...</td>\n",
       "      <td>...</td>\n",
       "      <td>...</td>\n",
       "      <td>...</td>\n",
       "      <td>...</td>\n",
       "      <td>...</td>\n",
       "      <td>...</td>\n",
       "      <td>...</td>\n",
       "      <td>...</td>\n",
       "      <td>...</td>\n",
       "      <td>...</td>\n",
       "      <td>...</td>\n",
       "    </tr>\n",
       "    <tr>\n",
       "      <th rowspan=\"5\" valign=\"top\">689009</th>\n",
       "      <th>2024-06-24</th>\n",
       "      <td>42.14</td>\n",
       "      <td>41.44</td>\n",
       "      <td>42.10</td>\n",
       "      <td>38.52</td>\n",
       "      <td>38.81</td>\n",
       "      <td>24300</td>\n",
       "      <td>11157140</td>\n",
       "      <td>4.452130e+08</td>\n",
       "      <td>1.007044</td>\n",
       "      <td>-0.079022</td>\n",
       "      <td>0</td>\n",
       "      <td>0</td>\n",
       "    </tr>\n",
       "    <tr>\n",
       "      <th>2024-06-25</th>\n",
       "      <td>38.81</td>\n",
       "      <td>39.07</td>\n",
       "      <td>39.87</td>\n",
       "      <td>38.70</td>\n",
       "      <td>39.27</td>\n",
       "      <td>15605</td>\n",
       "      <td>6005606</td>\n",
       "      <td>2.358702e+08</td>\n",
       "      <td>1.007044</td>\n",
       "      <td>0.011853</td>\n",
       "      <td>0</td>\n",
       "      <td>0</td>\n",
       "    </tr>\n",
       "    <tr>\n",
       "      <th>2024-06-26</th>\n",
       "      <td>39.27</td>\n",
       "      <td>38.96</td>\n",
       "      <td>40.59</td>\n",
       "      <td>38.63</td>\n",
       "      <td>39.00</td>\n",
       "      <td>15963</td>\n",
       "      <td>6964262</td>\n",
       "      <td>2.744881e+08</td>\n",
       "      <td>1.007044</td>\n",
       "      <td>-0.006875</td>\n",
       "      <td>0</td>\n",
       "      <td>0</td>\n",
       "    </tr>\n",
       "    <tr>\n",
       "      <th>2024-06-27</th>\n",
       "      <td>39.00</td>\n",
       "      <td>39.00</td>\n",
       "      <td>39.00</td>\n",
       "      <td>36.18</td>\n",
       "      <td>37.17</td>\n",
       "      <td>26804</td>\n",
       "      <td>10932445</td>\n",
       "      <td>4.051810e+08</td>\n",
       "      <td>1.007044</td>\n",
       "      <td>-0.046923</td>\n",
       "      <td>0</td>\n",
       "      <td>0</td>\n",
       "    </tr>\n",
       "    <tr>\n",
       "      <th>2024-06-28</th>\n",
       "      <td>37.17</td>\n",
       "      <td>37.18</td>\n",
       "      <td>37.66</td>\n",
       "      <td>36.53</td>\n",
       "      <td>36.81</td>\n",
       "      <td>14900</td>\n",
       "      <td>5828001</td>\n",
       "      <td>2.164521e+08</td>\n",
       "      <td>1.007044</td>\n",
       "      <td>-0.009685</td>\n",
       "      <td>0</td>\n",
       "      <td>0</td>\n",
       "    </tr>\n",
       "  </tbody>\n",
       "</table>\n",
       "<p>5864891 rows × 12 columns</p>\n",
       "</div>"
      ],
      "text/plain": [
       "                   preclose   open   high    low  close  numTrades     volume  \\\n",
       "issue  date                                                                     \n",
       "000001 2019-01-02      9.38   9.39   9.42   9.16   9.19      25140   53938632   \n",
       "       2019-01-03      9.19   9.18   9.33   9.15   9.28      19151   41553795   \n",
       "       2019-01-04      9.28   9.24   9.82   9.22   9.75      59551  148115906   \n",
       "       2019-01-07      9.75   9.84   9.85   9.63   9.74      34912   86568766   \n",
       "       2019-01-08      9.74   9.73   9.74   9.62   9.66      21454   40238811   \n",
       "...                     ...    ...    ...    ...    ...        ...        ...   \n",
       "689009 2024-06-24     42.14  41.44  42.10  38.52  38.81      24300   11157140   \n",
       "       2024-06-25     38.81  39.07  39.87  38.70  39.27      15605    6005606   \n",
       "       2024-06-26     39.27  38.96  40.59  38.63  39.00      15963    6964262   \n",
       "       2024-06-27     39.00  39.00  39.00  36.18  37.17      26804   10932445   \n",
       "       2024-06-28     37.17  37.18  37.66  36.53  36.81      14900    5828001   \n",
       "\n",
       "                          value         adj       ret  is_limit_buy  \\\n",
       "issue  date                                                           \n",
       "000001 2019-01-02  4.986951e+08  108.031388 -0.020256             0   \n",
       "       2019-01-03  3.844577e+08  108.031388  0.009793             0   \n",
       "       2019-01-04  1.422150e+09  108.031388  0.050647             0   \n",
       "       2019-01-07  8.411664e+08  108.031388 -0.001026             0   \n",
       "       2019-01-08  3.892478e+08  108.031388 -0.008214             0   \n",
       "...                         ...         ...       ...           ...   \n",
       "689009 2024-06-24  4.452130e+08    1.007044 -0.079022             0   \n",
       "       2024-06-25  2.358702e+08    1.007044  0.011853             0   \n",
       "       2024-06-26  2.744881e+08    1.007044 -0.006875             0   \n",
       "       2024-06-27  4.051810e+08    1.007044 -0.046923             0   \n",
       "       2024-06-28  2.164521e+08    1.007044 -0.009685             0   \n",
       "\n",
       "                   is_limit_sell  \n",
       "issue  date                       \n",
       "000001 2019-01-02              0  \n",
       "       2019-01-03              0  \n",
       "       2019-01-04              0  \n",
       "       2019-01-07              0  \n",
       "       2019-01-08              0  \n",
       "...                          ...  \n",
       "689009 2024-06-24              0  \n",
       "       2024-06-25              0  \n",
       "       2024-06-26              0  \n",
       "       2024-06-27              0  \n",
       "       2024-06-28              0  \n",
       "\n",
       "[5864891 rows x 12 columns]"
      ]
     },
     "execution_count": 12,
     "metadata": {},
     "output_type": "execute_result"
    }
   ],
   "source": [
    "price_1d"
   ]
  },
  {
   "cell_type": "markdown",
   "id": "25c4ca3c-9e41-470a-84a0-3cb46d6e7b6d",
   "metadata": {},
   "source": [
    "## 读入分钟行情, 保存每日股价跳跃信息"
   ]
  }
 ],
 "metadata": {
  "kernelspec": {
   "display_name": "Python 3 (ipykernel)",
   "language": "python",
   "name": "python3"
  },
  "language_info": {
   "codemirror_mode": {
    "name": "ipython",
    "version": 3
   },
   "file_extension": ".py",
   "mimetype": "text/x-python",
   "name": "python",
   "nbconvert_exporter": "python",
   "pygments_lexer": "ipython3",
   "version": "3.11.9"
  }
 },
 "nbformat": 4,
 "nbformat_minor": 5
}
