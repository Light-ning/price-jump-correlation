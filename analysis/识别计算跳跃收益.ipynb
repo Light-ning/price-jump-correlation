{
 "cells": [
  {
   "cell_type": "markdown",
   "id": "cae4eb46-93f5-4f07-b1d4-580a8970b737",
   "metadata": {},
   "source": [
    "# 识别计算跳跃收益"
   ]
  },
  {
   "cell_type": "markdown",
   "id": "3ebc9230-eb2f-48cc-bf55-4a90ed006cd7",
   "metadata": {},
   "source": [
    "## 导入模块"
   ]
  },
  {
   "cell_type": "code",
   "execution_count": 1,
   "id": "73926c0b-eae3-4efa-9cef-d68e17547141",
   "metadata": {},
   "outputs": [],
   "source": [
    "import numpy as np\n",
    "import pandas as pd\n",
    "from matplotlib import pyplot as plt\n",
    "import feather\n",
    "import math"
   ]
  },
  {
   "cell_type": "markdown",
   "id": "6ddad00b-aa9c-4f0d-a0b2-e80c91d5c6f3",
   "metadata": {},
   "source": [
    "## 读入测试数据"
   ]
  },
  {
   "cell_type": "markdown",
   "id": "e7f64e1f-ae06-470b-bcb9-13c3c873f400",
   "metadata": {},
   "source": [
    "## 定义跳跃统计量"
   ]
  },
  {
   "cell_type": "markdown",
   "id": "fadbda6b-6aba-4855-8560-8414080cc82b",
   "metadata": {},
   "source": [
    "## 识别跳跃, 计算收益"
   ]
  }
 ],
 "metadata": {
  "kernelspec": {
   "display_name": "Python 3 (ipykernel)",
   "language": "python",
   "name": "python3"
  },
  "language_info": {
   "codemirror_mode": {
    "name": "ipython",
    "version": 3
   },
   "file_extension": ".py",
   "mimetype": "text/x-python",
   "name": "python",
   "nbconvert_exporter": "python",
   "pygments_lexer": "ipython3",
   "version": "3.11.9"
  }
 },
 "nbformat": 4,
 "nbformat_minor": 5
}
