{
 "cells": [
  {
   "cell_type": "markdown",
   "id": "cae4eb46-93f5-4f07-b1d4-580a8970b737",
   "metadata": {},
   "source": [
    "# 识别计算跳跃收益"
   ]
  },
  {
   "cell_type": "markdown",
   "id": "3ebc9230-eb2f-48cc-bf55-4a90ed006cd7",
   "metadata": {},
   "source": [
    "## 导入模块"
   ]
  },
  {
   "cell_type": "code",
   "execution_count": 60,
   "id": "73926c0b-eae3-4efa-9cef-d68e17547141",
   "metadata": {},
   "outputs": [],
   "source": [
    "import numpy as np\n",
    "import pandas as pd\n",
    "from matplotlib import pyplot as plt\n",
    "import feather\n",
    "import math\n",
    "from scipy import stats"
   ]
  },
  {
   "cell_type": "markdown",
   "id": "6ddad00b-aa9c-4f0d-a0b2-e80c91d5c6f3",
   "metadata": {},
   "source": [
    "## 读入测试数据"
   ]
  },
  {
   "cell_type": "code",
   "execution_count": 41,
   "id": "16d51770-b8ad-4658-a165-cc194ad8fac1",
   "metadata": {},
   "outputs": [],
   "source": [
    "price_1m = feather.read_dataframe('../data/2024/StockPriceK1m_20240102.feather')\n",
    "price_1m['date'] = pd.to_datetime(price_1m['date'])\n",
    "price_1d = feather.read_dataframe('../data/StockPriceK1d_20240630.feather')\n",
    "price_1d['date'] = pd.to_datetime(price_1d['date'])"
   ]
  },
  {
   "cell_type": "code",
   "execution_count": 51,
   "id": "6a1416cd-7087-44b0-bf73-5176ed3363ed",
   "metadata": {},
   "outputs": [],
   "source": [
    "issue = '000001'\n",
    "price_1m = price_1m.loc[price_1m['issue'] == issue]\n",
    "start_price = price_1m.loc[price_1m['time'] % 500 == 0, 'open'].to_numpy()\n",
    "end_price = price_1m.loc[price_1m['time'] % 500 == 400, 'open'].to_numpy()\n",
    "\n",
    "idx_d1 = (price_1d['issue'] == issue) &(price_1d['date'] == '20240102')\n",
    "idx_d2 = (price_1d['issue'] == issue) &(price_1d['date'] == '20240103')\n",
    "start_price = np.append(start_price, price_1d.loc[idx_d1, 'close'].to_numpy())\n",
    "end_price = np.append(end_price, price_1d.loc[idx_d2, 'open'].to_numpy())\n",
    "\n",
    "ret = (end_price - start_price) / start_price\n",
    "log_ret = np.log(1 + ret)"
   ]
  },
  {
   "cell_type": "markdown",
   "id": "e7f64e1f-ae06-470b-bcb9-13c3c873f400",
   "metadata": {},
   "source": [
    "## 定义跳跃统计量"
   ]
  },
  {
   "cell_type": "code",
   "execution_count": 68,
   "id": "c8b36b5b-3876-4956-af35-f20777d36c2e",
   "metadata": {},
   "outputs": [
    {
     "data": {
      "text/plain": [
       "np.float64(4.517460342462069e-06)"
      ]
     },
     "execution_count": 68,
     "metadata": {},
     "output_type": "execute_result"
    }
   ],
   "source": [
    "def mu(p: float):\n",
    "    return (2 ** (p / 2)) * math.gamma((p + 1) / 2) / np.sqrt(np.pi)\n",
    "\n",
    "def Omega_SwV(log_ret):\n",
    "    abs_log_ret = np.abs(log_ret)\n",
    "    prod_log_ret = (abs_log_ret[:-5] * \n",
    "                    abs_log_ret[1:-4] *\n",
    "                    abs_log_ret[2:-3] *\n",
    "                    abs_log_ret[3:-2] *\n",
    "                    abs_log_ret[4:-1] *\n",
    "                    abs_log_ret[5:])\n",
    "    sum_prod = prod_log_ret.sum()\n",
    "    n = len(log_ret)\n",
    "    coef = (mu(6) / 9) * ((n ** 3) * (mu(1) ** -6) / (n - 5))\n",
    "    return coef * sum_prod\n",
    "\n",
    "def V_01(log_ret):\n",
    "    abs_log_ret = np.abs(log_ret)\n",
    "    prod_log_ret = abs_log_ret[:-1] * abs_log_ret[1]\n",
    "    sum_prod = prod_log_ret.sum()\n",
    "    coef = 1 / mu(1)\n",
    "    return coef * sum_prod\n",
    "\n",
    "def RV_N(log_ret):\n",
    "    return (log_ret * log_ret).sum()\n",
    "\n",
    "def SwV_N(ret, log_ret):\n",
    "    return 2 * (ret - log_ret).sum()\n",
    "\n",
    "def JS(ret, log_ret):\n",
    "    n = len(ret)\n",
    "    js = n * (V_01(log_ret) / np.sqrt(Omega_SwV(log_ret))) * (1 - RV_N(log_ret) / SwV_N(ret, log_ret))\n",
    "    return js\n",
    "\n",
    "def pvalue(js: float):\n",
    "    cdf = stats.norm.cdf(js, loc=0, scale=1)\n",
    "    return 2 * min(cdf, 1 - cdf)\n",
    "\n",
    "js = JS(ret, log_ret)\n",
    "pvalue(js)"
   ]
  },
  {
   "cell_type": "markdown",
   "id": "fadbda6b-6aba-4855-8560-8414080cc82b",
   "metadata": {},
   "source": [
    "## 识别跳跃, 计算收益"
   ]
  },
  {
   "cell_type": "code",
   "execution_count": 89,
   "id": "14fe7a69-baa1-48ad-a7dd-b27a82f01ee1",
   "metadata": {},
   "outputs": [
    {
     "name": "stdout",
     "output_type": "stream",
     "text": [
      "True\n",
      "-0.0042689499195760015\n"
     ]
    }
   ],
   "source": [
    "def jump_identify(ret, log_ret):\n",
    "    n = len(ret)\n",
    "    jump = np.full(n, False, dtype=bool)\n",
    "    med = np.median(ret)\n",
    "    log_med = np.median(log_ret)\n",
    "    ret_c = ret.copy()\n",
    "    log_ret_c = log_ret.copy()\n",
    "    js0 = JS(ret_c, log_ret_c)\n",
    "    p = pvalue(js0)\n",
    "    \n",
    "    while (p < 0.05):\n",
    "        js = np.zeros(n)\n",
    "        for i in range(n):\n",
    "            r = ret_c.copy()\n",
    "            lr = log_ret_c.copy()\n",
    "            r[i] = med\n",
    "            lr[i] = log_med\n",
    "            js[i] = JS(r, lr)\n",
    "        js_diff = np.abs(js0) - np.abs(js)\n",
    "        idx_max = np.argmax(js_diff)\n",
    "        jump[idx_max] = True\n",
    "        ret_c[idx_max] = med\n",
    "        log_ret_c[idx_max] = log_med\n",
    "        js0 = JS(ret_c, log_ret_c)\n",
    "        p = pvalue(js0)\n",
    "\n",
    "    return np.any(jump), log_ret[jump].sum()"
   ]
  }
 ],
 "metadata": {
  "kernelspec": {
   "display_name": "Python 3 (ipykernel)",
   "language": "python",
   "name": "python3"
  },
  "language_info": {
   "codemirror_mode": {
    "name": "ipython",
    "version": 3
   },
   "file_extension": ".py",
   "mimetype": "text/x-python",
   "name": "python",
   "nbconvert_exporter": "python",
   "pygments_lexer": "ipython3",
   "version": "3.11.9"
  }
 },
 "nbformat": 4,
 "nbformat_minor": 5
}
