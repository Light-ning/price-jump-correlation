{
 "cells": [
  {
   "cell_type": "markdown",
   "id": "cae4eb46-93f5-4f07-b1d4-580a8970b737",
   "metadata": {},
   "source": [
    "# 识别计算跳跃收益"
   ]
  },
  {
   "cell_type": "markdown",
   "id": "3ebc9230-eb2f-48cc-bf55-4a90ed006cd7",
   "metadata": {},
   "source": [
    "## 导入模块"
   ]
  },
  {
   "cell_type": "code",
   "execution_count": 1,
   "id": "73926c0b-eae3-4efa-9cef-d68e17547141",
   "metadata": {},
   "outputs": [],
   "source": [
    "import numpy as np\n",
    "import pandas as pd\n",
    "import matplotlib\n",
    "from matplotlib import pyplot as plt\n",
    "import feather\n",
    "import math\n",
    "from scipy import stats\n",
    "from tqdm.notebook import tqdm\n",
    "import os\n",
    "%load_ext line_profiler\n",
    "matplotlib.use('Agg')"
   ]
  },
  {
   "cell_type": "markdown",
   "id": "6ddad00b-aa9c-4f0d-a0b2-e80c91d5c6f3",
   "metadata": {},
   "source": [
    "## 读入测试数据"
   ]
  },
  {
   "cell_type": "code",
   "execution_count": 2,
   "id": "16d51770-b8ad-4658-a165-cc194ad8fac1",
   "metadata": {},
   "outputs": [],
   "source": [
    "price_1m = feather.read_dataframe('../data/StockPriceK1m/2024/StockPriceK1m_20240820.feather')\n",
    "price_1m['date'] = pd.to_datetime(price_1m['date'].astype(str))\n",
    "price_1d = feather.read_dataframe('../data/StockPriceK1d_20241231.feather')\n",
    "price_1d['date'] = pd.to_datetime(price_1d['date'])"
   ]
  },
  {
   "cell_type": "markdown",
   "id": "3820b12a-8c96-47dc-8114-f5382a218b76",
   "metadata": {},
   "source": [
    "## 处理筛选日线数据"
   ]
  },
  {
   "cell_type": "markdown",
   "id": "a4094420-2f38-4ef1-aff0-0def842ea2e3",
   "metadata": {},
   "source": [
    "剔除上市不足 180 天、停牌、涨停股票"
   ]
  },
  {
   "cell_type": "code",
   "execution_count": 3,
   "id": "72fc9d75-cfaf-47e1-90db-ac966b11f90d",
   "metadata": {},
   "outputs": [],
   "source": [
    "# def IPO_time(price_1d, timedelta='180D'):\n",
    "#     start_date = price_1d['date'].min()\n",
    "#     idx_ipo = price_1d['date'] >= start_date + pd.Timedelta(timedelta)\n",
    "#     return price_1d[idx_ipo]\n",
    "\n",
    "# price_1d = price_1d.groupby('issue').apply(IPO_time)\n",
    "# price_1d = price_1d[(~price_1d['is_limit_buy'].astype(bool)) & (~price_1d['is_limit_sell'].astype(bool))]"
   ]
  },
  {
   "cell_type": "code",
   "execution_count": 4,
   "id": "054195a9-88e8-48ef-b7b1-8d9ab62a2ae3",
   "metadata": {},
   "outputs": [],
   "source": [
    "idx_date = (price_1d['date'] >= '2019-01-01') & (price_1d['date'] <= '2024-12-31')\n",
    "price_1d = price_1d[idx_date]\n",
    "price_1d = price_1d.set_index(['issue', 'date'])"
   ]
  },
  {
   "cell_type": "markdown",
   "id": "e7f64e1f-ae06-470b-bcb9-13c3c873f400",
   "metadata": {},
   "source": [
    "## 定义跳跃统计量"
   ]
  },
  {
   "cell_type": "code",
   "execution_count": 5,
   "id": "c8b36b5b-3876-4956-af35-f20777d36c2e",
   "metadata": {},
   "outputs": [],
   "source": [
    "def mu(p: float):\n",
    "    return (2 ** (p / 2)) * math.gamma((p + 1) / 2) / np.sqrt(np.pi)\n",
    "\n",
    "mu1 = mu(1)\n",
    "mu6 = mu(6)\n",
    "\n",
    "def JS(ret, log_ret):\n",
    "    n_series, n_points = ret.shape\n",
    "    abs_log_ret = np.abs(log_ret)\n",
    "    \n",
    "    window_size = 6\n",
    "    windows = np.lib.stride_tricks.sliding_window_view(\n",
    "        abs_log_ret, window_shape=window_size, axis=1\n",
    "    )\n",
    "    prod_6 = np.prod(windows, axis=-1)\n",
    "    sum_prod_6 = np.sum(prod_6, axis=1)\n",
    "    coef_Omega = (mu6 / 9) * ((n_points ** 3) * (mu1 ** -6) / (n_points - 5))\n",
    "    Omega_SwV = coef_Omega * sum_prod_6\n",
    "    \n",
    "    window_size_2 = 2\n",
    "    windows_2 = np.lib.stride_tricks.sliding_window_view(\n",
    "        abs_log_ret, window_shape=window_size_2, axis=1\n",
    "    )\n",
    "    prod_2 = np.prod(windows_2, axis=-1)\n",
    "    sum_prod_2 = np.sum(prod_2, axis=1)\n",
    "    coef_V = 1 / (mu1 ** 2)\n",
    "    V_01 = coef_V * sum_prod_2\n",
    "    \n",
    "    RV_N = np.sum(log_ret ** 2, axis=1)\n",
    "    SwV_N = 2 * np.sum(ret - log_ret, axis=1)\n",
    "    \n",
    "    valid_mask = (Omega_SwV != 0) & (SwV_N != 0)\n",
    "    js = np.full(n_series, np.nan)\n",
    "    if np.any(valid_mask):\n",
    "        valid_idx = np.where(valid_mask)[0]\n",
    "        js[valid_idx] = n_points * (V_01[valid_idx] / np.sqrt(Omega_SwV[valid_idx])) * (1 - RV_N[valid_idx] / SwV_N[valid_idx])\n",
    "    \n",
    "    return js[0] if n_series == 1 else js\n",
    "\n",
    "def pvalue(js: float):\n",
    "    cdf = stats.norm.cdf(js, loc=0, scale=1)\n",
    "    return 2 * min(cdf, 1 - cdf)"
   ]
  },
  {
   "cell_type": "code",
   "execution_count": 6,
   "id": "46b247fe-4b3f-4b35-8208-ad3a5db50bcd",
   "metadata": {},
   "outputs": [],
   "source": [
    "def JS2(ret, log_ret):\n",
    "    n = len(ret)\n",
    "    abs_log_ret = np.abs(log_ret)\n",
    "    \n",
    "    coef_Omega = (mu6 / 9) * ((n ** 3) * (mu1 ** -6) / (n - 5))\n",
    "    prod_6 = (\n",
    "        abs_log_ret[:-5] * \n",
    "        abs_log_ret[1:-4] * \n",
    "        abs_log_ret[2:-3] * \n",
    "        abs_log_ret[3:-2] * \n",
    "        abs_log_ret[4:-1] * \n",
    "        abs_log_ret[5:]\n",
    "    )\n",
    "    sum_prod_6 = prod_6.sum()\n",
    "    Omega_SwV = coef_Omega * sum_prod_6\n",
    "    \n",
    "    coef_V = 1 / (mu1 ** 2)\n",
    "    prod2 = abs_log_ret[:-1] * abs_log_ret[1:]\n",
    "    sum_prod_2 = prod2.sum()\n",
    "    V_01 = coef_V * sum_prod_2\n",
    "    \n",
    "    RV_N = (log_ret * log_ret).sum()\n",
    "    SwV_N = 2 * (ret - log_ret).sum()\n",
    "\n",
    "    print(f'V_01 = {V_01}')\n",
    "    print(f'Omage_SwV = {Omega_SwV}')\n",
    "    print(f'RV_N = {RV_N}')\n",
    "    print(f'SwV_N = {SwV_N}')\n",
    "    print(f'V_01 / np.sqrt(Omega_SwV) = {V_01 / np.sqrt(Omega_SwV)}')\n",
    "    print(f'1 - (RV_N / SwV_N) = {1 - (RV_N / SwV_N)}')\n",
    "    print(f'JS = {n * (V_01 / np.sqrt(Omega_SwV)) * (1 - (RV_N / SwV_N))}')\n",
    "    plt.plot(log_ret)\n",
    "    plt.gca().set_box_aspect(0.5)\n",
    "    plt.show()\n",
    "    if (Omega_SwV != 0) and (SwV_N != 0):\n",
    "        return n * (V_01 / np.sqrt(Omega_SwV)) * (1 - (RV_N / SwV_N))\n",
    "    else:\n",
    "        return np.nan"
   ]
  },
  {
   "cell_type": "markdown",
   "id": "fadbda6b-6aba-4855-8560-8414080cc82b",
   "metadata": {},
   "source": [
    "## 识别跳跃, 计算收益"
   ]
  },
  {
   "cell_type": "code",
   "execution_count": 7,
   "id": "14fe7a69-baa1-48ad-a7dd-b27a82f01ee1",
   "metadata": {},
   "outputs": [],
   "source": [
    "def jump_identify(ret, log_ret, plot=False):\n",
    "    n = len(ret)\n",
    "    jump = np.full(n, False, dtype=bool)\n",
    "    # med = np.median(ret)\n",
    "    # log_med = np.median(log_ret)\n",
    "    ret_c = ret.copy()\n",
    "    log_ret_c = log_ret.copy()\n",
    "    js0 = JS(ret_c.reshape(1, n), log_ret_c.reshape(1, n))\n",
    "    # js0 = JS2(ret_c, log_ret_c)\n",
    "    p = pvalue(js0)\n",
    "    js0_pre = js0\n",
    "    \n",
    "    while (p < 0.05):\n",
    "        med = np.median(ret_c)\n",
    "        log_med = np.median(log_ret_c)\n",
    "        \n",
    "        ret_mat = np.tile(ret_c, (n, 1))\n",
    "        log_ret_mat = np.tile(log_ret_c, (n, 1))\n",
    "        np.fill_diagonal(ret_mat, med)\n",
    "        np.fill_diagonal(log_ret_mat, log_med)\n",
    "        js = JS(ret_mat, log_ret_mat)\n",
    "        # js = np.array([], dtype=float)\n",
    "        # print(med, log_med)\n",
    "        # for i in range(n):\n",
    "        #     print(i)\n",
    "        #     ret_med = ret_c.copy()\n",
    "        #     ret_med[i] = med\n",
    "        #     log_ret_med = log_ret_c.copy()\n",
    "        #     log_ret_med[i] = log_med\n",
    "        #     jsi = JS2(ret_med, log_ret_med)\n",
    "        #     js = np.append(js, jsi)\n",
    "        \n",
    "        js_diff = np.abs(js0) - np.abs(js)\n",
    "        # js_diff = np.abs(js0 - js)\n",
    "        idx_max = np.nanargmax(js_diff)\n",
    "        jump[idx_max] = True\n",
    "        ret_c[idx_max] = med\n",
    "        log_ret_c[idx_max] = log_med\n",
    "        js0 = JS(ret_c.reshape(1, n), log_ret_c.reshape(1, n))\n",
    "        # js0 = JS2(ret_c, log_ret_c)\n",
    "        p = pvalue(js0)\n",
    "        if js0 == js0_pre:\n",
    "            break\n",
    "        js0_pre = js0\n",
    "\n",
    "    if plot:\n",
    "        ax0 = plt.gcf().axes[0]\n",
    "        ax1 = plt.gcf().axes[1]\n",
    "        for i in range(len(jump)):\n",
    "            if jump[i]:\n",
    "                color = 'red' if log_ret[i] >= 0 else 'green'\n",
    "                ax0.axvspan(i - 0.5, i + 0.5, color=color, alpha=0.5)\n",
    "                ax1.axvspan(i - 0.5, i + 0.5, color=color, alpha=0.5)\n",
    "\n",
    "    ret_jump = log_ret[jump].sum()\n",
    "    ret_nojump = log_ret[~jump].sum()\n",
    "    ret_posjump = log_ret[jump & (log_ret > 0)].sum()\n",
    "    ret_negjump = log_ret[jump & (log_ret < 0)].sum()\n",
    "    return np.any(jump), ret_jump, ret_nojump, ret_posjump, ret_negjump"
   ]
  },
  {
   "cell_type": "code",
   "execution_count": 8,
   "id": "dd77450f-ecb5-40c2-b5df-038717b33a0a",
   "metadata": {},
   "outputs": [],
   "source": [
    "time_start = np.append(np.arange(93000, 113000, 500), np.arange(130000, 150000, 500))\n",
    "time_start = time_start[np.where(time_start % 10000 < 6000)]\n",
    "time_end =  time_start + 400\n",
    "\n",
    "def jump_identify_price(price_1m, price_1d, date, date_next, plot=False, dirname=None):\n",
    "    issue = price_1m.iloc[0]['issue']\n",
    "    prc = price_1m.copy()\n",
    "    start_price = prc.loc[price_1m['time'].isin(time_start), 'open'].to_numpy()\n",
    "    end_price = prc.loc[price_1m['time'].isin(time_end), 'close'].to_numpy()\n",
    "\n",
    "    try:\n",
    "        adj_today = price_1d.loc[(issue, date), 'adj']\n",
    "        adj_next = price_1d.loc[(issue, date_next), 'adj']\n",
    "        start_price = start_price * adj_today\n",
    "        end_price = end_price * adj_today\n",
    "        close_today = price_1d.loc[(issue, date), 'close'] * adj_today\n",
    "        open_next = price_1d.loc[(issue, date_next), 'open'] * adj_next\n",
    "    except KeyError:\n",
    "        df_jump = pd.DataFrame({\n",
    "            'issue': [issue], 'date': [date], 'jump': [False], 'ret_jump': [0.],\n",
    "            'ret_nojump': [0.], 'ret_posjump': [0.], 'ret_negjump': [0.]\n",
    "        })\n",
    "        return df_jump\n",
    "        \n",
    "    start_price = np.append(start_price, close_today)\n",
    "    end_price = np.append(end_price, open_next)\n",
    "    \n",
    "    ret = (end_price - start_price) / start_price\n",
    "    log_ret = np.log(1 + ret)\n",
    "\n",
    "    if plot:\n",
    "        fig, (ax0, ax1) = plt.subplots(2, 1, sharex=True)\n",
    "        fig.subplots_adjust(hspace=0)\n",
    "        xticks = np.append((time_start[::2] / 100).astype(int).astype(str), 'next_day')\n",
    "        for i, sp, ep in zip(range(len(start_price)), start_price, end_price):\n",
    "            color = 'red' if ep >= sp else 'green'\n",
    "            ax0.plot([i, i], [sp, ep], color=color, linewidth=5)\n",
    "            ax0.set_ylabel('Price_hfq')\n",
    "        ax1.plot(log_ret)\n",
    "        ax1.set_ylabel('Ret')\n",
    "        plt.xticks(np.arange(0, 49, 2), xticks, rotation=90)\n",
    "        plt.xlabel('Time')\n",
    "        date_str = date.strftime('%Y%m%d')\n",
    "        fig.suptitle(f'price, rets, and jumps in stock {issue} {date_str}')\n",
    "\n",
    "    flag_jump, ret_jump, ret_nojump, ret_posjump, ret_negjump = jump_identify(ret, log_ret, plot)\n",
    "\n",
    "    if plot:\n",
    "        if dirname != None:\n",
    "            plt.savefig(dirname + f'/{issue}_{date_str}.png')\n",
    "            plt.close()\n",
    "        else:\n",
    "            plt.show()\n",
    "        plt.cla()\n",
    "        plt.clf()\n",
    "        plt.close(\"all\")\n",
    "            \n",
    "    df_jump = pd.DataFrame({\n",
    "        'issue': [issue], 'date': [date], 'jump': [flag_jump], 'ret_jump': [ret_jump],\n",
    "        'ret_nojump': [ret_nojump], 'ret_posjump': [ret_posjump], 'ret_negjump': [ret_negjump]\n",
    "    })\n",
    "    return df_jump\n",
    "\n",
    "def jump_identify_parallel(price_1m, price_1d, date, date_next):\n",
    "    groups = list(price_1m.groupby('issue'))\n",
    "    total_groups = len(groups)\n",
    "    \n",
    "    results = Parallel(n_jobs=-1, backend='loky')(\n",
    "        delayed(jump_identify_price)(group[1], price_1d, '2024-01-02', '2024-01-03')\n",
    "        for group in tqdm(groups, total=total_groups, desc=\"Processing stocks\")\n",
    "    )\n",
    "    \n",
    "    return pd.concat(results)"
   ]
  },
  {
   "cell_type": "markdown",
   "id": "fb84e5e0-ccd0-4bc9-8c1a-706fc6876d3d",
   "metadata": {},
   "source": [
    "## 检查"
   ]
  },
  {
   "cell_type": "markdown",
   "id": "78e3a57a-e349-4762-9fa1-79f43e996b48",
   "metadata": {},
   "source": [
    "### 画图检查"
   ]
  },
  {
   "cell_type": "code",
   "execution_count": null,
   "id": "7c0d568d-7ac3-446a-9025-97d769fe1bb7",
   "metadata": {},
   "outputs": [],
   "source": [
    "# issues_tocheck = ['300556', '001288', '001360', '002434', '002625', '002795', '002797', '002801', '003026', '300016']\n",
    "date = pd.to_datetime('2024-08-20')\n",
    "date_next = pd.to_datetime('2024-08-21')\n",
    "year = date.year\n",
    "date_str = date.strftime('%Y%m%d')\n",
    "price_1m = feather.read_dataframe(f'../data/StockPriceK1m/{year}/StockPriceK1m_{date_str}.feather')\n",
    "\n",
    "dirname = '../data/jump_plot/abs_sub/'\n",
    "os.makedirs(dirname, exist_ok=True)\n",
    "df_jump = price_1m.groupby('issue')[['issue', 'time', 'open', 'close']].apply(\n",
    "    jump_identify_price,\n",
    "    price_1d=price_1d,\n",
    "    date=date, date_next=date_next,\n",
    "    plot=True, dirname=dirname\n",
    ")"
   ]
  },
  {
   "cell_type": "markdown",
   "id": "9a5e21d4-0e39-4d11-97e4-9e0313b6123d",
   "metadata": {},
   "source": [
    "### 检查"
   ]
  },
  {
   "cell_type": "code",
   "execution_count": null,
   "id": "af7ac129-f43b-4755-b555-3498576d6fda",
   "metadata": {},
   "outputs": [],
   "source": [
    "# time_series = price_1d.index.get_level_values('date')\n",
    "# time_series = time_series.unique().sort_values()\n",
    "# time_series = time_series[(time_series >= '2020-02-01') & (time_series <= '2020-03-01')]\n",
    "\n",
    "# issue = '600390'\n",
    "# os.makedirs(f'../data/check/{issue}/', exist_ok=True)\n",
    "# tqdm_time_series = tqdm(zip(time_series[:-1],time_series[1:]),\n",
    "#                         total=len(time_series) - 1, desc='Processing Daily Stocks', unit='days')\n",
    "# ret_jump = 0.\n",
    "# for date, date_next in tqdm_time_series:\n",
    "#     year = date.year\n",
    "#     date_str = date.strftime('%Y%m%d')\n",
    "#     price_1m = feather.read_dataframe(f'../data/StockPriceK1m/{year}/StockPriceK1m_{date_str}.feather')\n",
    "#     price_1m = price_1m[price_1m['issue'] == issue]\n",
    "#     df_jump = jump_identify_price(price_1m, price_1d, date, date_next, plot=True, figname=f'../data/check/{issue}/{date_str}.png')\n",
    "#     ret_jump_daily = df_jump.iloc[0]['ret_jump']\n",
    "#     ret_jump += ret_jump_daily\n",
    "# ret_jump"
   ]
  },
  {
   "cell_type": "markdown",
   "id": "db55f9dd-ca77-4894-be83-b098098b7714",
   "metadata": {},
   "source": [
    "## 性能测试"
   ]
  },
  {
   "cell_type": "markdown",
   "id": "77855fd4-8295-4e8d-a1c4-05884a460316",
   "metadata": {},
   "source": [
    "### 单公司单日性能测试"
   ]
  },
  {
   "cell_type": "code",
   "execution_count": null,
   "id": "019afc6c-bbaf-41ca-aeba-8ddfd6762673",
   "metadata": {},
   "outputs": [],
   "source": [
    "# prc = price_1m.loc[price_1m['issue'] == '301486']\n",
    "# date = '2024-08-20'\n",
    "# date_next = '2024-08-21'\n",
    "# %timeit -n 10 -r 3 jump_identify_price(prc, price_1d, date, date_next)"
   ]
  },
  {
   "cell_type": "markdown",
   "id": "0d170892-1e9b-413b-ad29-a76a9894ffa2",
   "metadata": {},
   "source": [
    "逐行运行时间"
   ]
  },
  {
   "cell_type": "code",
   "execution_count": null,
   "id": "864668e2-92ed-4f76-937a-d610d3c382de",
   "metadata": {},
   "outputs": [],
   "source": [
    "# prc = price_1m.loc[price_1m['issue'] == '301486']\n",
    "# date = '2024-08-20'\n",
    "# date_next = '2024-08-21'\n",
    "# %lprun -f jump_identify_price jump_identify_price(prc, price_1d, date, date_next)"
   ]
  },
  {
   "cell_type": "markdown",
   "id": "588dcb81-16f4-4232-be23-fe7102a1e4b7",
   "metadata": {},
   "source": [
    "### 单线程 / 并行性能测试"
   ]
  },
  {
   "cell_type": "markdown",
   "id": "4156daa1-408f-4c41-b214-df10821c4103",
   "metadata": {},
   "source": [
    "apply 单线程运算\n",
    "\n",
    "速度: 9.02s / 5096 公司"
   ]
  },
  {
   "cell_type": "code",
   "execution_count": null,
   "id": "e1d11087-4866-4f93-aa2c-f675846ab937",
   "metadata": {},
   "outputs": [],
   "source": [
    "# %%time\n",
    "# df_jump = price_1m.groupby('issue')[['issue', 'time', 'open', 'close']].apply(\n",
    "#     jump_identify_price,\n",
    "#     price_1d=price_1d,\n",
    "#     date='2019-01-02',\n",
    "#     date_next='2019-01-03'\n",
    "# )"
   ]
  },
  {
   "cell_type": "markdown",
   "id": "f5e931da-23c0-4cd5-bf8a-8731abd629c8",
   "metadata": {},
   "source": [
    "使用 swifter 提速\n",
    "\n",
    "速度: 6.03s / 5096 公司"
   ]
  },
  {
   "cell_type": "code",
   "execution_count": null,
   "id": "c373eb18-6ca5-4b64-a23d-5237b0593e24",
   "metadata": {},
   "outputs": [],
   "source": [
    "# %%time\n",
    "# df_jump = price_1m.swifter.groupby('issue')[['issue', 'time', 'open', 'close']].apply(\n",
    "#     jump_identify_price,\n",
    "#     price_1d=price_1d,\n",
    "#     date='2019-01-02',\n",
    "#     date_next='2019-01-03'\n",
    "# )"
   ]
  },
  {
   "cell_type": "markdown",
   "id": "627f3ebe-822c-4bfc-bb57-cf9a2b9f2f07",
   "metadata": {},
   "source": [
    "使用 joblib 并行运算\n",
    "\n",
    "速度：18min4s / 5096 公司"
   ]
  },
  {
   "cell_type": "code",
   "execution_count": null,
   "id": "7f478206-ac08-4ff7-be9d-264e4831bf82",
   "metadata": {},
   "outputs": [],
   "source": [
    "# %%time\n",
    "# df_jump = jump_identify_parallel(price_1m, price_1d, '2024-01-02', '2024-01-03')"
   ]
  },
  {
   "cell_type": "markdown",
   "id": "25c4ca3c-9e41-470a-84a0-3cb46d6e7b6d",
   "metadata": {},
   "source": [
    "## 读入分钟行情, 保存每日股价跳跃信息"
   ]
  },
  {
   "cell_type": "code",
   "execution_count": null,
   "id": "1880e3b7-6a39-4ba2-b573-c4484eeba184",
   "metadata": {},
   "outputs": [],
   "source": [
    "time_series = price_1d.index.get_level_values('date')\n",
    "time_series = time_series.unique().sort_values()\n",
    "time_series = time_series[time_series >= '2024-10-11']\n",
    "tqdm_time_series = tqdm(zip(time_series[:-1],time_series[1:]),\n",
    "                        total=len(time_series) - 1, desc='Processing Daily Stocks', unit='days')\n",
    "\n",
    "plot_date = pd.to_datetime('2025-01-01')\n",
    "for date, date_next in tqdm_time_series:\n",
    "    year = date.year\n",
    "    date_str = date.strftime('%Y%m%d')\n",
    "    os.makedirs(f'../data/jump/{year}/', exist_ok=True)\n",
    "    price_1m = feather.read_dataframe(f'../data/StockPriceK1m/{year}/StockPriceK1m_{date_str}.feather')\n",
    "    \n",
    "    if date == plot_date:\n",
    "        plot = True\n",
    "        dirname = f'../data/jump/{year}/'\n",
    "    else:\n",
    "        plot = False\n",
    "        dirname = None\n",
    "        \n",
    "    df_jump = price_1m.groupby('issue')[['issue', 'time', 'open', 'close']].apply(\n",
    "        jump_identify_price,\n",
    "        price_1d=price_1d,\n",
    "        date=date, date_next=date_next,\n",
    "        plot=plot, dirname=dirname\n",
    "    )\n",
    "    df_jump = df_jump.reset_index(drop=True)\n",
    "\n",
    "    feather.write_dataframe(df_jump, f'../data/jump/{year}/jump_{date_str}.feather')"
   ]
  },
  {
   "cell_type": "code",
   "execution_count": null,
   "id": "69ac7287-594a-4305-b163-23fa2803f986",
   "metadata": {},
   "outputs": [],
   "source": [
    "time_series = price_1d.index.get_level_values('date')\n",
    "time_series = time_series.unique().sort_values()\n",
    "jump = None\n",
    "for date in time_series[:-1]:\n",
    "    year = date.year\n",
    "    date_str = date.strftime('%Y%m%d')\n",
    "    jump_daily = feather.read_dataframe(f'../data/jump/{year}/jump_{date_str}.feather')\n",
    "    jump = pd.concat([jump, jump_daily])\n",
    "jump = jump[jump['jump']]\n",
    "jump['year_mon'] = jump['date'].dt.year * 100 + jump['date'].dt.month\n",
    "jump = jump.sort_values(['issue', 'date'])\n",
    "jump = jump.reset_index(drop=True)\n",
    "feather.write_dataframe(jump, '../data/jump/jump.feather')"
   ]
  }
 ],
 "metadata": {
  "kernelspec": {
   "display_name": "Python 3 (ipykernel)",
   "language": "python",
   "name": "python3"
  },
  "language_info": {
   "codemirror_mode": {
    "name": "ipython",
    "version": 3
   },
   "file_extension": ".py",
   "mimetype": "text/x-python",
   "name": "python",
   "nbconvert_exporter": "python",
   "pygments_lexer": "ipython3",
   "version": "3.11.9"
  }
 },
 "nbformat": 4,
 "nbformat_minor": 5
}
