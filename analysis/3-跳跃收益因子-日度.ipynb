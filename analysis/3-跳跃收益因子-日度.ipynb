{
 "cells": [
  {
   "cell_type": "markdown",
   "id": "aad27419-96e2-4c56-9dfb-e374a42200ba",
   "metadata": {},
   "source": [
    "# 跳跃收益因子"
   ]
  },
  {
   "cell_type": "markdown",
   "id": "0f550155-8832-4477-b190-9963a7d93d1d",
   "metadata": {},
   "source": [
    "## 导入模块"
   ]
  },
  {
   "cell_type": "code",
   "execution_count": 1,
   "id": "8b93c6e7-bdbb-4e39-9078-31ee52435fa4",
   "metadata": {},
   "outputs": [],
   "source": [
    "import numpy as np\n",
    "import pandas as pd\n",
    "import feather\n",
    "import os\n",
    "from tqdm.notebook import tqdm"
   ]
  },
  {
   "cell_type": "markdown",
   "id": "75c22e4b-742d-4388-a988-fe80e23a6fc6",
   "metadata": {},
   "source": [
    "## 读入数据"
   ]
  },
  {
   "cell_type": "code",
   "execution_count": 2,
   "id": "8eab2fce-9e82-442e-8783-a8c48a2c9c59",
   "metadata": {},
   "outputs": [],
   "source": [
    "jump = feather.read_dataframe('../data/jump/jump.feather')"
   ]
  },
  {
   "cell_type": "markdown",
   "id": "d58fbd3e-7c73-4ab3-a878-50b282499c25",
   "metadata": {},
   "source": [
    "### 交易日历"
   ]
  },
  {
   "cell_type": "code",
   "execution_count": 3,
   "id": "9d1727bc-e4c7-4e38-af91-5db34a56e2ff",
   "metadata": {},
   "outputs": [],
   "source": [
    "trade_date = jump['date'].sort_values().unique()\n",
    "start_date = '2019-01-01'\n",
    "end_date = '2024-05-31'\n",
    "adj_date = trade_date[(trade_date >= start_date) & (trade_date <= end_date)]\n",
    "calc_start_date = np.array([], dtype=np.datetime64)\n",
    "\n",
    "for ad in adj_date:\n",
    "    trade_date_before = trade_date[trade_date <= ad]\n",
    "    if (len(trade_date_before) > 20):\n",
    "        csd = trade_date_before[-20]\n",
    "    else:\n",
    "        csd = trade_date_before[0]\n",
    "    calc_start_date = np.append(calc_start_date, csd)"
   ]
  },
  {
   "cell_type": "markdown",
   "id": "eaa6989d-729b-4ffe-bf8d-8013e0c3a918",
   "metadata": {},
   "source": [
    "## 跳跃收益因子"
   ]
  },
  {
   "cell_type": "code",
   "execution_count": 4,
   "id": "79d6c3f3-af26-4e91-bdd7-7adc50b21bae",
   "metadata": {},
   "outputs": [
    {
     "data": {
      "application/vnd.jupyter.widget-view+json": {
       "model_id": "e08c0c2a9a994661934a4716f6d0498f",
       "version_major": 2,
       "version_minor": 0
      },
      "text/plain": [
       "  0%|          | 0/1312 [00:00<?, ?it/s]"
      ]
     },
     "metadata": {},
     "output_type": "display_data"
    }
   ],
   "source": [
    "ret_jump = None\n",
    "tqdm_date = tqdm(zip(adj_date, calc_start_date), total=len(adj_date))\n",
    "for ad, csd in tqdm_date:\n",
    "    jump_date = jump[(jump['date'] <= ad) & (jump['date'] >= csd)]\n",
    "    ret_jump_date = jump_date.groupby('issue')['ret_jump'].sum().reset_index()\n",
    "    ret_jump_date['date'] = ad\n",
    "    ret_jump = pd.concat([ret_jump, ret_jump_date])\n",
    "    del jump_date, ret_jump_date\n",
    "os.makedirs('../data/ret_jump_daily/', exist_ok=True)\n",
    "feather.write_dataframe(ret_jump, '../data/ret_jump_daily/ret_jump.feather')"
   ]
  }
 ],
 "metadata": {
  "kernelspec": {
   "display_name": "Python 3 (ipykernel)",
   "language": "python",
   "name": "python3"
  },
  "language_info": {
   "codemirror_mode": {
    "name": "ipython",
    "version": 3
   },
   "file_extension": ".py",
   "mimetype": "text/x-python",
   "name": "python",
   "nbconvert_exporter": "python",
   "pygments_lexer": "ipython3",
   "version": "3.11.9"
  }
 },
 "nbformat": 4,
 "nbformat_minor": 5
}
