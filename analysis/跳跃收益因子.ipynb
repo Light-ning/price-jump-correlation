{
 "cells": [
  {
   "cell_type": "markdown",
   "id": "aad27419-96e2-4c56-9dfb-e374a42200ba",
   "metadata": {},
   "source": [
    "# 跳跃收益因子"
   ]
  },
  {
   "cell_type": "markdown",
   "id": "0f550155-8832-4477-b190-9963a7d93d1d",
   "metadata": {},
   "source": [
    "## 导入模块"
   ]
  },
  {
   "cell_type": "code",
   "execution_count": 1,
   "id": "8b93c6e7-bdbb-4e39-9078-31ee52435fa4",
   "metadata": {},
   "outputs": [],
   "source": [
    "import numpy as np\n",
    "import pandas as pd\n",
    "import feather"
   ]
  },
  {
   "cell_type": "markdown",
   "id": "75c22e4b-742d-4388-a988-fe80e23a6fc6",
   "metadata": {},
   "source": [
    "## 读入数据"
   ]
  },
  {
   "cell_type": "code",
   "execution_count": 2,
   "id": "8eab2fce-9e82-442e-8783-a8c48a2c9c59",
   "metadata": {},
   "outputs": [],
   "source": [
    "jump = feather.read_dataframe('../data/jump/jump.feather')"
   ]
  },
  {
   "cell_type": "markdown",
   "id": "d58fbd3e-7c73-4ab3-a878-50b282499c25",
   "metadata": {},
   "source": [
    "### 交易日历"
   ]
  },
  {
   "cell_type": "code",
   "execution_count": 3,
   "id": "9d1727bc-e4c7-4e38-af91-5db34a56e2ff",
   "metadata": {},
   "outputs": [],
   "source": [
    "trade_date = jump['date'].sort_values().unique()\n",
    "mes = pd.date_range(start=trade_date[0], end=trade_date[-1]+pd.DateOffset(months=1), freq='1ME')\n",
    "adj_date = np.array([], dtype=np.datetime64)\n",
    "calc_start_date = np.array([], dtype=np.datetime64)\n",
    "\n",
    "for me in mes:\n",
    "    trade_date_before = trade_date[trade_date <= me]\n",
    "    ad = trade_date_before[-1]\n",
    "    adj_date = np.append(adj_date, ad)\n",
    "    if (len(trade_date_before) > 20):\n",
    "        csd = trade_date_before[-20]\n",
    "    else:\n",
    "        csd = trade_date_before[0]\n",
    "    calc_start_date = np.append(calc_start_date, csd)\n",
    "\n",
    "adj_date[-1] = pd.Timestamp('2024-06-28')"
   ]
  },
  {
   "cell_type": "markdown",
   "id": "eaa6989d-729b-4ffe-bf8d-8013e0c3a918",
   "metadata": {},
   "source": [
    "## 跳跃收益因子"
   ]
  },
  {
   "cell_type": "code",
   "execution_count": 4,
   "id": "79d6c3f3-af26-4e91-bdd7-7adc50b21bae",
   "metadata": {},
   "outputs": [],
   "source": [
    "ret_jump = None\n",
    "for ad, csd in zip(adj_date, calc_start_date):\n",
    "    jump_date = jump[(jump['date'] <= ad) & (jump['date'] >= csd)]\n",
    "    ret_jump_date = jump_date.groupby('issue')['ret_jump'].sum().reset_index()\n",
    "    ret_jump_date['date'] = ad\n",
    "    ret_jump = pd.concat([ret_jump, ret_jump_date])\n",
    "feather.write_dataframe(ret_jump, '../data/ret_jump.feather')"
   ]
  }
 ],
 "metadata": {
  "kernelspec": {
   "display_name": "Python 3 (ipykernel)",
   "language": "python",
   "name": "python3"
  },
  "language_info": {
   "codemirror_mode": {
    "name": "ipython",
    "version": 3
   },
   "file_extension": ".py",
   "mimetype": "text/x-python",
   "name": "python",
   "nbconvert_exporter": "python",
   "pygments_lexer": "ipython3",
   "version": "3.11.9"
  }
 },
 "nbformat": 4,
 "nbformat_minor": 5
}
